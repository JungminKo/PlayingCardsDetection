{
 "cells": [
  {
   "cell_type": "code",
   "execution_count": 1,
   "metadata": {},
   "outputs": [],
   "source": [
    "import numpy as np\n",
    "import cv2\n",
    "import matplotlib.pyplot as plt\n",
    "from numpy import linalg as LA\n",
    "import os\n",
    "import pandas as pd"
   ]
  },
  {
   "cell_type": "code",
   "execution_count": 2,
   "metadata": {},
   "outputs": [],
   "source": [
    "data_loc = '../dataset/'\n",
    "decklist = os.listdir(data_loc)\n",
    "filelist = os.listdir(data_loc+decklist[0]+'/')\n",
    "\n",
    "length = len(decklist)*len(filelist)\n",
    "imgary = np.zeros((length, 120*100))\n",
    "labels = []\n",
    "n=0\n",
    "for i in decklist:\n",
    "    for j in filelist:\n",
    "        tmpimg = cv2.imread(data_loc+i+'/'+j, cv2.IMREAD_GRAYSCALE)\n",
    "        tmpimg = np.reshape(tmpimg, (-1,))\n",
    "        imgary[n] = tmpimg\n",
    "        labels.append(j[:-4])\n",
    "        n+=1"
   ]
  },
  {
   "cell_type": "code",
   "execution_count": 3,
   "metadata": {},
   "outputs": [],
   "source": [
    "labels_pd = pd.DataFrame(labels)"
   ]
  },
  {
   "cell_type": "markdown",
   "metadata": {},
   "source": [
    "## 층화추출"
   ]
  },
  {
   "cell_type": "code",
   "execution_count": 4,
   "metadata": {},
   "outputs": [],
   "source": [
    "from sklearn.model_selection import StratifiedShuffleSplit\n",
    "\n",
    "split = StratifiedShuffleSplit(n_splits=1, test_size=0.2, random_state=42)"
   ]
  },
  {
   "cell_type": "code",
   "execution_count": 5,
   "metadata": {},
   "outputs": [],
   "source": [
    "for train_index, test_index in split.split(imgary, labels_pd):\n",
    "    X_train = imgary[train_index]\n",
    "    y_train = labels_pd.loc[train_index]\n",
    "    X_test = imgary[test_index]\n",
    "    y_test = labels_pd.loc[test_index]"
   ]
  },
  {
   "cell_type": "code",
   "execution_count": 6,
   "metadata": {},
   "outputs": [],
   "source": [
    "y_train = np.array(y_train).reshape(-1,)\n",
    "y_test = np.array(y_test).reshape(-1,)"
   ]
  },
  {
   "cell_type": "code",
   "execution_count": 7,
   "metadata": {},
   "outputs": [
    {
     "name": "stdout",
     "output_type": "stream",
     "text": [
      "총 테스트 개수 : 52, 오류개수 : 29\n",
      "정답률 : 0.442308\n"
     ]
    }
   ],
   "source": [
    "from sklearn.svm import SVC\n",
    "svc_shape_raw = SVC(kernel = 'linear', C=2, gamma = 'auto', random_state=42)\n",
    "svc_shape_raw.fit(X_train, y_train)\n",
    "y_pred = svc_shape_raw.predict(X_test)\n",
    "print('총 테스트 개수 : %d, 오류개수 : %d' %(len(y_test), (y_test !=y_pred).sum()))\n",
    "print('정답률 : %f' %((y_test ==y_pred).sum()/len(y_test)))"
   ]
  },
  {
   "cell_type": "code",
   "execution_count": null,
   "metadata": {},
   "outputs": [],
   "source": [
    "from sklearn.linear_model import LogisticRegression\n",
    "lr_raw = LogisticRegression(solver='liblinear', multi_class='auto', C=100, random_state=42)\n",
    "lr_raw.fit(X_train, y_train)\n",
    "y_pred = lr_raw.predict(X_test)\n",
    "print('총 테스트 개수 : %d, 오류개수 : %d' %(len(y_test), (y_test !=y_pred).sum()))\n",
    "print('정답률 : %f' %((y_test ==y_pred).sum()/len(y_test)))"
   ]
  },
  {
   "cell_type": "code",
   "execution_count": null,
   "metadata": {},
   "outputs": [],
   "source": []
  }
 ],
 "metadata": {
  "kernelspec": {
   "display_name": "Python 3",
   "language": "python",
   "name": "python3"
  },
  "language_info": {
   "codemirror_mode": {
    "name": "ipython",
    "version": 3
   },
   "file_extension": ".py",
   "mimetype": "text/x-python",
   "name": "python",
   "nbconvert_exporter": "python",
   "pygments_lexer": "ipython3",
   "version": "3.7.3"
  }
 },
 "nbformat": 4,
 "nbformat_minor": 2
}
