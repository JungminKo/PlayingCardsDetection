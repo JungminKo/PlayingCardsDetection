{
 "cells": [
  {
   "cell_type": "code",
   "execution_count": 1,
   "metadata": {},
   "outputs": [],
   "source": [
    "import math\n",
    "import numpy as np\n",
    "import cv2, os\n",
    "import pandas as pd\n",
    "from numpy import linalg as LA\n",
    "import matplotlib.pyplot as plt"
   ]
  },
  {
   "cell_type": "code",
   "execution_count": 2,
   "metadata": {},
   "outputs": [],
   "source": [
    "def pca(D, pca_num=20):\n",
    "    L = np.dot(D, D.T)\n",
    "    w, v = LA.eig(L)\n",
    "\n",
    "    # 고유값 0인거 제거    \n",
    "    zero_eigen = [i for i in range(len(w)) if abs(w[i]) <1e-4]\n",
    "    j=0\n",
    "    for i in zero_eigen:\n",
    "        w = np.delete(w, i-j, axis=0)\n",
    "        v = np.delete(v, i-j, axis=1)\n",
    "        j+=1\n",
    "\n",
    "    # 고유값 내림차순으로 정렬\n",
    "    ww = np.sort(w.real)[::-1]\n",
    "    index = np.argsort(w.real)[::-1]  \n",
    "    vv = np.array([v[:,i].real for i in list(index)]).T \n",
    "\n",
    "    ww = ww[:pca_num]\n",
    "    vv = vv[:, :pca_num]\n",
    "\n",
    "    u = np.dot(vv.T, D)\n",
    "    u = u/(LA.norm(u, axis=0))\n",
    "\n",
    "    weight=np.dot(D,u.T)\n",
    "    return u, weight"
   ]
  },
  {
   "cell_type": "code",
   "execution_count": 3,
   "metadata": {},
   "outputs": [],
   "source": [
    "# 유클리디안 짝퉁. sqrt가 계산이오래걸린다니 제곱하는것만 넣었습니당.\n",
    "# 별로여서 sqrt로! 다시바꿈\n",
    "## 출력의 shape는 (52,)로 그래프를 그리기 편하게 연출되어있습니다.\n",
    "\n",
    "def ud(img, eigenvector, img_weight, index):\n",
    "    test_weight = np.dot(img, eigenvector.T)\n",
    "    weight = img_weight - test_weight.reshape(1,-1)\n",
    "    dist = np.sum(weight*weight, axis=1)\n",
    "    dist = np.sqrt(np.sum(weight*weight, axis=1))\n",
    "    \n",
    "    dist = pd.DataFrame(dist.reshape(1,-1), columns=index)\n",
    "    return dist"
   ]
  },
  {
   "cell_type": "code",
   "execution_count": 4,
   "metadata": {},
   "outputs": [],
   "source": [
    "def cosine_similarity(img, eigenvector, img_weight, index):\n",
    "    test_weight = np.dot(img, eigenvector.T)\n",
    "    dist = np.sqrt(np.sum(test_weight*test_weight))\n",
    "\n",
    "    cosine_similiarity = np.zeros((1, img_weight.shape[0]))\n",
    "    for i in range(img_weight.shape[0]):\n",
    "        cosine_similiarity[0, i]=(np.sum(test_weight*img_weight[i]))/((dist)*(np.sqrt(np.sum(img_weight[i]*img_weight[i]))))\n",
    "        \n",
    "    cosine_similiarity = pd.DataFrame(cosine_similiarity.reshape(1,-1), columns=index)\n",
    "    return cosine_similiarity"
   ]
  },
  {
   "cell_type": "code",
   "execution_count": 5,
   "metadata": {},
   "outputs": [],
   "source": [
    "def ROC_dir(pca_num=20):\n",
    "    data_loc = '../au_dataset/'\n",
    "    filelist = os.listdir(data_loc)\n",
    "\n",
    "    length = len(filelist)\n",
    "    imgary = np.zeros((length, 120*100))\n",
    "    labels = []\n",
    "    n=0\n",
    "    for i in filelist:\n",
    "        tmpimg = cv2.imread(data_loc+i, cv2.IMREAD_GRAYSCALE)\n",
    "        tmpimg = np.reshape(tmpimg, (-1,))\n",
    "        imgary[n] = tmpimg\n",
    "        labels.append(i[0:2])\n",
    "        n+=1\n",
    "    \n",
    "    eigenvector, img_weights = pca(imgary,pca_num)\n",
    "    \n",
    "    test_labels = os.listdir(\"./augmentation/\")\n",
    "    \n",
    "    cols = labels.copy()\n",
    "    cols.append(\"label\")\n",
    "    df= pd.DataFrame(columns = cols)\n",
    "    \n",
    "    n=0\n",
    "    for imgs in test_labels:\n",
    "        tmpimg = cv2.imread(\"./augmentation/\"+imgs, cv2.IMREAD_GRAYSCALE)\n",
    "        tmpimg = np.reshape(tmpimg, (-1,))\n",
    "\n",
    "        df1 = ud(tmpimg, eigenvector, img_weights, labels)\n",
    "        df1[\"label\"]=imgs[0:2]\n",
    "        df= pd.concat([df, df1])\n",
    "        n+=1\n",
    "\n",
    "    return df"
   ]
  },
  {
   "cell_type": "code",
   "execution_count": 5,
   "metadata": {},
   "outputs": [],
   "source": [
    "def ROC_dir_cosine(pca_num=20):\n",
    "    data_loc = '../au_dataset/'\n",
    "    filelist = os.listdir(data_loc)\n",
    "\n",
    "    length = len(filelist)\n",
    "    imgary = np.zeros((length, 120*100))\n",
    "    labels = []\n",
    "    n=0\n",
    "    for i in filelist:\n",
    "        tmpimg = cv2.imread(data_loc+i, cv2.IMREAD_GRAYSCALE)\n",
    "        tmpimg = np.reshape(tmpimg, (-1,))\n",
    "        imgary[n] = tmpimg\n",
    "        labels.append(i[0:2])\n",
    "        n+=1\n",
    "    \n",
    "    eigenvector, img_weights = pca(imgary,pca_num)\n",
    "    \n",
    "    test_labels = os.listdir(\"./augmentation/\")\n",
    "    \n",
    "    cols = labels.copy()\n",
    "    cols.append(\"label\")\n",
    "    df= pd.DataFrame(columns = cols)\n",
    "    \n",
    "    n=0\n",
    "    for imgs in test_labels:\n",
    "        tmpimg = cv2.imread(\"./augmentation/\"+imgs, cv2.IMREAD_GRAYSCALE)\n",
    "        tmpimg = np.reshape(tmpimg, (-1,))\n",
    "\n",
    "        df1 = cosine_similarity(tmpimg, eigenvector, img_weights, labels)\n",
    "        df1[\"label\"]=imgs[0:2]\n",
    "        df= pd.concat([df, df1])\n",
    "        n+=1\n",
    "\n",
    "    return df"
   ]
  },
  {
   "cell_type": "code",
   "execution_count": 10,
   "metadata": {},
   "outputs": [],
   "source": [
    "def plot(pca_num=20):\n",
    "    df = ROC_dir_cosine(pca_num)\n",
    "    card = np.unique(df[\"label\"])\n",
    "    num_card = len(card)\n",
    "    \n",
    "    ntrain=int((df.shape[1]-1)/(len(np.unique(df.columns))-1)) # train 갯수\n",
    "    ntest=int((df.shape[0])/num_card) # test set 갯수\n",
    "    \n",
    "    nn = ntrain * ntest\n",
    "    \n",
    "    authentic = np.zeros((num_card*nn,))\n",
    "    imposter = np.zeros((num_card*nn*(num_card-1),))\n",
    "    \n",
    "\n",
    "    j=0\n",
    "    fig = plt.figure(figsize=(10,30))\n",
    "    #a = np.ceil(num_card/26)\n",
    "    for i in range(num_card):\n",
    "        name = card[i]\n",
    "\n",
    "        for naname in card:\n",
    "            T_T = np.array(df[df[\"label\"]==name].loc[:, naname:naname]).reshape(-1,)\n",
    "            if naname == name:\n",
    "                temp=i*nn\n",
    "                authentic[temp:temp+nn] = T_T\n",
    "            else:\n",
    "                temp = j*nn\n",
    "                imposter[temp:temp+nn] = T_T\n",
    "                j+=1 \n",
    "        \n",
    "        \"\"\"ax = fig.add_subplot(26,a, i+1)\n",
    "        ax.set_title(name)\n",
    "        plt.hist(authentic[i*nn:(i+1)*nn], color = 'r',  bins=10, alpha = 0.6)\n",
    "        plt.hist(imposter[i*nn*(num_card-1):(i+1)*nn*(num_card-1)], color = 'b',  bins=10, alpha = 0.6 )\n",
    "        plt.tight_layout()\"\"\"\n",
    "        \n",
    "    plt.figure(figsize=(7,5))\n",
    "    #plt.ylim((0, 4000))\n",
    "    plt.hist(authentic, color = 'r',  bins=500, alpha = 0.6, label = \"authentic\")\n",
    "    plt.hist(imposter, color = 'b',  bins=500, alpha = 0.6, label = \"imposter\")\n",
    "    \n",
    "    #plt.axvline(x=authentic.mean(), color = 'r')\n",
    "    #plt.axvline(x=imposter.mean(), color = 'b')\n",
    "    plt.legend()\n",
    "        \n",
    "    return  authentic, imposter # authentic.mean(), authentic.std(), imposter.mean(), imposter.std()"
   ]
  },
  {
   "cell_type": "code",
   "execution_count": 37,
   "metadata": {},
   "outputs": [],
   "source": [
    "def FAR_FRR_cosine (authentic, imposter):\n",
    "    threshold_array = np.arange(-1,1,0.0001)\n",
    "    FAR_FRR_len = np.zeros((len(threshold_array),3))\n",
    "    \n",
    "    i=0\n",
    "    auth_len = len(authentic)\n",
    "    impo_len = len(imposter)\n",
    "    for threshold in threshold_array:\n",
    "        FAR_FRR_len[i][0]=threshold\n",
    "        FAR_FRR_len[i][1]=len(authentic[authentic<threshold])/auth_len\n",
    "        FAR_FRR_len[i][2]=len(imposter[imposter>threshold])/impo_len\n",
    "        i+=1\n",
    "    index = np.argmin(np.abs(FAR_FRR_len[:,1]-FAR_FRR_len[:,2]))\n",
    "    threshold_EER = FAR_FRR_len[index][0]\n",
    "    EER = np.mean(FAR_FRR_len[index][1:3])\n",
    "    \n",
    "    return threshold_EER,  EER, FAR_FRR_len"
   ]
  },
  {
   "cell_type": "code",
   "execution_count": 8,
   "metadata": {},
   "outputs": [],
   "source": [
    "def FAR_FRR_ud (authentic, imposter):\n",
    "    threshold_array = np.arange(0,100000,1000)\n",
    "    FAR_FRR_len = np.zeros((len(threshold_array),3))\n",
    "    \n",
    "    i=0\n",
    "    auth_len = len(authentic)\n",
    "    impo_len = len(imposter)\n",
    "    for threshold in threshold_array:\n",
    "        FAR_FRR_len[i][0]=threshold\n",
    "        FAR_FRR_len[i][1]=len(authentic[authentic>threshold])/auth_len\n",
    "        FAR_FRR_len[i][2]=len(imposter[imposter<threshold])/impo_len\n",
    "        i+=1\n",
    "    index = np.argmin(np.abs(FAR_FRR_len[:,1]-FAR_FRR_len[:,2]))\n",
    "    threshold_EER = FAR_FRR_len[index][0]\n",
    "    EER = np.mean(FAR_FRR_len[index][1:3])\n",
    "    \n",
    "    return threshold_EER,  EER, FAR_FRR_len"
   ]
  },
  {
   "cell_type": "code",
   "execution_count": 8,
   "metadata": {},
   "outputs": [],
   "source": [
    "data_loc = '../au_dataset/'\n",
    "filelist = os.listdir(data_loc)\n",
    "\n",
    "length = len(filelist)\n",
    "imgary = np.zeros((length, 120*100))\n",
    "labels = []\n",
    "n=0\n",
    "for i in filelist:\n",
    "    tmpimg = cv2.imread(data_loc+i, cv2.IMREAD_GRAYSCALE)\n",
    "    tmpimg = np.reshape(tmpimg, (-1,))\n",
    "    imgary[n] = tmpimg\n",
    "    labels.append(i[0:2])\n",
    "    n+=1"
   ]
  },
  {
   "cell_type": "code",
   "execution_count": 9,
   "metadata": {},
   "outputs": [],
   "source": [
    "eigenvector, img_weights = pca(imgary, 100)"
   ]
  },
  {
   "cell_type": "code",
   "execution_count": 13,
   "metadata": {},
   "outputs": [
    {
     "data": {
      "text/html": [
       "<div>\n",
       "<style scoped>\n",
       "    .dataframe tbody tr th:only-of-type {\n",
       "        vertical-align: middle;\n",
       "    }\n",
       "\n",
       "    .dataframe tbody tr th {\n",
       "        vertical-align: top;\n",
       "    }\n",
       "\n",
       "    .dataframe thead th {\n",
       "        text-align: right;\n",
       "    }\n",
       "</style>\n",
       "<table border=\"1\" class=\"dataframe\">\n",
       "  <thead>\n",
       "    <tr style=\"text-align: right;\">\n",
       "      <th></th>\n",
       "      <th>C1</th>\n",
       "      <th>C1</th>\n",
       "      <th>C1</th>\n",
       "      <th>C1</th>\n",
       "      <th>C1</th>\n",
       "      <th>C2</th>\n",
       "      <th>C2</th>\n",
       "      <th>C2</th>\n",
       "      <th>C2</th>\n",
       "      <th>C2</th>\n",
       "      <th>...</th>\n",
       "      <th>SK</th>\n",
       "      <th>SK</th>\n",
       "      <th>SK</th>\n",
       "      <th>SK</th>\n",
       "      <th>SK</th>\n",
       "      <th>SQ</th>\n",
       "      <th>SQ</th>\n",
       "      <th>SQ</th>\n",
       "      <th>SQ</th>\n",
       "      <th>SQ</th>\n",
       "    </tr>\n",
       "  </thead>\n",
       "  <tbody>\n",
       "    <tr>\n",
       "      <th>0</th>\n",
       "      <td>1.0</td>\n",
       "      <td>0.999873</td>\n",
       "      <td>0.999239</td>\n",
       "      <td>0.999072</td>\n",
       "      <td>0.999315</td>\n",
       "      <td>0.997572</td>\n",
       "      <td>0.997465</td>\n",
       "      <td>0.997492</td>\n",
       "      <td>0.99756</td>\n",
       "      <td>0.997492</td>\n",
       "      <td>...</td>\n",
       "      <td>0.997645</td>\n",
       "      <td>0.997845</td>\n",
       "      <td>0.99773</td>\n",
       "      <td>0.997788</td>\n",
       "      <td>0.997819</td>\n",
       "      <td>0.997624</td>\n",
       "      <td>0.997543</td>\n",
       "      <td>0.997701</td>\n",
       "      <td>0.997522</td>\n",
       "      <td>0.997949</td>\n",
       "    </tr>\n",
       "  </tbody>\n",
       "</table>\n",
       "<p>1 rows × 260 columns</p>\n",
       "</div>"
      ],
      "text/plain": [
       "    C1        C1        C1        C1        C1        C2        C2        C2  \\\n",
       "0  1.0  0.999873  0.999239  0.999072  0.999315  0.997572  0.997465  0.997492   \n",
       "\n",
       "        C2        C2  ...        SK        SK       SK        SK        SK  \\\n",
       "0  0.99756  0.997492  ...  0.997645  0.997845  0.99773  0.997788  0.997819   \n",
       "\n",
       "         SQ        SQ        SQ        SQ        SQ  \n",
       "0  0.997624  0.997543  0.997701  0.997522  0.997949  \n",
       "\n",
       "[1 rows x 260 columns]"
      ]
     },
     "execution_count": 13,
     "metadata": {},
     "output_type": "execute_result"
    }
   ],
   "source": [
    "cosine_similarity(imgary[0], eigenvector, img_weights, labels)"
   ]
  },
  {
   "cell_type": "code",
   "execution_count": 17,
   "metadata": {},
   "outputs": [
    {
     "data": {
      "text/html": [
       "<div>\n",
       "<style scoped>\n",
       "    .dataframe tbody tr th:only-of-type {\n",
       "        vertical-align: middle;\n",
       "    }\n",
       "\n",
       "    .dataframe tbody tr th {\n",
       "        vertical-align: top;\n",
       "    }\n",
       "\n",
       "    .dataframe thead th {\n",
       "        text-align: right;\n",
       "    }\n",
       "</style>\n",
       "<table border=\"1\" class=\"dataframe\">\n",
       "  <thead>\n",
       "    <tr style=\"text-align: right;\">\n",
       "      <th></th>\n",
       "      <th>C1</th>\n",
       "      <th>C1</th>\n",
       "      <th>C1</th>\n",
       "      <th>C1</th>\n",
       "      <th>C1</th>\n",
       "      <th>C2</th>\n",
       "      <th>C2</th>\n",
       "      <th>C2</th>\n",
       "      <th>C2</th>\n",
       "      <th>C2</th>\n",
       "      <th>...</th>\n",
       "      <th>SK</th>\n",
       "      <th>SK</th>\n",
       "      <th>SK</th>\n",
       "      <th>SK</th>\n",
       "      <th>SK</th>\n",
       "      <th>SQ</th>\n",
       "      <th>SQ</th>\n",
       "      <th>SQ</th>\n",
       "      <th>SQ</th>\n",
       "      <th>SQ</th>\n",
       "    </tr>\n",
       "  </thead>\n",
       "  <tbody>\n",
       "    <tr>\n",
       "      <th>0</th>\n",
       "      <td>8.225265e-22</td>\n",
       "      <td>1.185308e+09</td>\n",
       "      <td>5.307295e+09</td>\n",
       "      <td>6.716198e+09</td>\n",
       "      <td>6.158372e+09</td>\n",
       "      <td>5.581651e+11</td>\n",
       "      <td>4.968160e+11</td>\n",
       "      <td>5.046014e+11</td>\n",
       "      <td>5.422303e+11</td>\n",
       "      <td>4.866748e+11</td>\n",
       "      <td>...</td>\n",
       "      <td>3.186946e+10</td>\n",
       "      <td>2.433743e+10</td>\n",
       "      <td>2.441269e+10</td>\n",
       "      <td>2.440391e+10</td>\n",
       "      <td>2.657796e+10</td>\n",
       "      <td>2.578345e+10</td>\n",
       "      <td>2.307099e+10</td>\n",
       "      <td>2.025586e+10</td>\n",
       "      <td>2.342022e+10</td>\n",
       "      <td>1.998047e+10</td>\n",
       "    </tr>\n",
       "  </tbody>\n",
       "</table>\n",
       "<p>1 rows × 260 columns</p>\n",
       "</div>"
      ],
      "text/plain": [
       "             C1            C1            C1            C1            C1  \\\n",
       "0  8.225265e-22  1.185308e+09  5.307295e+09  6.716198e+09  6.158372e+09   \n",
       "\n",
       "             C2            C2            C2            C2            C2  ...  \\\n",
       "0  5.581651e+11  4.968160e+11  5.046014e+11  5.422303e+11  4.866748e+11  ...   \n",
       "\n",
       "             SK            SK            SK            SK            SK  \\\n",
       "0  3.186946e+10  2.433743e+10  2.441269e+10  2.440391e+10  2.657796e+10   \n",
       "\n",
       "             SQ            SQ            SQ            SQ            SQ  \n",
       "0  2.578345e+10  2.307099e+10  2.025586e+10  2.342022e+10  1.998047e+10  \n",
       "\n",
       "[1 rows x 260 columns]"
      ]
     },
     "execution_count": 17,
     "metadata": {},
     "output_type": "execute_result"
    }
   ],
   "source": [
    "ud(imgary[0], eigenvector, img_weights, labels)"
   ]
  },
  {
   "cell_type": "code",
   "execution_count": 16,
   "metadata": {
    "scrolled": true
   },
   "outputs": [
    {
     "data": {
      "text/plain": [
       "<Figure size 720x2160 with 0 Axes>"
      ]
     },
     "metadata": {},
     "output_type": "display_data"
    },
    {
     "data": {
      "image/png": "[encoded data removed]",
      "text/plain": [
       "<Figure size 504x360 with 1 Axes>"
      ]
     },
     "metadata": {
      "needs_background": "light"
     },
     "output_type": "display_data"
    }
   ],
   "source": [
    "authentic, imposter = plot(50) #ud"
   ]
  },
  {
   "cell_type": "code",
   "execution_count": 61,
   "metadata": {},
   "outputs": [
    {
     "data": {
      "text/html": [
       "<div>\n",
       "<style scoped>\n",
       "    .dataframe tbody tr th:only-of-type {\n",
       "        vertical-align: middle;\n",
       "    }\n",
       "\n",
       "    .dataframe tbody tr th {\n",
       "        vertical-align: top;\n",
       "    }\n",
       "\n",
       "    .dataframe thead th {\n",
       "        text-align: right;\n",
       "    }\n",
       "</style>\n",
       "<table border=\"1\" class=\"dataframe\">\n",
       "  <thead>\n",
       "    <tr style=\"text-align: right;\">\n",
       "      <th></th>\n",
       "      <th>C1</th>\n",
       "      <th>C1</th>\n",
       "      <th>C1</th>\n",
       "      <th>C1</th>\n",
       "      <th>C1</th>\n",
       "      <th>C2</th>\n",
       "      <th>C2</th>\n",
       "      <th>C2</th>\n",
       "      <th>C2</th>\n",
       "      <th>C2</th>\n",
       "      <th>...</th>\n",
       "      <th>SK</th>\n",
       "      <th>SK</th>\n",
       "      <th>SK</th>\n",
       "      <th>SK</th>\n",
       "      <th>SQ</th>\n",
       "      <th>SQ</th>\n",
       "      <th>SQ</th>\n",
       "      <th>SQ</th>\n",
       "      <th>SQ</th>\n",
       "      <th>label</th>\n",
       "    </tr>\n",
       "  </thead>\n",
       "  <tbody>\n",
       "    <tr>\n",
       "      <th>0</th>\n",
       "      <td>1.101671e+09</td>\n",
       "      <td>1.294723e+09</td>\n",
       "      <td>3.827623e+09</td>\n",
       "      <td>4.119079e+09</td>\n",
       "      <td>2.398353e+09</td>\n",
       "      <td>6.075273e+11</td>\n",
       "      <td>5.433118e+11</td>\n",
       "      <td>5.516361e+11</td>\n",
       "      <td>5.905253e+11</td>\n",
       "      <td>5.328718e+11</td>\n",
       "      <td>...</td>\n",
       "      <td>2.612365e+10</td>\n",
       "      <td>2.606671e+10</td>\n",
       "      <td>2.605047e+10</td>\n",
       "      <td>2.910428e+10</td>\n",
       "      <td>2.762131e+10</td>\n",
       "      <td>2.396800e+10</td>\n",
       "      <td>2.061935e+10</td>\n",
       "      <td>2.442145e+10</td>\n",
       "      <td>2.092839e+10</td>\n",
       "      <td>C1</td>\n",
       "    </tr>\n",
       "    <tr>\n",
       "      <th>0</th>\n",
       "      <td>4.660223e+09</td>\n",
       "      <td>3.162446e+09</td>\n",
       "      <td>1.361035e+09</td>\n",
       "      <td>6.439302e+09</td>\n",
       "      <td>5.266827e+09</td>\n",
       "      <td>6.174561e+11</td>\n",
       "      <td>5.518957e+11</td>\n",
       "      <td>5.610568e+11</td>\n",
       "      <td>6.000749e+11</td>\n",
       "      <td>5.414760e+11</td>\n",
       "      <td>...</td>\n",
       "      <td>2.418495e+10</td>\n",
       "      <td>2.374030e+10</td>\n",
       "      <td>2.399321e+10</td>\n",
       "      <td>2.707520e+10</td>\n",
       "      <td>2.501379e+10</td>\n",
       "      <td>2.082099e+10</td>\n",
       "      <td>1.711426e+10</td>\n",
       "      <td>2.105403e+10</td>\n",
       "      <td>1.840745e+10</td>\n",
       "      <td>C1</td>\n",
       "    </tr>\n",
       "    <tr>\n",
       "      <th>0</th>\n",
       "      <td>1.529945e+09</td>\n",
       "      <td>1.073665e+09</td>\n",
       "      <td>6.686231e+09</td>\n",
       "      <td>2.091901e+09</td>\n",
       "      <td>2.769572e+09</td>\n",
       "      <td>5.940373e+11</td>\n",
       "      <td>5.300750e+11</td>\n",
       "      <td>5.388201e+11</td>\n",
       "      <td>5.769492e+11</td>\n",
       "      <td>5.204824e+11</td>\n",
       "      <td>...</td>\n",
       "      <td>2.454653e+10</td>\n",
       "      <td>2.482861e+10</td>\n",
       "      <td>2.468742e+10</td>\n",
       "      <td>2.707409e+10</td>\n",
       "      <td>2.608524e+10</td>\n",
       "      <td>2.269741e+10</td>\n",
       "      <td>1.973381e+10</td>\n",
       "      <td>2.309359e+10</td>\n",
       "      <td>1.978090e+10</td>\n",
       "      <td>C1</td>\n",
       "    </tr>\n",
       "    <tr>\n",
       "      <th>0</th>\n",
       "      <td>4.329897e+09</td>\n",
       "      <td>3.951840e+09</td>\n",
       "      <td>5.626265e+07</td>\n",
       "      <td>8.481360e+09</td>\n",
       "      <td>7.101323e+09</td>\n",
       "      <td>5.952353e+11</td>\n",
       "      <td>5.311898e+11</td>\n",
       "      <td>5.399548e+11</td>\n",
       "      <td>5.783283e+11</td>\n",
       "      <td>5.205785e+11</td>\n",
       "      <td>...</td>\n",
       "      <td>2.205192e+10</td>\n",
       "      <td>2.191046e+10</td>\n",
       "      <td>2.194838e+10</td>\n",
       "      <td>2.501929e+10</td>\n",
       "      <td>2.384270e+10</td>\n",
       "      <td>2.030386e+10</td>\n",
       "      <td>1.662937e+10</td>\n",
       "      <td>2.055101e+10</td>\n",
       "      <td>1.735998e+10</td>\n",
       "      <td>C1</td>\n",
       "    </tr>\n",
       "    <tr>\n",
       "      <th>0</th>\n",
       "      <td>5.592941e+11</td>\n",
       "      <td>5.827470e+11</td>\n",
       "      <td>5.675169e+11</td>\n",
       "      <td>5.817489e+11</td>\n",
       "      <td>6.095899e+11</td>\n",
       "      <td>4.007119e+08</td>\n",
       "      <td>1.099669e+09</td>\n",
       "      <td>8.412506e+08</td>\n",
       "      <td>2.136486e+08</td>\n",
       "      <td>1.391011e+09</td>\n",
       "      <td>...</td>\n",
       "      <td>4.156442e+11</td>\n",
       "      <td>4.194794e+11</td>\n",
       "      <td>4.174517e+11</td>\n",
       "      <td>4.035580e+11</td>\n",
       "      <td>4.161735e+11</td>\n",
       "      <td>4.375348e+11</td>\n",
       "      <td>4.509789e+11</td>\n",
       "      <td>4.347466e+11</td>\n",
       "      <td>4.399337e+11</td>\n",
       "      <td>C2</td>\n",
       "    </tr>\n",
       "    <tr>\n",
       "      <th>...</th>\n",
       "      <td>...</td>\n",
       "      <td>...</td>\n",
       "      <td>...</td>\n",
       "      <td>...</td>\n",
       "      <td>...</td>\n",
       "      <td>...</td>\n",
       "      <td>...</td>\n",
       "      <td>...</td>\n",
       "      <td>...</td>\n",
       "      <td>...</td>\n",
       "      <td>...</td>\n",
       "      <td>...</td>\n",
       "      <td>...</td>\n",
       "      <td>...</td>\n",
       "      <td>...</td>\n",
       "      <td>...</td>\n",
       "      <td>...</td>\n",
       "      <td>...</td>\n",
       "      <td>...</td>\n",
       "      <td>...</td>\n",
       "      <td>...</td>\n",
       "    </tr>\n",
       "    <tr>\n",
       "      <th>0</th>\n",
       "      <td>2.586401e+10</td>\n",
       "      <td>2.769969e+10</td>\n",
       "      <td>2.113302e+10</td>\n",
       "      <td>2.405959e+10</td>\n",
       "      <td>2.812933e+10</td>\n",
       "      <td>4.396797e+11</td>\n",
       "      <td>3.838484e+11</td>\n",
       "      <td>3.906814e+11</td>\n",
       "      <td>4.249361e+11</td>\n",
       "      <td>3.749660e+11</td>\n",
       "      <td>...</td>\n",
       "      <td>6.002604e+08</td>\n",
       "      <td>1.850179e+08</td>\n",
       "      <td>4.261057e+08</td>\n",
       "      <td>9.719868e+08</td>\n",
       "      <td>1.313567e+09</td>\n",
       "      <td>1.096108e+09</td>\n",
       "      <td>1.090349e+09</td>\n",
       "      <td>1.088714e+09</td>\n",
       "      <td>9.408209e+08</td>\n",
       "      <td>SK</td>\n",
       "    </tr>\n",
       "    <tr>\n",
       "      <th>0</th>\n",
       "      <td>2.218007e+10</td>\n",
       "      <td>2.294321e+10</td>\n",
       "      <td>1.729999e+10</td>\n",
       "      <td>1.872564e+10</td>\n",
       "      <td>2.192401e+10</td>\n",
       "      <td>4.687944e+11</td>\n",
       "      <td>4.110737e+11</td>\n",
       "      <td>4.184570e+11</td>\n",
       "      <td>4.535327e+11</td>\n",
       "      <td>4.021087e+11</td>\n",
       "      <td>...</td>\n",
       "      <td>2.720191e+09</td>\n",
       "      <td>2.281993e+09</td>\n",
       "      <td>2.583157e+09</td>\n",
       "      <td>2.704424e+09</td>\n",
       "      <td>1.550776e+09</td>\n",
       "      <td>3.939429e+08</td>\n",
       "      <td>9.694261e+08</td>\n",
       "      <td>2.877406e+08</td>\n",
       "      <td>8.746068e+08</td>\n",
       "      <td>SQ</td>\n",
       "    </tr>\n",
       "    <tr>\n",
       "      <th>0</th>\n",
       "      <td>2.118015e+10</td>\n",
       "      <td>2.200270e+10</td>\n",
       "      <td>1.606523e+10</td>\n",
       "      <td>1.807780e+10</td>\n",
       "      <td>2.136233e+10</td>\n",
       "      <td>4.690256e+11</td>\n",
       "      <td>4.112721e+11</td>\n",
       "      <td>4.189101e+11</td>\n",
       "      <td>4.537705e+11</td>\n",
       "      <td>4.022163e+11</td>\n",
       "      <td>...</td>\n",
       "      <td>2.180289e+09</td>\n",
       "      <td>1.930967e+09</td>\n",
       "      <td>2.065415e+09</td>\n",
       "      <td>2.493000e+09</td>\n",
       "      <td>1.635642e+09</td>\n",
       "      <td>8.643731e+08</td>\n",
       "      <td>7.442000e+08</td>\n",
       "      <td>5.972551e+08</td>\n",
       "      <td>7.707198e+08</td>\n",
       "      <td>SQ</td>\n",
       "    </tr>\n",
       "    <tr>\n",
       "      <th>0</th>\n",
       "      <td>1.885572e+10</td>\n",
       "      <td>1.876185e+10</td>\n",
       "      <td>1.361591e+10</td>\n",
       "      <td>1.458962e+10</td>\n",
       "      <td>1.692231e+10</td>\n",
       "      <td>4.988026e+11</td>\n",
       "      <td>4.391281e+11</td>\n",
       "      <td>4.466241e+11</td>\n",
       "      <td>4.830009e+11</td>\n",
       "      <td>4.298875e+11</td>\n",
       "      <td>...</td>\n",
       "      <td>4.776906e+09</td>\n",
       "      <td>3.981802e+09</td>\n",
       "      <td>4.491328e+09</td>\n",
       "      <td>5.464518e+09</td>\n",
       "      <td>3.868070e+09</td>\n",
       "      <td>1.451423e+09</td>\n",
       "      <td>1.351913e+09</td>\n",
       "      <td>1.546543e+09</td>\n",
       "      <td>1.957689e+09</td>\n",
       "      <td>SQ</td>\n",
       "    </tr>\n",
       "    <tr>\n",
       "      <th>0</th>\n",
       "      <td>2.453289e+10</td>\n",
       "      <td>2.629695e+10</td>\n",
       "      <td>2.049516e+10</td>\n",
       "      <td>2.319404e+10</td>\n",
       "      <td>2.679124e+10</td>\n",
       "      <td>4.459356e+11</td>\n",
       "      <td>3.899494e+11</td>\n",
       "      <td>3.970968e+11</td>\n",
       "      <td>4.311266e+11</td>\n",
       "      <td>3.809873e+11</td>\n",
       "      <td>...</td>\n",
       "      <td>1.182548e+09</td>\n",
       "      <td>1.083936e+09</td>\n",
       "      <td>1.165900e+09</td>\n",
       "      <td>9.873462e+08</td>\n",
       "      <td>1.215210e+08</td>\n",
       "      <td>5.227175e+08</td>\n",
       "      <td>1.254336e+09</td>\n",
       "      <td>5.196908e+08</td>\n",
       "      <td>3.113357e+08</td>\n",
       "      <td>SQ</td>\n",
       "    </tr>\n",
       "  </tbody>\n",
       "</table>\n",
       "<p>208 rows × 261 columns</p>\n",
       "</div>"
      ],
      "text/plain": [
       "              C1            C1            C1            C1            C1  \\\n",
       "0   1.101671e+09  1.294723e+09  3.827623e+09  4.119079e+09  2.398353e+09   \n",
       "0   4.660223e+09  3.162446e+09  1.361035e+09  6.439302e+09  5.266827e+09   \n",
       "0   1.529945e+09  1.073665e+09  6.686231e+09  2.091901e+09  2.769572e+09   \n",
       "0   4.329897e+09  3.951840e+09  5.626265e+07  8.481360e+09  7.101323e+09   \n",
       "0   5.592941e+11  5.827470e+11  5.675169e+11  5.817489e+11  6.095899e+11   \n",
       "..           ...           ...           ...           ...           ...   \n",
       "0   2.586401e+10  2.769969e+10  2.113302e+10  2.405959e+10  2.812933e+10   \n",
       "0   2.218007e+10  2.294321e+10  1.729999e+10  1.872564e+10  2.192401e+10   \n",
       "0   2.118015e+10  2.200270e+10  1.606523e+10  1.807780e+10  2.136233e+10   \n",
       "0   1.885572e+10  1.876185e+10  1.361591e+10  1.458962e+10  1.692231e+10   \n",
       "0   2.453289e+10  2.629695e+10  2.049516e+10  2.319404e+10  2.679124e+10   \n",
       "\n",
       "              C2            C2            C2            C2            C2  ...  \\\n",
       "0   6.075273e+11  5.433118e+11  5.516361e+11  5.905253e+11  5.328718e+11  ...   \n",
       "0   6.174561e+11  5.518957e+11  5.610568e+11  6.000749e+11  5.414760e+11  ...   \n",
       "0   5.940373e+11  5.300750e+11  5.388201e+11  5.769492e+11  5.204824e+11  ...   \n",
       "0   5.952353e+11  5.311898e+11  5.399548e+11  5.783283e+11  5.205785e+11  ...   \n",
       "0   4.007119e+08  1.099669e+09  8.412506e+08  2.136486e+08  1.391011e+09  ...   \n",
       "..           ...           ...           ...           ...           ...  ...   \n",
       "0   4.396797e+11  3.838484e+11  3.906814e+11  4.249361e+11  3.749660e+11  ...   \n",
       "0   4.687944e+11  4.110737e+11  4.184570e+11  4.535327e+11  4.021087e+11  ...   \n",
       "0   4.690256e+11  4.112721e+11  4.189101e+11  4.537705e+11  4.022163e+11  ...   \n",
       "0   4.988026e+11  4.391281e+11  4.466241e+11  4.830009e+11  4.298875e+11  ...   \n",
       "0   4.459356e+11  3.899494e+11  3.970968e+11  4.311266e+11  3.809873e+11  ...   \n",
       "\n",
       "              SK            SK            SK            SK            SQ  \\\n",
       "0   2.612365e+10  2.606671e+10  2.605047e+10  2.910428e+10  2.762131e+10   \n",
       "0   2.418495e+10  2.374030e+10  2.399321e+10  2.707520e+10  2.501379e+10   \n",
       "0   2.454653e+10  2.482861e+10  2.468742e+10  2.707409e+10  2.608524e+10   \n",
       "0   2.205192e+10  2.191046e+10  2.194838e+10  2.501929e+10  2.384270e+10   \n",
       "0   4.156442e+11  4.194794e+11  4.174517e+11  4.035580e+11  4.161735e+11   \n",
       "..           ...           ...           ...           ...           ...   \n",
       "0   6.002604e+08  1.850179e+08  4.261057e+08  9.719868e+08  1.313567e+09   \n",
       "0   2.720191e+09  2.281993e+09  2.583157e+09  2.704424e+09  1.550776e+09   \n",
       "0   2.180289e+09  1.930967e+09  2.065415e+09  2.493000e+09  1.635642e+09   \n",
       "0   4.776906e+09  3.981802e+09  4.491328e+09  5.464518e+09  3.868070e+09   \n",
       "0   1.182548e+09  1.083936e+09  1.165900e+09  9.873462e+08  1.215210e+08   \n",
       "\n",
       "              SQ            SQ            SQ            SQ  label  \n",
       "0   2.396800e+10  2.061935e+10  2.442145e+10  2.092839e+10     C1  \n",
       "0   2.082099e+10  1.711426e+10  2.105403e+10  1.840745e+10     C1  \n",
       "0   2.269741e+10  1.973381e+10  2.309359e+10  1.978090e+10     C1  \n",
       "0   2.030386e+10  1.662937e+10  2.055101e+10  1.735998e+10     C1  \n",
       "0   4.375348e+11  4.509789e+11  4.347466e+11  4.399337e+11     C2  \n",
       "..           ...           ...           ...           ...    ...  \n",
       "0   1.096108e+09  1.090349e+09  1.088714e+09  9.408209e+08     SK  \n",
       "0   3.939429e+08  9.694261e+08  2.877406e+08  8.746068e+08     SQ  \n",
       "0   8.643731e+08  7.442000e+08  5.972551e+08  7.707198e+08     SQ  \n",
       "0   1.451423e+09  1.351913e+09  1.546543e+09  1.957689e+09     SQ  \n",
       "0   5.227175e+08  1.254336e+09  5.196908e+08  3.113357e+08     SQ  \n",
       "\n",
       "[208 rows x 261 columns]"
      ]
     },
     "execution_count": 61,
     "metadata": {},
     "output_type": "execute_result"
    }
   ],
   "source": [
    "df"
   ]
  },
  {
   "cell_type": "code",
   "execution_count": 34,
   "metadata": {},
   "outputs": [],
   "source": [
    "threshold_EER,EER,FAR_FRR_len = FAR_FRR_ud(authentic, imposter)"
   ]
  },
  {
   "cell_type": "code",
   "execution_count": 38,
   "metadata": {},
   "outputs": [
    {
     "data": {
      "text/plain": [
       "<function matplotlib.pyplot.show(*args, **kw)>"
      ]
     },
     "execution_count": 38,
     "metadata": {},
     "output_type": "execute_result"
    },
    {
     "data": {
      "image/png": "[encoded data removed]",
      "text/plain": [
       "<Figure size 288x288 with 1 Axes>"
      ]
     },
     "metadata": {
      "needs_background": "light"
     },
     "output_type": "display_data"
    }
   ],
   "source": [
    "a=1.5\n",
    "b=\"--\"\n",
    "plt.figure(figsize=(4,4))\n",
    "plt.plot(FAR_FRR_len[:,2], 1-FAR_FRR_len[:,1], color=\"red\", label=\"test\", lw=a, ls=b)\n",
    "plt.legend()\n",
    "plt.xlabel('False Accept Rate')\n",
    "plt.ylabel('True Reject Rate')\n",
    "plt.title('ROC curve')\n",
    "plt.show"
   ]
  },
  {
   "cell_type": "code",
   "execution_count": 9,
   "metadata": {},
   "outputs": [],
   "source": [
    "## cosin 유사도"
   ]
  },
  {
   "cell_type": "code",
   "execution_count": 11,
   "metadata": {},
   "outputs": [
    {
     "data": {
      "text/plain": [
       "<Figure size 720x2160 with 0 Axes>"
      ]
     },
     "metadata": {},
     "output_type": "display_data"
    },
    {
     "data": {
      "image/png": "[encoded data removed]",
      "text/plain": [
       "<Figure size 504x360 with 1 Axes>"
      ]
     },
     "metadata": {
      "needs_background": "light"
     },
     "output_type": "display_data"
    }
   ],
   "source": [
    "authentic, imposter = plot(50) #cosine"
   ]
  },
  {
   "cell_type": "code",
   "execution_count": 43,
   "metadata": {},
   "outputs": [],
   "source": [
    "threshold_EER_50,EER_50,FAR_FRR_len_50 = FAR_FRR_cosine(authentic, imposter)"
   ]
  },
  {
   "cell_type": "code",
   "execution_count": 41,
   "metadata": {},
   "outputs": [
    {
     "data": {
      "text/plain": [
       "0.11430052790346908"
      ]
     },
     "execution_count": 41,
     "metadata": {},
     "output_type": "execute_result"
    }
   ],
   "source": [
    "EER"
   ]
  },
  {
   "cell_type": "code",
   "execution_count": 45,
   "metadata": {},
   "outputs": [
    {
     "data": {
      "text/plain": [
       "0.9996999999997798"
      ]
     },
     "execution_count": 45,
     "metadata": {},
     "output_type": "execute_result"
    }
   ],
   "source": [
    "threshold_EER_50"
   ]
  },
  {
   "cell_type": "code",
   "execution_count": 44,
   "metadata": {},
   "outputs": [
    {
     "data": {
      "text/plain": [
       "<Figure size 720x2160 with 0 Axes>"
      ]
     },
     "metadata": {},
     "output_type": "display_data"
    },
    {
     "data": {
      "image/png": "[encoded data removed]",
      "text/plain": [
       "<Figure size 504x360 with 1 Axes>"
      ]
     },
     "metadata": {
      "needs_background": "light"
     },
     "output_type": "display_data"
    }
   ],
   "source": [
    "authentic, imposter = plot(100) #cosine\n",
    "threshold_EER_100,EER_100,FAR_FRR_len_100 = FAR_FRR_cosine(authentic, imposter)"
   ]
  },
  {
   "cell_type": "code",
   "execution_count": 48,
   "metadata": {},
   "outputs": [
    {
     "data": {
      "text/plain": [
       "(0.9996999999997798, 0.11539404223227753)"
      ]
     },
     "execution_count": 48,
     "metadata": {},
     "output_type": "execute_result"
    }
   ],
   "source": [
    "threshold_EER_100, EER_100"
   ]
  },
  {
   "cell_type": "code",
   "execution_count": 49,
   "metadata": {},
   "outputs": [
    {
     "data": {
      "text/plain": [
       "<function matplotlib.pyplot.show(*args, **kw)>"
      ]
     },
     "execution_count": 49,
     "metadata": {},
     "output_type": "execute_result"
    },
    {
     "data": {
      "image/png": "[encoded data removed]",
      "text/plain": [
       "<Figure size 288x288 with 1 Axes>"
      ]
     },
     "metadata": {
      "needs_background": "light"
     },
     "output_type": "display_data"
    }
   ],
   "source": [
    "a=1.5\n",
    "b=\"--\"\n",
    "plt.figure(figsize=(4,4))\n",
    "plt.plot(FAR_FRR_len_50[:,2], 1-FAR_FRR_len_50[:,1], color=\"red\", label=\"50\", lw=a, ls=b)\n",
    "plt.plot(FAR_FRR_len_100[:,2], 1-FAR_FRR_len_100[:,1], color=\"blue\", label=\"100\", lw=a, ls=b)\n",
    "plt.legend()\n",
    "plt.xlabel('False Accept Rate')\n",
    "plt.ylabel('True Reject Rate')\n",
    "plt.title('ROC curve')\n",
    "plt.show"
   ]
  }
 ],
 "metadata": {
  "kernelspec": {
   "display_name": "Python 3",
   "language": "python",
   "name": "python3"
  },
  "language_info": {
   "codemirror_mode": {
    "name": "ipython",
    "version": 3
   },
   "file_extension": ".py",
   "mimetype": "text/x-python",
   "name": "python",
   "nbconvert_exporter": "python",
   "pygments_lexer": "ipython3",
   "version": "3.7.3"
  }
 },
 "nbformat": 4,
 "nbformat_minor": 2
}
