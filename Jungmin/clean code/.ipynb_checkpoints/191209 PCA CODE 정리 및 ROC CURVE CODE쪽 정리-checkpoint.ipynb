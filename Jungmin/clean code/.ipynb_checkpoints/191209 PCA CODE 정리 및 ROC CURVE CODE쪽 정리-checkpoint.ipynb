{
 "cells": [
  {
   "cell_type": "markdown",
   "metadata": {},
   "source": [
    "## PCA CODE 정리"
   ]
  },
  {
   "cell_type": "code",
   "execution_count": 1,
   "metadata": {},
   "outputs": [],
   "source": [
    "import math\n",
    "import numpy as np\n",
    "import cv2, os\n",
    "import pandas as pd\n",
    "from numpy import linalg as LA\n",
    "import matplotlib.pyplot as plt"
   ]
  },
  {
   "cell_type": "markdown",
   "metadata": {},
   "source": [
    "내가 짠 pca 코드에 의하면 계산하기 52개의 주축만 뽑아낼 수 있음. \n",
    "(카드가 52장이기 때문에)\n",
    "\n",
    "그렇게 안하려면 다른식으로 코드를 짜야하는데.. 계산량이 엄청많은 방법밖에 모르겟음ㅠㅠ"
   ]
  },
  {
   "cell_type": "code",
   "execution_count": 118,
   "metadata": {},
   "outputs": [],
   "source": [
    "def pca(D, pca_num=20):\n",
    "    L = np.dot(D, D.T)\n",
    "    w, v = LA.eig(L)\n",
    "\n",
    "    # 고유값 0인거 제거    \n",
    "    zero_eigen = [i for i in range(len(w)) if abs(w[i]) <1e-4]\n",
    "    j=0\n",
    "    for i in zero_eigen:\n",
    "        w = np.delete(w, i-j, axis=0)\n",
    "        v = np.delete(v, i-j, axis=1)\n",
    "        j+=1\n",
    "\n",
    "    # 고유값 내림차순으로 정렬\n",
    "    ww = np.sort(w.real)[::-1]\n",
    "    index = np.argsort(w.real)[::-1]  \n",
    "    vv = np.array([v[:,i].real for i in list(index)]).T \n",
    "\n",
    "    ww = ww[:pca_num]\n",
    "    vv = vv[:, :pca_num]\n",
    "\n",
    "    u = np.dot(vv.T, D)\n",
    "    u = u/(LA.norm(u, axis=0))\n",
    "\n",
    "    weight=np.dot(D,u.T)\n",
    "    return u, weight"
   ]
  },
  {
   "cell_type": "code",
   "execution_count": 182,
   "metadata": {},
   "outputs": [],
   "source": [
    "# 유클리디안 짝퉁. sqrt가 계산이오래걸린다니 제곱하는것만 넣었습니당.\n",
    "## 출력의 shape는 (52,)로 그래프를 그리기 편하게 연출되어있습니다.\n",
    "\n",
    "def ud(img, eigenvector, img_weight, index):\n",
    "    test_weight = np.dot(img, eigenvector.T)\n",
    "    weight = img_weight - test_weight.reshape(1,-1)\n",
    "    dist = np.sum(weight*weight, axis=1)\n",
    "    # dist = np.sqrt(np.sum(weight*weight, axis=1))\n",
    "    \n",
    "    dist = pd.DataFrame(dist.reshape(1,-1), columns=index)\n",
    "    return dist"
   ]
  },
  {
   "cell_type": "code",
   "execution_count": 184,
   "metadata": {},
   "outputs": [],
   "source": [
    "def cosine_similarity(img, eigenvector, img_weight, index):\n",
    "    test_weight = np.dot(img, eigenvector.T)\n",
    "    dist = np.sqrt(np.sum(test_weight*test_weight))\n",
    "\n",
    "    cosine_similiarity = np.zeros((1, img_weight.shape[0]))\n",
    "    for i in range(img_weight.shape[0]):\n",
    "        cosine_similiarity[0, i]=(np.sum(test_weight*img_weight[i]))/((dist)*(np.sqrt(np.sum(img_weight[i]*img_weight[i]))))\n",
    "        \n",
    "    cosine_similiarity = pd.DataFrame(cosine_similiarity.reshape(1,-1), columns=index)\n",
    "    return cosine_similiarity"
   ]
  },
  {
   "cell_type": "code",
   "execution_count": null,
   "metadata": {},
   "outputs": [],
   "source": []
  },
  {
   "cell_type": "code",
   "execution_count": 199,
   "metadata": {},
   "outputs": [],
   "source": [
    "def ROC_dir(pca_num=20):\n",
    "    data_loc = '../../dataset/card_deck1/'\n",
    "    filelist = os.listdir(data_loc)\n",
    "\n",
    "    length = len(filelist)\n",
    "    imgary = np.zeros((length, 120*100))\n",
    "    labels = []\n",
    "    n=0\n",
    "    for i in filelist:\n",
    "        tmpimg = cv2.imread(data_loc+i, cv2.IMREAD_GRAYSCALE)\n",
    "        tmpimg = np.reshape(tmpimg, (-1,))\n",
    "        imgary[n] = tmpimg\n",
    "        labels.append(i[:-4])\n",
    "        n+=1\n",
    "    \n",
    "    eigenvector, img_weights = pca(imgary,pca_num)\n",
    "    \n",
    "    cols = labels.copy()\n",
    "    cols.append(\"label\")\n",
    "    df= pd.DataFrame(columns = cols)\n",
    "    \n",
    "    n=0\n",
    "    for imgs in filelist:\n",
    "        tmpimg = cv2.imread(data_loc+imgs, cv2.IMREAD_GRAYSCALE)\n",
    "        tmpimg = np.reshape(tmpimg, (-1,))\n",
    "\n",
    "        df1 = ud(tmpimg, eigenvector, img_weights, labels)\n",
    "        df1[\"label\"]=labels[n]\n",
    "        df= pd.concat([df, df1])\n",
    "        n+=1\n",
    "\n",
    "    return df"
   ]
  },
  {
   "cell_type": "code",
   "execution_count": null,
   "metadata": {},
   "outputs": [],
   "source": [
    "#####여기서부턴 내일건들예정 참고하지마시오########"
   ]
  },
  {
   "cell_type": "code",
   "execution_count": 207,
   "metadata": {},
   "outputs": [],
   "source": [
    "def plot(pca_num=20):\n",
    "    df = ROC_dir(pca_num)\n",
    "    card = np.unique(df[\"label\"])\n",
    "    num_card = len(card)\n",
    "    authentic = np.zeros((num_card,))\n",
    "    imposter = np.zeros((num_card*(num_card-1),))\n",
    "    fig = plt.figure(figsize=(7,7))\n",
    "    a = np.ceil(num_card/4)\n",
    "    j=0\n",
    "    for i in range(num_card):\n",
    "        name = card[i]\n",
    "\n",
    "        for naname in card:\n",
    "            T_T = np.array(df[df[\"label\"]==name].loc[:, naname:naname]).reshape(-1,)\n",
    "            if naname == name:\n",
    "                temp=i\n",
    "                authentic[temp] = T_T\n",
    "            else:\n",
    "                temp = j\n",
    "                imposter[temp:temp+2500] = T_T\n",
    "                j+=1 \n",
    "        \n",
    "        ax = fig.add_subplot(4,a, i+1)\n",
    "        ax.set_title(name)\n",
    "        plt.hist(authentic[i:(i+1)], range=[-1,1], color = 'r',  bins=100, alpha = 0.6)\n",
    "        plt.hist(imposter[i*6:(i+1)*2500*6], range=[-1,1], color = 'b',  bins=100, alpha = 0.6 )\n",
    "        plt.tight_layout()\n",
    "\n",
    "    fig = plt.figure(figsize=(7,5))\n",
    "    plt.ylim((0, 4000))\n",
    "    plt.hist(authentic, range=[-1,1],   color = 'r',  bins=100, alpha = 0.6, label = \"authentic\")\n",
    "    plt.hist(imposter, range=[-1,1],   color = 'b',  bins=100, alpha = 0.6, label = \"imposter\")\n",
    "    plt.axvline(x=authentic.mean(), color = 'r')\n",
    "    plt.axvline(x=imposter.mean(), color = 'b')\n",
    "    plt.legend()\n",
    "        \n",
    "    return  authentic, imposter # authentic.mean(), authentic.std(), imposter.mean(), imposter.std()"
   ]
  },
  {
   "cell_type": "code",
   "execution_count": null,
   "metadata": {},
   "outputs": [],
   "source": [
    "def FAR_FRR (authentic, imposter):\n",
    "    threshold_array = np.arange(-1,1,0.01)\n",
    "    FAR_FRR_len = np.zeros((len(threshold_array),3))\n",
    "    \n",
    "    i=0\n",
    "    auth_len = len(authentic)\n",
    "    impo_len = len(imposter)\n",
    "    for threshold in threshold_array:\n",
    "        FAR_FRR_len[i][0]=threshold\n",
    "        FAR_FRR_len[i][1]=len(authentic[authentic<threshold])/auth_len\n",
    "        FAR_FRR_len[i][2]=len(imposter[imposter>threshold])/impo_len\n",
    "        i+=1\n",
    "    index = np.argmin(np.abs(FAR_FRR_len[:,1]-FAR_FRR_len[:,2]))\n",
    "    threshold_EER = FAR_FRR_len[index][0]\n",
    "    EER = np.mean(FAR_FRR_len[index][1:3])\n",
    "    \n",
    "    return threshold_EER,  EER, FAR_FRR_len"
   ]
  },
  {
   "cell_type": "code",
   "execution_count": 44,
   "metadata": {},
   "outputs": [],
   "source": [
    "data_loc = '../../dataset/card_deck1/'\n",
    "filelist = os.listdir(data_loc)\n",
    "\n",
    "length = len(filelist)\n",
    "imgary = np.zeros((length, 120*100))\n",
    "labels = []\n",
    "n=0\n",
    "for i in filelist:\n",
    "    tmpimg = cv2.imread(data_loc+i, cv2.IMREAD_GRAYSCALE)\n",
    "    tmpimg = np.reshape(tmpimg, (-1,))\n",
    "    imgary[n] = tmpimg\n",
    "    labels.append(i[:-4])\n",
    "    n+=1"
   ]
  },
  {
   "cell_type": "code",
   "execution_count": 136,
   "metadata": {},
   "outputs": [],
   "source": [
    "eigenvector, img_weights = pca(imgary, 10)"
   ]
  },
  {
   "cell_type": "code",
   "execution_count": 183,
   "metadata": {},
   "outputs": [
    {
     "data": {
      "text/html": [
       "<div>\n",
       "<style scoped>\n",
       "    .dataframe tbody tr th:only-of-type {\n",
       "        vertical-align: middle;\n",
       "    }\n",
       "\n",
       "    .dataframe tbody tr th {\n",
       "        vertical-align: top;\n",
       "    }\n",
       "\n",
       "    .dataframe thead th {\n",
       "        text-align: right;\n",
       "    }\n",
       "</style>\n",
       "<table border=\"1\" class=\"dataframe\">\n",
       "  <thead>\n",
       "    <tr style=\"text-align: right;\">\n",
       "      <th></th>\n",
       "      <th>C10</th>\n",
       "      <th>C2</th>\n",
       "      <th>C3</th>\n",
       "      <th>C4</th>\n",
       "      <th>C5</th>\n",
       "      <th>C6</th>\n",
       "      <th>C7</th>\n",
       "      <th>C8</th>\n",
       "      <th>C9</th>\n",
       "      <th>CA</th>\n",
       "      <th>...</th>\n",
       "      <th>S4</th>\n",
       "      <th>S5</th>\n",
       "      <th>S6</th>\n",
       "      <th>S7</th>\n",
       "      <th>S8</th>\n",
       "      <th>S9</th>\n",
       "      <th>SA</th>\n",
       "      <th>SJ</th>\n",
       "      <th>SK</th>\n",
       "      <th>SQ</th>\n",
       "    </tr>\n",
       "  </thead>\n",
       "  <tbody>\n",
       "    <tr>\n",
       "      <th>0</th>\n",
       "      <td>1.063683e-17</td>\n",
       "      <td>5.844574e+11</td>\n",
       "      <td>4.792688e+11</td>\n",
       "      <td>3.821168e+11</td>\n",
       "      <td>2.955007e+11</td>\n",
       "      <td>2.126672e+11</td>\n",
       "      <td>1.187868e+11</td>\n",
       "      <td>6.780299e+10</td>\n",
       "      <td>1.117234e+10</td>\n",
       "      <td>2.685914e+11</td>\n",
       "      <td>...</td>\n",
       "      <td>4.308094e+11</td>\n",
       "      <td>3.517334e+11</td>\n",
       "      <td>2.684259e+11</td>\n",
       "      <td>1.992220e+11</td>\n",
       "      <td>1.372457e+11</td>\n",
       "      <td>4.086234e+10</td>\n",
       "      <td>3.394394e+11</td>\n",
       "      <td>4.716250e+10</td>\n",
       "      <td>5.187427e+10</td>\n",
       "      <td>4.617731e+10</td>\n",
       "    </tr>\n",
       "  </tbody>\n",
       "</table>\n",
       "<p>1 rows × 52 columns</p>\n",
       "</div>"
      ],
      "text/plain": [
       "            C10            C2            C3            C4            C5  \\\n",
       "0  1.063683e-17  5.844574e+11  4.792688e+11  3.821168e+11  2.955007e+11   \n",
       "\n",
       "             C6            C7            C8            C9            CA  ...  \\\n",
       "0  2.126672e+11  1.187868e+11  6.780299e+10  1.117234e+10  2.685914e+11  ...   \n",
       "\n",
       "             S4            S5            S6            S7            S8  \\\n",
       "0  4.308094e+11  3.517334e+11  2.684259e+11  1.992220e+11  1.372457e+11   \n",
       "\n",
       "             S9            SA            SJ            SK            SQ  \n",
       "0  4.086234e+10  3.394394e+11  4.716250e+10  5.187427e+10  4.617731e+10  \n",
       "\n",
       "[1 rows x 52 columns]"
      ]
     },
     "execution_count": 183,
     "metadata": {},
     "output_type": "execute_result"
    }
   ],
   "source": [
    "ud(imgary[0], eigenvector, img_weights, labels)"
   ]
  },
  {
   "cell_type": "code",
   "execution_count": 186,
   "metadata": {},
   "outputs": [
    {
     "data": {
      "text/html": [
       "<div>\n",
       "<style scoped>\n",
       "    .dataframe tbody tr th:only-of-type {\n",
       "        vertical-align: middle;\n",
       "    }\n",
       "\n",
       "    .dataframe tbody tr th {\n",
       "        vertical-align: top;\n",
       "    }\n",
       "\n",
       "    .dataframe thead th {\n",
       "        text-align: right;\n",
       "    }\n",
       "</style>\n",
       "<table border=\"1\" class=\"dataframe\">\n",
       "  <thead>\n",
       "    <tr style=\"text-align: right;\">\n",
       "      <th></th>\n",
       "      <th>C10</th>\n",
       "      <th>C2</th>\n",
       "      <th>C3</th>\n",
       "      <th>C4</th>\n",
       "      <th>C5</th>\n",
       "      <th>C6</th>\n",
       "      <th>C7</th>\n",
       "      <th>C8</th>\n",
       "      <th>C9</th>\n",
       "      <th>CA</th>\n",
       "      <th>...</th>\n",
       "      <th>S4</th>\n",
       "      <th>S5</th>\n",
       "      <th>S6</th>\n",
       "      <th>S7</th>\n",
       "      <th>S8</th>\n",
       "      <th>S9</th>\n",
       "      <th>SA</th>\n",
       "      <th>SJ</th>\n",
       "      <th>SK</th>\n",
       "      <th>SQ</th>\n",
       "    </tr>\n",
       "  </thead>\n",
       "  <tbody>\n",
       "    <tr>\n",
       "      <th>0</th>\n",
       "      <td>1.0</td>\n",
       "      <td>0.995543</td>\n",
       "      <td>0.994107</td>\n",
       "      <td>0.993276</td>\n",
       "      <td>0.992416</td>\n",
       "      <td>0.993254</td>\n",
       "      <td>0.996612</td>\n",
       "      <td>0.996554</td>\n",
       "      <td>0.999896</td>\n",
       "      <td>0.995511</td>\n",
       "      <td>...</td>\n",
       "      <td>0.993119</td>\n",
       "      <td>0.992446</td>\n",
       "      <td>0.992598</td>\n",
       "      <td>0.993311</td>\n",
       "      <td>0.993118</td>\n",
       "      <td>0.99949</td>\n",
       "      <td>0.995443</td>\n",
       "      <td>0.9948</td>\n",
       "      <td>0.994866</td>\n",
       "      <td>0.994763</td>\n",
       "    </tr>\n",
       "  </tbody>\n",
       "</table>\n",
       "<p>1 rows × 52 columns</p>\n",
       "</div>"
      ],
      "text/plain": [
       "   C10        C2        C3        C4        C5        C6        C7        C8  \\\n",
       "0  1.0  0.995543  0.994107  0.993276  0.992416  0.993254  0.996612  0.996554   \n",
       "\n",
       "         C9        CA  ...        S4        S5        S6        S7        S8  \\\n",
       "0  0.999896  0.995511  ...  0.993119  0.992446  0.992598  0.993311  0.993118   \n",
       "\n",
       "        S9        SA      SJ        SK        SQ  \n",
       "0  0.99949  0.995443  0.9948  0.994866  0.994763  \n",
       "\n",
       "[1 rows x 52 columns]"
      ]
     },
     "execution_count": 186,
     "metadata": {},
     "output_type": "execute_result"
    }
   ],
   "source": [
    "cosine_similarity(imgary[0], eigenvector, img_weights, labels)"
   ]
  },
  {
   "cell_type": "code",
   "execution_count": null,
   "metadata": {},
   "outputs": [],
   "source": []
  },
  {
   "cell_type": "code",
   "execution_count": 208,
   "metadata": {
    "scrolled": false
   },
   "outputs": [
    {
     "name": "stderr",
     "output_type": "stream",
     "text": [
      "c:\\users\\ohohk\\appdata\\local\\programs\\python\\python37\\lib\\site-packages\\ipykernel_launcher.py:27: UserWarning: Tight layout not applied. tight_layout cannot make axes width small enough to accommodate all axes decorations\n"
     ]
    },
    {
     "ename": "KeyboardInterrupt",
     "evalue": "",
     "output_type": "error",
     "traceback": [
      "\u001b[1;31m---------------------------------------------------------------------------\u001b[0m",
      "\u001b[1;31mKeyboardInterrupt\u001b[0m                         Traceback (most recent call last)",
      "\u001b[1;32m<ipython-input-208-e10855490ab2>\u001b[0m in \u001b[0;36m<module>\u001b[1;34m\u001b[0m\n\u001b[1;32m----> 1\u001b[1;33m \u001b[0mplot\u001b[0m\u001b[1;33m(\u001b[0m\u001b[1;36m10\u001b[0m\u001b[1;33m)\u001b[0m\u001b[1;33m\u001b[0m\u001b[1;33m\u001b[0m\u001b[0m\n\u001b[0m",
      "\u001b[1;32m<ipython-input-207-33f16093cde7>\u001b[0m in \u001b[0;36mplot\u001b[1;34m(pca_num)\u001b[0m\n\u001b[0;32m     25\u001b[0m         \u001b[0mplt\u001b[0m\u001b[1;33m.\u001b[0m\u001b[0mhist\u001b[0m\u001b[1;33m(\u001b[0m\u001b[0mauthentic\u001b[0m\u001b[1;33m[\u001b[0m\u001b[0mi\u001b[0m\u001b[1;33m*\u001b[0m\u001b[1;36m2500\u001b[0m\u001b[1;33m:\u001b[0m\u001b[1;33m(\u001b[0m\u001b[0mi\u001b[0m\u001b[1;33m+\u001b[0m\u001b[1;36m1\u001b[0m\u001b[1;33m)\u001b[0m\u001b[1;33m*\u001b[0m\u001b[1;36m2500\u001b[0m\u001b[1;33m]\u001b[0m\u001b[1;33m,\u001b[0m \u001b[0mrange\u001b[0m\u001b[1;33m=\u001b[0m\u001b[1;33m[\u001b[0m\u001b[1;33m-\u001b[0m\u001b[1;36m1\u001b[0m\u001b[1;33m,\u001b[0m\u001b[1;36m1\u001b[0m\u001b[1;33m]\u001b[0m\u001b[1;33m,\u001b[0m \u001b[0mcolor\u001b[0m \u001b[1;33m=\u001b[0m \u001b[1;34m'r'\u001b[0m\u001b[1;33m,\u001b[0m  \u001b[0mbins\u001b[0m\u001b[1;33m=\u001b[0m\u001b[1;36m100\u001b[0m\u001b[1;33m,\u001b[0m \u001b[0malpha\u001b[0m \u001b[1;33m=\u001b[0m \u001b[1;36m0.6\u001b[0m\u001b[1;33m)\u001b[0m\u001b[1;33m\u001b[0m\u001b[1;33m\u001b[0m\u001b[0m\n\u001b[0;32m     26\u001b[0m         \u001b[0mplt\u001b[0m\u001b[1;33m.\u001b[0m\u001b[0mhist\u001b[0m\u001b[1;33m(\u001b[0m\u001b[0mimposter\u001b[0m\u001b[1;33m[\u001b[0m\u001b[0mi\u001b[0m\u001b[1;33m*\u001b[0m\u001b[1;36m2500\u001b[0m\u001b[1;33m*\u001b[0m\u001b[1;36m6\u001b[0m\u001b[1;33m:\u001b[0m\u001b[1;33m(\u001b[0m\u001b[0mi\u001b[0m\u001b[1;33m+\u001b[0m\u001b[1;36m1\u001b[0m\u001b[1;33m)\u001b[0m\u001b[1;33m*\u001b[0m\u001b[1;36m2500\u001b[0m\u001b[1;33m*\u001b[0m\u001b[1;36m6\u001b[0m\u001b[1;33m]\u001b[0m\u001b[1;33m,\u001b[0m \u001b[0mrange\u001b[0m\u001b[1;33m=\u001b[0m\u001b[1;33m[\u001b[0m\u001b[1;33m-\u001b[0m\u001b[1;36m1\u001b[0m\u001b[1;33m,\u001b[0m\u001b[1;36m1\u001b[0m\u001b[1;33m]\u001b[0m\u001b[1;33m,\u001b[0m \u001b[0mcolor\u001b[0m \u001b[1;33m=\u001b[0m \u001b[1;34m'b'\u001b[0m\u001b[1;33m,\u001b[0m  \u001b[0mbins\u001b[0m\u001b[1;33m=\u001b[0m\u001b[1;36m100\u001b[0m\u001b[1;33m,\u001b[0m \u001b[0malpha\u001b[0m \u001b[1;33m=\u001b[0m \u001b[1;36m0.6\u001b[0m \u001b[1;33m)\u001b[0m\u001b[1;33m\u001b[0m\u001b[1;33m\u001b[0m\u001b[0m\n\u001b[1;32m---> 27\u001b[1;33m         \u001b[0mplt\u001b[0m\u001b[1;33m.\u001b[0m\u001b[0mtight_layout\u001b[0m\u001b[1;33m(\u001b[0m\u001b[1;33m)\u001b[0m\u001b[1;33m\u001b[0m\u001b[1;33m\u001b[0m\u001b[0m\n\u001b[0m\u001b[0;32m     28\u001b[0m \u001b[1;33m\u001b[0m\u001b[0m\n\u001b[0;32m     29\u001b[0m     \u001b[0mfig\u001b[0m \u001b[1;33m=\u001b[0m \u001b[0mplt\u001b[0m\u001b[1;33m.\u001b[0m\u001b[0mfigure\u001b[0m\u001b[1;33m(\u001b[0m\u001b[0mfigsize\u001b[0m\u001b[1;33m=\u001b[0m\u001b[1;33m(\u001b[0m\u001b[1;36m7\u001b[0m\u001b[1;33m,\u001b[0m\u001b[1;36m5\u001b[0m\u001b[1;33m)\u001b[0m\u001b[1;33m)\u001b[0m\u001b[1;33m\u001b[0m\u001b[1;33m\u001b[0m\u001b[0m\n",
      "\u001b[1;32mc:\\users\\ohohk\\appdata\\local\\programs\\python\\python37\\lib\\site-packages\\matplotlib\\pyplot.py\u001b[0m in \u001b[0;36mtight_layout\u001b[1;34m(pad, h_pad, w_pad, rect)\u001b[0m\n\u001b[0;32m   1373\u001b[0m         labels) will fit into. Default is (0, 0, 1, 1).\n\u001b[0;32m   1374\u001b[0m     \"\"\"\n\u001b[1;32m-> 1375\u001b[1;33m     \u001b[0mgcf\u001b[0m\u001b[1;33m(\u001b[0m\u001b[1;33m)\u001b[0m\u001b[1;33m.\u001b[0m\u001b[0mtight_layout\u001b[0m\u001b[1;33m(\u001b[0m\u001b[0mpad\u001b[0m\u001b[1;33m=\u001b[0m\u001b[0mpad\u001b[0m\u001b[1;33m,\u001b[0m \u001b[0mh_pad\u001b[0m\u001b[1;33m=\u001b[0m\u001b[0mh_pad\u001b[0m\u001b[1;33m,\u001b[0m \u001b[0mw_pad\u001b[0m\u001b[1;33m=\u001b[0m\u001b[0mw_pad\u001b[0m\u001b[1;33m,\u001b[0m \u001b[0mrect\u001b[0m\u001b[1;33m=\u001b[0m\u001b[0mrect\u001b[0m\u001b[1;33m)\u001b[0m\u001b[1;33m\u001b[0m\u001b[1;33m\u001b[0m\u001b[0m\n\u001b[0m\u001b[0;32m   1376\u001b[0m \u001b[1;33m\u001b[0m\u001b[0m\n\u001b[0;32m   1377\u001b[0m \u001b[1;33m\u001b[0m\u001b[0m\n",
      "\u001b[1;32mc:\\users\\ohohk\\appdata\\local\\programs\\python\\python37\\lib\\site-packages\\matplotlib\\figure.py\u001b[0m in \u001b[0;36mtight_layout\u001b[1;34m(self, renderer, pad, h_pad, w_pad, rect)\u001b[0m\n\u001b[0;32m   2474\u001b[0m         kwargs = get_tight_layout_figure(\n\u001b[0;32m   2475\u001b[0m             \u001b[0mself\u001b[0m\u001b[1;33m,\u001b[0m \u001b[0mself\u001b[0m\u001b[1;33m.\u001b[0m\u001b[0maxes\u001b[0m\u001b[1;33m,\u001b[0m \u001b[0msubplotspec_list\u001b[0m\u001b[1;33m,\u001b[0m \u001b[0mrenderer\u001b[0m\u001b[1;33m,\u001b[0m\u001b[1;33m\u001b[0m\u001b[1;33m\u001b[0m\u001b[0m\n\u001b[1;32m-> 2476\u001b[1;33m             pad=pad, h_pad=h_pad, w_pad=w_pad, rect=rect)\n\u001b[0m\u001b[0;32m   2477\u001b[0m         \u001b[1;32mif\u001b[0m \u001b[0mkwargs\u001b[0m\u001b[1;33m:\u001b[0m\u001b[1;33m\u001b[0m\u001b[1;33m\u001b[0m\u001b[0m\n\u001b[0;32m   2478\u001b[0m             \u001b[0mself\u001b[0m\u001b[1;33m.\u001b[0m\u001b[0msubplots_adjust\u001b[0m\u001b[1;33m(\u001b[0m\u001b[1;33m**\u001b[0m\u001b[0mkwargs\u001b[0m\u001b[1;33m)\u001b[0m\u001b[1;33m\u001b[0m\u001b[1;33m\u001b[0m\u001b[0m\n",
      "\u001b[1;32mc:\\users\\ohohk\\appdata\\local\\programs\\python\\python37\\lib\\site-packages\\matplotlib\\tight_layout.py\u001b[0m in \u001b[0;36mget_tight_layout_figure\u001b[1;34m(fig, axes_list, subplotspec_list, renderer, pad, h_pad, w_pad, rect)\u001b[0m\n\u001b[0;32m    318\u001b[0m             \u001b[0msubplotspec_list2\u001b[0m\u001b[1;33m.\u001b[0m\u001b[0mappend\u001b[0m\u001b[1;33m(\u001b[0m\u001b[0msubplotspec\u001b[0m\u001b[1;33m)\u001b[0m\u001b[1;33m\u001b[0m\u001b[1;33m\u001b[0m\u001b[0m\n\u001b[0;32m    319\u001b[0m             \u001b[0msubplot_list\u001b[0m\u001b[1;33m.\u001b[0m\u001b[0mappend\u001b[0m\u001b[1;33m(\u001b[0m\u001b[0msubplots\u001b[0m\u001b[1;33m)\u001b[0m\u001b[1;33m\u001b[0m\u001b[1;33m\u001b[0m\u001b[0m\n\u001b[1;32m--> 320\u001b[1;33m             \u001b[0max_bbox_list\u001b[0m\u001b[1;33m.\u001b[0m\u001b[0mappend\u001b[0m\u001b[1;33m(\u001b[0m\u001b[0msubplotspec\u001b[0m\u001b[1;33m.\u001b[0m\u001b[0mget_position\u001b[0m\u001b[1;33m(\u001b[0m\u001b[0mfig\u001b[0m\u001b[1;33m)\u001b[0m\u001b[1;33m)\u001b[0m\u001b[1;33m\u001b[0m\u001b[1;33m\u001b[0m\u001b[0m\n\u001b[0m\u001b[0;32m    321\u001b[0m \u001b[1;33m\u001b[0m\u001b[0m\n\u001b[0;32m    322\u001b[0m         \u001b[0msubplots\u001b[0m\u001b[1;33m.\u001b[0m\u001b[0mappend\u001b[0m\u001b[1;33m(\u001b[0m\u001b[0max\u001b[0m\u001b[1;33m)\u001b[0m\u001b[1;33m\u001b[0m\u001b[1;33m\u001b[0m\u001b[0m\n",
      "\u001b[1;32mc:\\users\\ohohk\\appdata\\local\\programs\\python\\python37\\lib\\site-packages\\matplotlib\\gridspec.py\u001b[0m in \u001b[0;36mget_position\u001b[1;34m(self, figure, return_all)\u001b[0m\n\u001b[0;32m    497\u001b[0m \u001b[1;33m\u001b[0m\u001b[0m\n\u001b[0;32m    498\u001b[0m         \u001b[0mfig_bottom\u001b[0m \u001b[1;33m=\u001b[0m \u001b[0mfig_bottoms\u001b[0m\u001b[1;33m[\u001b[0m\u001b[0mrows\u001b[0m\u001b[1;33m]\u001b[0m\u001b[1;33m.\u001b[0m\u001b[0mmin\u001b[0m\u001b[1;33m(\u001b[0m\u001b[1;33m)\u001b[0m\u001b[1;33m\u001b[0m\u001b[1;33m\u001b[0m\u001b[0m\n\u001b[1;32m--> 499\u001b[1;33m         \u001b[0mfig_top\u001b[0m \u001b[1;33m=\u001b[0m \u001b[0mfig_tops\u001b[0m\u001b[1;33m[\u001b[0m\u001b[0mrows\u001b[0m\u001b[1;33m]\u001b[0m\u001b[1;33m.\u001b[0m\u001b[0mmax\u001b[0m\u001b[1;33m(\u001b[0m\u001b[1;33m)\u001b[0m\u001b[1;33m\u001b[0m\u001b[1;33m\u001b[0m\u001b[0m\n\u001b[0m\u001b[0;32m    500\u001b[0m         \u001b[0mfig_left\u001b[0m \u001b[1;33m=\u001b[0m \u001b[0mfig_lefts\u001b[0m\u001b[1;33m[\u001b[0m\u001b[0mcols\u001b[0m\u001b[1;33m]\u001b[0m\u001b[1;33m.\u001b[0m\u001b[0mmin\u001b[0m\u001b[1;33m(\u001b[0m\u001b[1;33m)\u001b[0m\u001b[1;33m\u001b[0m\u001b[1;33m\u001b[0m\u001b[0m\n\u001b[0;32m    501\u001b[0m         \u001b[0mfig_right\u001b[0m \u001b[1;33m=\u001b[0m \u001b[0mfig_rights\u001b[0m\u001b[1;33m[\u001b[0m\u001b[0mcols\u001b[0m\u001b[1;33m]\u001b[0m\u001b[1;33m.\u001b[0m\u001b[0mmax\u001b[0m\u001b[1;33m(\u001b[0m\u001b[1;33m)\u001b[0m\u001b[1;33m\u001b[0m\u001b[1;33m\u001b[0m\u001b[0m\n",
      "\u001b[1;32mc:\\users\\ohohk\\appdata\\local\\programs\\python\\python37\\lib\\site-packages\\numpy\\core\\_methods.py\u001b[0m in \u001b[0;36m_amax\u001b[1;34m(a, axis, out, keepdims, initial, where)\u001b[0m\n\u001b[0;32m     28\u001b[0m def _amax(a, axis=None, out=None, keepdims=False,\n\u001b[0;32m     29\u001b[0m           initial=_NoValue, where=True):\n\u001b[1;32m---> 30\u001b[1;33m     \u001b[1;32mreturn\u001b[0m \u001b[0mumr_maximum\u001b[0m\u001b[1;33m(\u001b[0m\u001b[0ma\u001b[0m\u001b[1;33m,\u001b[0m \u001b[0maxis\u001b[0m\u001b[1;33m,\u001b[0m \u001b[1;32mNone\u001b[0m\u001b[1;33m,\u001b[0m \u001b[0mout\u001b[0m\u001b[1;33m,\u001b[0m \u001b[0mkeepdims\u001b[0m\u001b[1;33m,\u001b[0m \u001b[0minitial\u001b[0m\u001b[1;33m,\u001b[0m \u001b[0mwhere\u001b[0m\u001b[1;33m)\u001b[0m\u001b[1;33m\u001b[0m\u001b[1;33m\u001b[0m\u001b[0m\n\u001b[0m\u001b[0;32m     31\u001b[0m \u001b[1;33m\u001b[0m\u001b[0m\n\u001b[0;32m     32\u001b[0m def _amin(a, axis=None, out=None, keepdims=False,\n",
      "\u001b[1;31mKeyboardInterrupt\u001b[0m: "
     ]
    },
    {
     "data": {
      "image/png": "[encoded data removed]",
      "text/plain": [
       "<Figure size 504x504 with 25 Axes>"
      ]
     },
     "metadata": {
      "needs_background": "light"
     },
     "output_type": "display_data"
    }
   ],
   "source": [
    "plot(10)"
   ]
  },
  {
   "cell_type": "code",
   "execution_count": null,
   "metadata": {},
   "outputs": [],
   "source": []
  }
 ],
 "metadata": {
  "kernelspec": {
   "display_name": "Python 3",
   "language": "python",
   "name": "python3"
  },
  "language_info": {
   "codemirror_mode": {
    "name": "ipython",
    "version": 3
   },
   "file_extension": ".py",
   "mimetype": "text/x-python",
   "name": "python",
   "nbconvert_exporter": "python",
   "pygments_lexer": "ipython3",
   "version": "3.7.3"
  }
 },
 "nbformat": 4,
 "nbformat_minor": 2
}
