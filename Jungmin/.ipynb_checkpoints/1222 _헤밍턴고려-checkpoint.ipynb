{
 "cells": [
  {
   "cell_type": "code",
   "execution_count": 1,
   "metadata": {},
   "outputs": [],
   "source": [
    "\n",
    "import cv2\n",
    "import numpy as np\n",
    "import matplotlib.pyplot as plt\n",
    "import os, math"
   ]
  },
  {
   "cell_type": "code",
   "execution_count": 129,
   "metadata": {},
   "outputs": [],
   "source": [
    "def preprocess_perspective(file_name):\n",
    "    ## contours를 찾는 작업\n",
    "    tresh_min = 100\n",
    "    tresh_max = 255\n",
    "\n",
    "    image = cv2.imread(file_name)\n",
    "    im_bw = cv2.cvtColor(image, cv2.COLOR_BGR2GRAY)\n",
    "    thresh, im_bw = cv2.threshold(im_bw, tresh_min, tresh_max, 0)\n",
    "    contours, hierarchy = cv2.findContours(im_bw, cv2.RETR_TREE, cv2.CHAIN_APPROX_SIMPLE)\n",
    "    \n",
    "    # 모서리를 찾는 작업\n",
    "    rects = [cv2.minAreaRect(each) for each in contours]\n",
    "    rects = [(a,b,c) for a, b, c  in rects if ((b[0]*b[1]>9000))] # 값 9000은 추후 수정 필요\n",
    "    if len(rects)>1:\n",
    "        return \"too many cards\" # 사각형을 여러개 찾았으니 error 표시\n",
    "    \n",
    "    box = cv2.boxPoints(rect)\n",
    "    \n",
    "    box = box[np.argsort(box[:, 1])]\n",
    "    if box[0][0]>box[1][0]:\n",
    "        temp = box[0].copy()\n",
    "        box[0] = box[1]\n",
    "        box[1] = temp\n",
    "    if box[2][0]<box[3][0]:\n",
    "        temp = box[2].copy()\n",
    "        box[2] = box[3]\n",
    "        box[3] = temp\n",
    "    # wrapPerspective 하는 작업\n",
    "    maxWidth = 100\n",
    "    maxHeight = 120\n",
    "    dst = np.array([[0,0],[maxWidth-1,0],[maxWidth-1,maxHeight-1],[0, maxHeight-1]], np.float32)\n",
    "    M = cv2.getPerspectiveTransform(box,dst)\n",
    "    warp = cv2.warpPerspective(image, M, (maxWidth, maxHeight),borderValue = (255,255,255)) # warp에 이미지 담김\n",
    "    warp = cv2.cvtColor(warp,cv2.COLOR_BGR2GRAY)\n",
    "    \n",
    "    # wrap 이미지랑 꼭지점 담긴 행렬 돌려줌\n",
    "    return warp #, temp_rect"
   ]
  },
  {
   "cell_type": "code",
   "execution_count": 160,
   "metadata": {},
   "outputs": [],
   "source": [
    "tresh_min = 150\n",
    "tresh_max = 255"
   ]
  },
  {
   "cell_type": "code",
   "execution_count": 161,
   "metadata": {},
   "outputs": [],
   "source": [
    "warp = preprocess_perspective('../big_au/sample2/C10_0_5434.jpg')"
   ]
  },
  {
   "cell_type": "code",
   "execution_count": 162,
   "metadata": {},
   "outputs": [
    {
     "data": {
      "text/plain": [
       "array([[ 76,  92,  89, ...,  83, 101,  53],\n",
       "       [134, 189, 212, ..., 193, 200, 108],\n",
       "       [103, 196, 237, ..., 237, 203,  86],\n",
       "       ...,\n",
       "       [ 86, 204, 248, ..., 255, 255, 255],\n",
       "       [ 94, 204, 214, ..., 255, 255, 255],\n",
       "       [ 94, 178, 162, ..., 255, 255, 255]], dtype=uint8)"
      ]
     },
     "execution_count": 162,
     "metadata": {},
     "output_type": "execute_result"
    }
   ],
   "source": [
    "warp"
   ]
  },
  {
   "cell_type": "markdown",
   "metadata": {},
   "source": [
    "흑백이미지로 바꿈"
   ]
  },
  {
   "cell_type": "code",
   "execution_count": 163,
   "metadata": {},
   "outputs": [],
   "source": [
    "thresh, im_bw_warp = cv2.threshold(warp, tresh_min, tresh_max, 0)"
   ]
  },
  {
   "cell_type": "markdown",
   "metadata": {},
   "source": [
    "원래 카드랑 비교해보기"
   ]
  },
  {
   "cell_type": "code",
   "execution_count": 164,
   "metadata": {},
   "outputs": [],
   "source": [
    "image = cv2.imread('./test/origin_card/C10.jpg')\n",
    "im_bw_origin = cv2.cvtColor(image, cv2.COLOR_BGR2GRAY)\n",
    "thresh1,im_bw_origin = cv2.threshold(im_bw_origin, tresh_min, tresh_max, 0)"
   ]
  },
  {
   "cell_type": "code",
   "execution_count": 165,
   "metadata": {},
   "outputs": [
    {
     "data": {
      "text/plain": [
       "array([[  0,   0,   0, ...,   0,   0,   0],\n",
       "       [  0, 255, 255, ..., 255, 255,   0],\n",
       "       [  0, 255, 255, ..., 255, 255,   0],\n",
       "       ...,\n",
       "       [  0, 255, 255, ..., 255, 255, 255],\n",
       "       [  0, 255, 255, ..., 255, 255, 255],\n",
       "       [  0, 255, 255, ..., 255, 255, 255]], dtype=uint8)"
      ]
     },
     "execution_count": 165,
     "metadata": {},
     "output_type": "execute_result"
    }
   ],
   "source": [
    "im_bw_warp"
   ]
  },
  {
   "cell_type": "code",
   "execution_count": 166,
   "metadata": {},
   "outputs": [
    {
     "data": {
      "text/plain": [
       "array([[255, 255, 255, ..., 255, 255, 255],\n",
       "       [255, 255, 255, ..., 255, 255, 255],\n",
       "       [  0, 255, 255, ..., 255, 255,   0],\n",
       "       ...,\n",
       "       [  0, 255, 255, ..., 255, 255,   0],\n",
       "       [255, 255, 255, ..., 255, 255, 255],\n",
       "       [255, 255, 255, ..., 255, 255, 255]], dtype=uint8)"
      ]
     },
     "execution_count": 166,
     "metadata": {},
     "output_type": "execute_result"
    }
   ],
   "source": [
    "im_bw_origin"
   ]
  },
  {
   "cell_type": "markdown",
   "metadata": {},
   "source": [
    "해밍턴이용하기"
   ]
  },
  {
   "cell_type": "code",
   "execution_count": 167,
   "metadata": {},
   "outputs": [
    {
     "data": {
      "text/plain": [
       "11385"
      ]
     },
     "execution_count": 167,
     "metadata": {},
     "output_type": "execute_result"
    }
   ],
   "source": [
    "(im_bw_warp==im_bw_origin).sum()"
   ]
  },
  {
   "cell_type": "markdown",
   "metadata": {},
   "source": [
    "원래 c10인데 다른 거랑 비교한 게 더 낮게 나오는걸 보아 이건 일단 성능은 안좋을것같.."
   ]
  },
  {
   "cell_type": "code",
   "execution_count": 168,
   "metadata": {},
   "outputs": [
    {
     "data": {
      "text/plain": [
       "8022"
      ]
     },
     "execution_count": 168,
     "metadata": {},
     "output_type": "execute_result"
    }
   ],
   "source": [
    "image = cv2.imread('./test/origin_card/C2.jpg')\n",
    "im_bw_origin_2 = cv2.cvtColor(image, cv2.COLOR_BGR2GRAY)\n",
    "thresh1,im_bw_origin_2 = cv2.threshold(im_bw_origin_2, tresh_min, tresh_max, 0)\n",
    "(im_bw_warp==im_bw_origin_2).sum()"
   ]
  },
  {
   "cell_type": "code",
   "execution_count": null,
   "metadata": {},
   "outputs": [],
   "source": []
  },
  {
   "cell_type": "code",
   "execution_count": 169,
   "metadata": {},
   "outputs": [
    {
     "data": {
      "text/plain": [
       "7337"
      ]
     },
     "execution_count": 169,
     "metadata": {},
     "output_type": "execute_result"
    }
   ],
   "source": [
    "image = cv2.imread('./test/origin_card/C3.jpg')\n",
    "im_bw_origin_2 = cv2.cvtColor(image, cv2.COLOR_BGR2GRAY)\n",
    "thresh1,im_bw_origin_2 = cv2.threshold(im_bw_origin_2, tresh_min, tresh_max, 0)\n",
    "(im_bw_warp==im_bw_origin_2).sum()"
   ]
  },
  {
   "cell_type": "code",
   "execution_count": 170,
   "metadata": {},
   "outputs": [
    {
     "data": {
      "text/plain": [
       "7310"
      ]
     },
     "execution_count": 170,
     "metadata": {},
     "output_type": "execute_result"
    }
   ],
   "source": [
    "image = cv2.imread('./test/origin_card/C4.jpg')\n",
    "im_bw_origin_2 = cv2.cvtColor(image, cv2.COLOR_BGR2GRAY)\n",
    "thresh1,im_bw_origin_2 = cv2.threshold(im_bw_origin_2, tresh_min, tresh_max, 0)\n",
    "(im_bw_warp==im_bw_origin_2).sum()"
   ]
  },
  {
   "cell_type": "code",
   "execution_count": 171,
   "metadata": {},
   "outputs": [
    {
     "data": {
      "text/plain": [
       "7682"
      ]
     },
     "execution_count": 171,
     "metadata": {},
     "output_type": "execute_result"
    }
   ],
   "source": [
    "image = cv2.imread('./test/origin_card/CA.jpg')\n",
    "im_bw_origin_2 = cv2.cvtColor(image, cv2.COLOR_BGR2GRAY)\n",
    "thresh1,im_bw_origin_2 = cv2.threshold(im_bw_origin_2, tresh_min, tresh_max, 0)\n",
    "(im_bw_warp==im_bw_origin_2).sum()"
   ]
  },
  {
   "cell_type": "code",
   "execution_count": 172,
   "metadata": {},
   "outputs": [
    {
     "data": {
      "text/plain": [
       "10268"
      ]
     },
     "execution_count": 172,
     "metadata": {},
     "output_type": "execute_result"
    }
   ],
   "source": [
    "image = cv2.imread('./test/origin_card/S10.jpg')\n",
    "im_bw_origin_2 = cv2.cvtColor(image, cv2.COLOR_BGR2GRAY)\n",
    "thresh1,im_bw_origin_2 = cv2.threshold(im_bw_origin_2, tresh_min, tresh_max, 0)\n",
    "(im_bw_warp==im_bw_origin_2).sum()"
   ]
  },
  {
   "cell_type": "code",
   "execution_count": 173,
   "metadata": {},
   "outputs": [
    {
     "data": {
      "text/plain": [
       "9497"
      ]
     },
     "execution_count": 173,
     "metadata": {},
     "output_type": "execute_result"
    }
   ],
   "source": [
    "image = cv2.imread('./test/origin_card/D10.jpg')\n",
    "im_bw_origin_2 = cv2.cvtColor(image, cv2.COLOR_BGR2GRAY)\n",
    "thresh1,im_bw_origin_2 = cv2.threshold(im_bw_origin_2, tresh_min, tresh_max, 0)\n",
    "(im_bw_warp==im_bw_origin_2).sum()"
   ]
  },
  {
   "cell_type": "code",
   "execution_count": 174,
   "metadata": {},
   "outputs": [
    {
     "data": {
      "text/plain": [
       "8932"
      ]
     },
     "execution_count": 174,
     "metadata": {},
     "output_type": "execute_result"
    }
   ],
   "source": [
    "image = cv2.imread('./test/origin_card/H10.jpg')\n",
    "im_bw_origin_2 = cv2.cvtColor(image, cv2.COLOR_BGR2GRAY)\n",
    "thresh1,im_bw_origin_2 = cv2.threshold(im_bw_origin_2, tresh_min, tresh_max, 0)\n",
    "(im_bw_warp==im_bw_origin_2).sum()"
   ]
  },
  {
   "cell_type": "code",
   "execution_count": null,
   "metadata": {},
   "outputs": [],
   "source": []
  },
  {
   "cell_type": "code",
   "execution_count": null,
   "metadata": {},
   "outputs": [],
   "source": []
  }
 ],
 "metadata": {
  "kernelspec": {
   "display_name": "Python 3",
   "language": "python",
   "name": "python3"
  },
  "language_info": {
   "codemirror_mode": {
    "name": "ipython",
    "version": 3
   },
   "file_extension": ".py",
   "mimetype": "text/x-python",
   "name": "python",
   "nbconvert_exporter": "python",
   "pygments_lexer": "ipython3",
   "version": "3.7.3"
  }
 },
 "nbformat": 4,
 "nbformat_minor": 2
}
