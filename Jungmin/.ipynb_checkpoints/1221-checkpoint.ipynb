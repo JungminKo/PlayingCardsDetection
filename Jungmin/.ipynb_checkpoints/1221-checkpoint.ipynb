{
 "cells": [
  {
   "cell_type": "code",
   "execution_count": 2,
   "metadata": {},
   "outputs": [],
   "source": [
    "\n",
    "import cv2\n",
    "import numpy as np\n",
    "import matplotlib.pyplot as plt\n",
    "import os, math"
   ]
  },
  {
   "cell_type": "code",
   "execution_count": null,
   "metadata": {},
   "outputs": [],
   "source": [
    "def perspective2(image):\n",
    "    ## contours를 찾는 작업\n",
    "    tresh_min = 100\n",
    "    tresh_max = 255\n",
    "\n",
    "    im_bw = cv2.cvtColor(image, cv2.COLOR_BGR2GRAY)\n",
    "    thresh, im_bw = cv2.threshold(im_bw, tresh_min, tresh_max, 0)\n",
    "    contours, hierarchy = cv2.findContours(im_bw, cv2.RETR_TREE, cv2.CHAIN_APPROX_SIMPLE)\n",
    "    \n",
    "    # 모서리를 찾는 작업\n",
    "    rects = [cv2.minAreaRect(each) for each in contours]\n",
    "    rects = [(a,b,c) for a, b, c  in rects if ((b[0]*b[1]>9000))]\n",
    "    if len(rects)\n",
    "    for rect in rects:\n",
    "        box = cv2.boxPoints(rect)\n",
    "        box = box.astype('int')\n",
    "#         img2 = cv2.drawContours(img, [box], -1, (0, 0, 255), 5)\n",
    "        \n",
    "    temp_rect = np.array(box, dtype = \"float32\")\n",
    "    temp_rect = temp_rect[np.argsort(temp_rect[:, 1])]\n",
    "    if temp_rect[0][0]>temp_rect[1][0]:\n",
    "        temp = temp_rect[0].copy()\n",
    "        temp_rect[0] = temp_rect[1]\n",
    "        temp_rect[1] = temp\n",
    "    if temp_rect[2][0]<temp_rect[3][0]:\n",
    "        temp = temp_rect[2].copy()\n",
    "        temp_rect[2] = temp_rect[3]\n",
    "        temp_rect[3] = temp\n",
    "    # wrapPerspective 하는 작업\n",
    "    maxWidth = 100\n",
    "    maxHeight = 120\n",
    "    dst = np.array([[0,0],[maxWidth-1,0],[maxWidth-1,maxHeight-1],[0, maxHeight-1]], np.float32)\n",
    "    M = cv2.getPerspectiveTransform(temp_rect,dst)\n",
    "    warp = cv2.warpPerspective(image, M, (maxWidth, maxHeight)) # warp에 이미지 담김\n",
    "    warp = cv2.cvtColor(warp,cv2.COLOR_BGR2GRAY)\n",
    "    \n",
    "    # wrap 이미지랑 꼭지점 담긴 행렬 돌려줌\n",
    "    return warp #, temp_rect"
   ]
  },
  {
   "cell_type": "code",
   "execution_count": 5,
   "metadata": {},
   "outputs": [],
   "source": [
    "tresh_min = 100\n",
    "tresh_max = 255\n",
    "\n",
    "image = cv2.imread('../big_au/sample2/C10_0_5434.jpg')\n",
    "im_bw = cv2.cvtColor(image, cv2.COLOR_BGR2GRAY)\n",
    "thresh, im_bw = cv2.threshold(im_bw, tresh_min, tresh_max, 0)\n",
    "contours, hierarchy = cv2.findContours(im_bw, cv2.RETR_TREE, cv2.CHAIN_APPROX_SIMPLE)\n",
    "\n",
    "# 모서리를 찾는 작업\n",
    "rects = [cv2.minAreaRect(each) for each in contours]\n",
    "rects = [(a,b,c) for a, b, c  in rects if ((b[0]*b[1]>9000))]\n",
    "for rect in rects:\n",
    "    box = cv2.boxPoints(rect)\n",
    "    box = box.astype('int')"
   ]
  },
  {
   "cell_type": "code",
   "execution_count": 7,
   "metadata": {},
   "outputs": [
    {
     "data": {
      "text/plain": [
       "1"
      ]
     },
     "execution_count": 7,
     "metadata": {},
     "output_type": "execute_result"
    }
   ],
   "source": [
    "len(rects)"
   ]
  },
  {
   "cell_type": "code",
   "execution_count": null,
   "metadata": {},
   "outputs": [],
   "source": [
    "image = cv2.imread(file_name)"
   ]
  },
  {
   "cell_type": "code",
   "execution_count": 17,
   "metadata": {},
   "outputs": [],
   "source": [
    "def preprocess_perspective(file_name):\n",
    "    ## contours를 찾는 작업\n",
    "    tresh_min = 100\n",
    "    tresh_max = 255\n",
    "\n",
    "    image = cv2.imread(file_name)\n",
    "    im_bw = cv2.cvtColor(image, cv2.COLOR_BGR2GRAY)\n",
    "    thresh, im_bw = cv2.threshold(im_bw, tresh_min, tresh_max, 0)\n",
    "    contours, hierarchy = cv2.findContours(im_bw, cv2.RETR_TREE, cv2.CHAIN_APPROX_SIMPLE)\n",
    "    \n",
    "    # 모서리를 찾는 작업\n",
    "    rects = [cv2.minAreaRect(each) for each in contours]\n",
    "    rects = [(a,b,c) for a, b, c  in rects if ((b[0]*b[1]>9000))] # 값 9000은 추후 수정 필요\n",
    "    if len(rects)>1:\n",
    "        return \"too many cards\" # 사각형을 여러개 찾았으니 error 표시\n",
    "    \n",
    "    box = cv2.boxPoints(rect)\n",
    "    \n",
    "    box = box[np.argsort(box[:, 1])]\n",
    "    if box[0][0]>box[1][0]:\n",
    "        temp = box[0].copy()\n",
    "        box[0] = box[1]\n",
    "        box[1] = temp\n",
    "    if box[2][0]<box[3][0]:\n",
    "        temp = box[2].copy()\n",
    "        box[2] = box[3]\n",
    "        box[3] = temp\n",
    "    # wrapPerspective 하는 작업\n",
    "    maxWidth = 100\n",
    "    maxHeight = 120\n",
    "    dst = np.array([[0,0],[maxWidth-1,0],[maxWidth-1,maxHeight-1],[0, maxHeight-1]], np.float32)\n",
    "    M = cv2.getPerspectiveTransform(box,dst)\n",
    "    warp = cv2.warpPerspective(image, M, (maxWidth, maxHeight)) # warp에 이미지 담김\n",
    "    warp = cv2.cvtColor(warp,cv2.COLOR_BGR2GRAY)\n",
    "    \n",
    "    # wrap 이미지랑 꼭지점 담긴 행렬 돌려줌\n",
    "    return warp #, temp_rect"
   ]
  },
  {
   "cell_type": "code",
   "execution_count": 24,
   "metadata": {},
   "outputs": [
    {
     "data": {
      "text/plain": [
       "array([[  0,  42,  38, ...,  46,  43,  60],\n",
       "       [ 14, 156, 195, ..., 178, 172, 212],\n",
       "       [  0, 112, 191, ..., 236, 226, 190],\n",
       "       ...,\n",
       "       [ 60, 195, 252, ...,   6,   3,   0],\n",
       "       [ 55, 192, 246, ...,   0,   0,   0],\n",
       "       [ 70, 201, 206, ...,   0,   0,   0]], dtype=uint8)"
      ]
     },
     "execution_count": 24,
     "metadata": {},
     "output_type": "execute_result"
    }
   ],
   "source": [
    "preprocess_perspective2('../big_au/sample2/C10_0_5434.jpg')"
   ]
  },
  {
   "cell_type": "code",
   "execution_count": 21,
   "metadata": {},
   "outputs": [
    {
     "data": {
      "text/plain": [
       "array([[ 76,  92,  89, ...,  83, 101,  53],\n",
       "       [134, 189, 212, ..., 193, 200, 108],\n",
       "       [103, 196, 237, ..., 237, 203,  86],\n",
       "       ...,\n",
       "       [ 86, 204, 248, ...,   0,   0,   0],\n",
       "       [ 94, 204, 214, ...,   0,   0,   0],\n",
       "       [ 94, 178, 146, ...,   0,   0,   0]], dtype=uint8)"
      ]
     },
     "execution_count": 21,
     "metadata": {},
     "output_type": "execute_result"
    }
   ],
   "source": [
    "preprocess_perspective('../big_au/sample2/C10_0_5434.jpg')"
   ]
  },
  {
   "cell_type": "code",
   "execution_count": 35,
   "metadata": {},
   "outputs": [],
   "source": [
    "a = preprocess_perspective('../big_au/sample2/C10_0_5434.jpg')\n",
    "b = preprocess_perspective2('../big_au/sample2/C10_0_5434.jpg')"
   ]
  },
  {
   "cell_type": "code",
   "execution_count": 36,
   "metadata": {},
   "outputs": [
    {
     "data": {
      "text/plain": [
       "<matplotlib.image.AxesImage at 0x2164d27eda0>"
      ]
     },
     "execution_count": 36,
     "metadata": {},
     "output_type": "execute_result"
    },
    {
     "data": {
      "image/png": "[encoded data removed]",
      "text/plain": [
       "<Figure size 432x288 with 1 Axes>"
      ]
     },
     "metadata": {
      "needs_background": "light"
     },
     "output_type": "display_data"
    }
   ],
   "source": [
    "plt.imshow(a,cmap=\"gray\")"
   ]
  },
  {
   "cell_type": "code",
   "execution_count": 37,
   "metadata": {},
   "outputs": [
    {
     "data": {
      "text/plain": [
       "<matplotlib.image.AxesImage at 0x2164d2d87f0>"
      ]
     },
     "execution_count": 37,
     "metadata": {},
     "output_type": "execute_result"
    },
    {
     "data": {
      "image/png": "[encoded data removed]",
      "text/plain": [
       "<Figure size 432x288 with 1 Axes>"
      ]
     },
     "metadata": {
      "needs_background": "light"
     },
     "output_type": "display_data"
    }
   ],
   "source": [
    "plt.imshow(b, cmap='gray')"
   ]
  },
  {
   "cell_type": "code",
   "execution_count": 38,
   "metadata": {},
   "outputs": [
    {
     "data": {
      "text/plain": [
       "225791"
      ]
     },
     "execution_count": 38,
     "metadata": {},
     "output_type": "execute_result"
    }
   ],
   "source": [
    "cv2.absdiff(a,b).sum()"
   ]
  },
  {
   "cell_type": "code",
   "execution_count": 22,
   "metadata": {},
   "outputs": [],
   "source": [
    "def preprocess_perspective2(file_name):\n",
    "    ## contours를 찾는 작업\n",
    "    tresh_min = 100\n",
    "    tresh_max = 255\n",
    "\n",
    "    image = cv2.imread(file_name)\n",
    "    im_bw = cv2.cvtColor(image, cv2.COLOR_BGR2GRAY)\n",
    "    thresh, im_bw = cv2.threshold(im_bw, tresh_min, tresh_max, 0)\n",
    "    contours, hierarchy = cv2.findContours(im_bw, cv2.RETR_TREE, cv2.CHAIN_APPROX_SIMPLE)\n",
    "    \n",
    "    # 모서리를 찾는 작업\n",
    "    rects = [cv2.minAreaRect(each) for each in contours]\n",
    "    rects = [(a,b,c) for a, b, c  in rects if ((b[0]*b[1]>9000))] # 값 9000은 추후 수정 필요\n",
    "    if len(rects)>1:\n",
    "        return \"too many boundary\" # card boundary(사각형)를 여러개 찾았으니 error 표시\n",
    "    \n",
    "    box = cv2.boxPoints(rects[0])\n",
    "    box = box.astype('int')\n",
    "        \n",
    "    temp_rect = np.array(box, dtype = \"float32\")\n",
    "    temp_rect = temp_rect[np.argsort(temp_rect[:, 1])]\n",
    "    if temp_rect[0][0]>temp_rect[1][0]:\n",
    "        temp = temp_rect[0].copy()\n",
    "        temp_rect[0] = temp_rect[1]\n",
    "        temp_rect[1] = temp\n",
    "    if temp_rect[2][0]<temp_rect[3][0]:\n",
    "        temp = temp_rect[2].copy()\n",
    "        temp_rect[2] = temp_rect[3]\n",
    "        temp_rect[3] = temp\n",
    "    # wrapPerspective 하는 작업\n",
    "    maxWidth = 100\n",
    "    maxHeight = 120\n",
    "    dst = np.array([[0,0],[maxWidth-1,0],[maxWidth-1,maxHeight-1],[0, maxHeight-1]], np.float32)\n",
    "    M = cv2.getPerspectiveTransform(temp_rect,dst)\n",
    "    warp = cv2.warpPerspective(image, M, (maxWidth, maxHeight)) # warp에 이미지 담김\n",
    "    warp = cv2.cvtColor(warp,cv2.COLOR_BGR2GRAY)\n",
    "    \n",
    "    # wrap 이미지랑 꼭지점 담긴 행렬 돌려줌\n",
    "    return warp #, temp_rect"
   ]
  },
  {
   "cell_type": "code",
   "execution_count": 14,
   "metadata": {},
   "outputs": [],
   "source": [
    "box = cv2.boxPoints(rects[0])"
   ]
  },
  {
   "cell_type": "code",
   "execution_count": 15,
   "metadata": {},
   "outputs": [
    {
     "data": {
      "text/plain": [
       "array([[139.92172 , 172.95686 ],\n",
       "       [ 40.161343, 168.96645 ],\n",
       "       [ 44.94568 ,  49.357834],\n",
       "       [144.70605 ,  53.34825 ]], dtype=float32)"
      ]
     },
     "execution_count": 15,
     "metadata": {},
     "output_type": "execute_result"
    }
   ],
   "source": [
    "box"
   ]
  },
  {
   "cell_type": "code",
   "execution_count": 41,
   "metadata": {},
   "outputs": [
    {
     "data": {
      "text/plain": [
       "array([[139.92172 , 172.95686 ],\n",
       "       [ 40.161343, 168.96645 ],\n",
       "       [ 44.94568 ,  49.357834],\n",
       "       [144.70605 ,  53.34825 ]], dtype=float32)"
      ]
     },
     "execution_count": 41,
     "metadata": {},
     "output_type": "execute_result"
    }
   ],
   "source": [
    "box"
   ]
  },
  {
   "cell_type": "code",
   "execution_count": 42,
   "metadata": {},
   "outputs": [
    {
     "data": {
      "text/plain": [
       "array([[139., 172.],\n",
       "       [ 40., 168.],\n",
       "       [ 44.,  49.],\n",
       "       [144.,  53.]], dtype=float32)"
      ]
     },
     "execution_count": 42,
     "metadata": {},
     "output_type": "execute_result"
    }
   ],
   "source": [
    "box1 = box.astype('int')\n",
    "np.array(box1, dtype = \"float32\")"
   ]
  },
  {
   "cell_type": "code",
   "execution_count": 16,
   "metadata": {},
   "outputs": [
    {
     "ename": "NameError",
     "evalue": "name 'temp_rect' is not defined",
     "output_type": "error",
     "traceback": [
      "\u001b[1;31m---------------------------------------------------------------------------\u001b[0m",
      "\u001b[1;31mNameError\u001b[0m                                 Traceback (most recent call last)",
      "\u001b[1;32m<ipython-input-16-3487dea7a75e>\u001b[0m in \u001b[0;36m<module>\u001b[1;34m\u001b[0m\n\u001b[1;32m----> 1\u001b[1;33m \u001b[0mtemp_rect\u001b[0m\u001b[1;33m\u001b[0m\u001b[1;33m\u001b[0m\u001b[0m\n\u001b[0m",
      "\u001b[1;31mNameError\u001b[0m: name 'temp_rect' is not defined"
     ]
    }
   ],
   "source": [
    "temp_rect"
   ]
  },
  {
   "cell_type": "code",
   "execution_count": 47,
   "metadata": {},
   "outputs": [],
   "source": [
    "cardlist=[]\n",
    "ori_card_dir = os.listdir('./test/origin_card')\n",
    "for i in ori_card_dir:\n",
    "    cardlist.append(i[:-4])\n",
    "    \n",
    "cards = np.zeros((len(ori_card_dir), 120, 100))\n",
    "n=0\n",
    "for i in origin_card:\n",
    "    tmpimg = cv2.imread('./test/origin_card/'+i, cv2.IMREAD_GRAYSCALE)\n",
    "    cards[n]=tmpimg\n",
    "    n+=1"
   ]
  },
  {
   "cell_type": "code",
   "execution_count": 74,
   "metadata": {},
   "outputs": [
    {
     "ename": "error",
     "evalue": "OpenCV(4.1.1) C:\\projects\\opencv-python\\opencv\\modules\\core\\src\\arithm.cpp:687: error: (-5:Bad argument) When the input arrays in add/subtract/multiply/divide functions have different types, the output array type must be explicitly specified in function 'cv::arithm_op'\n",
     "output_type": "error",
     "traceback": [
      "\u001b[1;31m---------------------------------------------------------------------------\u001b[0m",
      "\u001b[1;31merror\u001b[0m                                     Traceback (most recent call last)",
      "\u001b[1;32m<ipython-input-74-96af28b8b5a0>\u001b[0m in \u001b[0;36m<module>\u001b[1;34m\u001b[0m\n\u001b[0;32m      1\u001b[0m \u001b[0mfile_name\u001b[0m \u001b[1;33m=\u001b[0m \u001b[1;34m'../big_au/sample2/C10_0_5434.jpg'\u001b[0m\u001b[1;33m\u001b[0m\u001b[1;33m\u001b[0m\u001b[0m\n\u001b[0;32m      2\u001b[0m \u001b[0mwarp_img\u001b[0m \u001b[1;33m=\u001b[0m \u001b[0mpreprocess_perspective\u001b[0m\u001b[1;33m(\u001b[0m\u001b[0mfile_name\u001b[0m\u001b[1;33m)\u001b[0m\u001b[1;33m\u001b[0m\u001b[1;33m\u001b[0m\u001b[0m\n\u001b[1;32m----> 3\u001b[1;33m \u001b[0mshape_num\u001b[0m \u001b[1;33m=\u001b[0m \u001b[0mfind_shape_num\u001b[0m\u001b[1;33m(\u001b[0m\u001b[0mwarp_img\u001b[0m\u001b[1;33m)\u001b[0m\u001b[1;33m\u001b[0m\u001b[1;33m\u001b[0m\u001b[0m\n\u001b[0m\u001b[0;32m      4\u001b[0m \u001b[0mprint\u001b[0m\u001b[1;33m(\u001b[0m\u001b[0mshape_num\u001b[0m\u001b[1;33m)\u001b[0m\u001b[1;33m\u001b[0m\u001b[1;33m\u001b[0m\u001b[0m\n",
      "\u001b[1;32m<ipython-input-73-09ea6865c4d1>\u001b[0m in \u001b[0;36mfind_shape_num\u001b[1;34m(warp_image)\u001b[0m\n\u001b[0;32m    102\u001b[0m \u001b[1;33m\u001b[0m\u001b[0m\n\u001b[0;32m    103\u001b[0m     \u001b[1;32mfor\u001b[0m \u001b[0mi\u001b[0m \u001b[1;32min\u001b[0m \u001b[0mrange\u001b[0m\u001b[1;33m(\u001b[0m\u001b[0mlen\u001b[0m\u001b[1;33m(\u001b[0m\u001b[0mcardlist\u001b[0m\u001b[1;33m)\u001b[0m\u001b[1;33m)\u001b[0m\u001b[1;33m:\u001b[0m\u001b[1;33m\u001b[0m\u001b[1;33m\u001b[0m\u001b[0m\n\u001b[1;32m--> 104\u001b[1;33m         \u001b[0mdiff_img\u001b[0m \u001b[1;33m=\u001b[0m \u001b[0mcv2\u001b[0m\u001b[1;33m.\u001b[0m\u001b[0mabsdiff\u001b[0m\u001b[1;33m(\u001b[0m\u001b[0mcards\u001b[0m\u001b[1;33m[\u001b[0m\u001b[0mi\u001b[0m\u001b[1;33m]\u001b[0m\u001b[1;33m,\u001b[0m\u001b[0mwarp_image\u001b[0m\u001b[1;33m)\u001b[0m\u001b[1;33m.\u001b[0m\u001b[0msum\u001b[0m\u001b[1;33m(\u001b[0m\u001b[1;33m)\u001b[0m\u001b[1;33m\u001b[0m\u001b[1;33m\u001b[0m\u001b[0m\n\u001b[0m\u001b[0;32m    105\u001b[0m         \u001b[1;32mif\u001b[0m \u001b[0mdiff_img\u001b[0m\u001b[1;33m<\u001b[0m\u001b[0mmin_img\u001b[0m\u001b[1;33m:\u001b[0m\u001b[1;33m\u001b[0m\u001b[1;33m\u001b[0m\u001b[0m\n\u001b[0;32m    106\u001b[0m             \u001b[0mmin_img\u001b[0m\u001b[1;33m=\u001b[0m\u001b[0mdiff_img\u001b[0m\u001b[1;33m\u001b[0m\u001b[1;33m\u001b[0m\u001b[0m\n",
      "\u001b[1;31merror\u001b[0m: OpenCV(4.1.1) C:\\projects\\opencv-python\\opencv\\modules\\core\\src\\arithm.cpp:687: error: (-5:Bad argument) When the input arrays in add/subtract/multiply/divide functions have different types, the output array type must be explicitly specified in function 'cv::arithm_op'\n"
     ]
    }
   ],
   "source": [
    "file_name = '../big_au/sample2/C10_0_5434.jpg'\n",
    "warp_img = preprocess_perspective(file_name)\n",
    "shape_num = find_shape_num(warp_img)\n",
    "print(shape_num)"
   ]
  },
  {
   "cell_type": "code",
   "execution_count": 81,
   "metadata": {},
   "outputs": [
    {
     "ename": "error",
     "evalue": "OpenCV(4.1.1) C:\\projects\\opencv-python\\opencv\\modules\\core\\src\\arithm.cpp:687: error: (-5:Bad argument) When the input arrays in add/subtract/multiply/divide functions have different types, the output array type must be explicitly specified in function 'cv::arithm_op'\n",
     "output_type": "error",
     "traceback": [
      "\u001b[1;31m---------------------------------------------------------------------------\u001b[0m",
      "\u001b[1;31merror\u001b[0m                                     Traceback (most recent call last)",
      "\u001b[1;32m<ipython-input-81-81499586480f>\u001b[0m in \u001b[0;36m<module>\u001b[1;34m\u001b[0m\n\u001b[0;32m      7\u001b[0m \u001b[1;33m\u001b[0m\u001b[0m\n\u001b[0;32m      8\u001b[0m \u001b[1;32mfor\u001b[0m \u001b[0mi\u001b[0m \u001b[1;32min\u001b[0m \u001b[0mrange\u001b[0m\u001b[1;33m(\u001b[0m\u001b[0mlen\u001b[0m\u001b[1;33m(\u001b[0m\u001b[0mcardlist\u001b[0m\u001b[1;33m)\u001b[0m\u001b[1;33m)\u001b[0m\u001b[1;33m:\u001b[0m\u001b[1;33m\u001b[0m\u001b[1;33m\u001b[0m\u001b[0m\n\u001b[1;32m----> 9\u001b[1;33m     \u001b[0mdiff_img\u001b[0m \u001b[1;33m=\u001b[0m \u001b[0mcv2\u001b[0m\u001b[1;33m.\u001b[0m\u001b[0mabsdiff\u001b[0m\u001b[1;33m(\u001b[0m\u001b[0mcards\u001b[0m\u001b[1;33m[\u001b[0m\u001b[0mi\u001b[0m\u001b[1;33m]\u001b[0m\u001b[1;33m,\u001b[0m\u001b[0ma\u001b[0m\u001b[1;33m)\u001b[0m\u001b[1;33m\u001b[0m\u001b[1;33m\u001b[0m\u001b[0m\n\u001b[0m\u001b[0;32m     10\u001b[0m     \u001b[0mdiff_img\u001b[0m \u001b[1;33m=\u001b[0m \u001b[0mdiff_img\u001b[0m\u001b[1;33m.\u001b[0m\u001b[0msum\u001b[0m\u001b[1;33m(\u001b[0m\u001b[1;33m)\u001b[0m\u001b[1;33m\u001b[0m\u001b[1;33m\u001b[0m\u001b[0m\n\u001b[0;32m     11\u001b[0m     \u001b[1;32mif\u001b[0m \u001b[0mdiff_img\u001b[0m\u001b[1;33m<\u001b[0m\u001b[0mmin_img\u001b[0m\u001b[1;33m:\u001b[0m\u001b[1;33m\u001b[0m\u001b[1;33m\u001b[0m\u001b[0m\n",
      "\u001b[1;31merror\u001b[0m: OpenCV(4.1.1) C:\\projects\\opencv-python\\opencv\\modules\\core\\src\\arithm.cpp:687: error: (-5:Bad argument) When the input arrays in add/subtract/multiply/divide functions have different types, the output array type must be explicitly specified in function 'cv::arithm_op'\n"
     ]
    }
   ],
   "source": [
    "cardlist, cards = origin_card_info()\n",
    "\n",
    "threshold = 200000\n",
    "\n",
    "min_img = threshold + 50000\n",
    "min_num = 0\n",
    "\n",
    "for i in range(len(cardlist)):\n",
    "    diff_img = cv2.absdiff(cards[i],a)\n",
    "    diff_img = diff_img.sum()\n",
    "    if diff_img<min_img:\n",
    "        min_img=diff_img\n",
    "        min_num=i"
   ]
  },
  {
   "cell_type": "code",
   "execution_count": 79,
   "metadata": {},
   "outputs": [
    {
     "data": {
      "text/plain": [
       "(120, 100)"
      ]
     },
     "execution_count": 79,
     "metadata": {},
     "output_type": "execute_result"
    }
   ],
   "source": [
    "cards[0].shape"
   ]
  },
  {
   "cell_type": "code",
   "execution_count": 85,
   "metadata": {},
   "outputs": [
    {
     "data": {
      "text/plain": [
       "array([[255., 189., 160., ..., 157., 190., 254.],\n",
       "       [177., 194., 252., ..., 255., 194., 179.],\n",
       "       [144., 255., 255., ..., 251., 254., 148.],\n",
       "       ...,\n",
       "       [149., 255., 251., ..., 249., 255., 147.],\n",
       "       [177., 194., 255., ..., 254., 194., 176.],\n",
       "       [255., 191., 159., ..., 158., 190., 254.]])"
      ]
     },
     "execution_count": 85,
     "metadata": {},
     "output_type": "execute_result"
    }
   ],
   "source": [
    "cards[0]"
   ]
  },
  {
   "cell_type": "code",
   "execution_count": 83,
   "metadata": {},
   "outputs": [
    {
     "data": {
      "text/plain": [
       "array([[ 76,  92,  89, ...,  83, 101,  53],\n",
       "       [134, 189, 212, ..., 193, 200, 108],\n",
       "       [103, 196, 237, ..., 237, 203,  86],\n",
       "       ...,\n",
       "       [ 86, 204, 248, ...,   0,   0,   0],\n",
       "       [ 94, 204, 214, ...,   0,   0,   0],\n",
       "       [ 94, 178, 146, ...,   0,   0,   0]], dtype=uint8)"
      ]
     },
     "execution_count": 83,
     "metadata": {},
     "output_type": "execute_result"
    }
   ],
   "source": [
    "a"
   ]
  },
  {
   "cell_type": "code",
   "execution_count": 80,
   "metadata": {},
   "outputs": [
    {
     "data": {
      "text/plain": [
       "(120, 100)"
      ]
     },
     "execution_count": 80,
     "metadata": {},
     "output_type": "execute_result"
    }
   ],
   "source": [
    "a.shape"
   ]
  },
  {
   "cell_type": "code",
   "execution_count": null,
   "metadata": {},
   "outputs": [],
   "source": [
    "diff_img = cv2.absdiff(cards[card], warp)"
   ]
  },
  {
   "cell_type": "code",
   "execution_count": 86,
   "metadata": {},
   "outputs": [],
   "source": [
    "cards = []\n",
    "for i in os.listdir('../dataset/card_deck1'):\n",
    "#     print(i)\n",
    "    cards.append(cv2.imread('../dataset/card_deck1/'+i, cv2.IMREAD_GRAYSCALE))\n",
    "cards = np.array(cards)\n"
   ]
  },
  {
   "cell_type": "code",
   "execution_count": 88,
   "metadata": {},
   "outputs": [
    {
     "data": {
      "text/plain": [
       "dtype('uint8')"
      ]
     },
     "execution_count": 88,
     "metadata": {},
     "output_type": "execute_result"
    }
   ],
   "source": [
    "cards.dtype"
   ]
  },
  {
   "cell_type": "code",
   "execution_count": 89,
   "metadata": {},
   "outputs": [
    {
     "data": {
      "text/plain": [
       "dtype('uint8')"
      ]
     },
     "execution_count": 89,
     "metadata": {},
     "output_type": "execute_result"
    }
   ],
   "source": [
    "a.dtype"
   ]
  },
  {
   "cell_type": "code",
   "execution_count": 123,
   "metadata": {},
   "outputs": [],
   "source": [
    "def preprocess_perspective(file_name):\n",
    "    ## contours를 찾는 작업\n",
    "    tresh_min = 100\n",
    "    tresh_max = 255\n",
    "\n",
    "    image = cv2.imread(file_name)\n",
    "    im_bw = cv2.cvtColor(image, cv2.COLOR_BGR2GRAY)\n",
    "    thresh, im_bw = cv2.threshold(im_bw, tresh_min, tresh_max, 0)\n",
    "    contours, hierarchy = cv2.findContours(im_bw, cv2.RETR_TREE, cv2.CHAIN_APPROX_SIMPLE)\n",
    "    \n",
    "    # 모서리를 찾는 작업\n",
    "    rects = [cv2.minAreaRect(each) for each in contours]\n",
    "    rects = [(a,b,c) for a, b, c  in rects if ((b[0]*b[1]>9000))] # 값 9000은 추후 수정 필요\n",
    "    if len(rects)>1:\n",
    "        return \"too many boundary\" # card boundary(사각형)를 여러개 찾았으니 error 표시\n",
    "    \n",
    "    box = cv2.boxPoints(rects[0])\n",
    "    box = box.astype('int')\n",
    "        \n",
    "    temp_rect = np.array(box, dtype = \"float32\")\n",
    "    temp_rect = temp_rect[np.argsort(temp_rect[:, 1])]\n",
    "    if temp_rect[0][0]>temp_rect[1][0]:\n",
    "        temp = temp_rect[0].copy()\n",
    "        temp_rect[0] = temp_rect[1]\n",
    "        temp_rect[1] = temp\n",
    "    if temp_rect[2][0]<temp_rect[3][0]:\n",
    "        temp = temp_rect[2].copy()\n",
    "        temp_rect[2] = temp_rect[3]\n",
    "        temp_rect[3] = temp\n",
    "    # wrapPerspective 하는 작업\n",
    "    maxWidth = 100\n",
    "    maxHeight = 120\n",
    "    dst = np.array([[0,0],[maxWidth-1,0],[maxWidth-1,maxHeight-1],[0, maxHeight-1]], np.float32)\n",
    "    M = cv2.getPerspectiveTransform(temp_rect,dst)\n",
    "    warp = cv2.warpPerspective(image, M, (maxWidth, maxHeight)) # warp에 이미지 담김\n",
    "    warp = cv2.cvtColor(warp,cv2.COLOR_BGR2GRAY)\n",
    "    \n",
    "    # wrap 이미지랑 꼭지점 담긴 행렬 돌려줌\n",
    "    return warp #, temp_rect\n",
    "\n",
    "def preprocess_perspective_simple(file_name):\n",
    "    ## contours를 찾는 작업\n",
    "    tresh_min = 100\n",
    "    tresh_max = 255\n",
    "\n",
    "    image = cv2.imread(file_name)\n",
    "    im_bw = cv2.cvtColor(image, cv2.COLOR_BGR2GRAY)\n",
    "    thresh, im_bw = cv2.threshold(im_bw, tresh_min, tresh_max, 0)\n",
    "    contours, hierarchy = cv2.findContours(im_bw, cv2.RETR_TREE, cv2.CHAIN_APPROX_SIMPLE)\n",
    "    \n",
    "    # 모서리를 찾는 작업\n",
    "    rects = [cv2.minAreaRect(each) for each in contours]\n",
    "    rects = [(a,b,c) for a, b, c  in rects if ((b[0]*b[1]>9000))] # 값 9000은 추후 수정 필요\n",
    "    if len(rects)>1:\n",
    "        return \"too many cards\" # 사각형을 여러개 찾았으니 error 표시\n",
    "    \n",
    "    box = cv2.boxPoints(rect)\n",
    "    \n",
    "    box = box[np.argsort(box[:, 1])]\n",
    "    if box[0][0]>box[1][0]:\n",
    "        temp = box[0].copy()\n",
    "        box[0] = box[1]\n",
    "        box[1] = temp\n",
    "    if box[2][0]<box[3][0]:\n",
    "        temp = box[2].copy()\n",
    "        box[2] = box[3]\n",
    "        box[3] = temp\n",
    "    # wrapPerspective 하는 작업\n",
    "    maxWidth = 100\n",
    "    maxHeight = 120\n",
    "    dst = np.array([[0,0],[maxWidth-1,0],[maxWidth-1,maxHeight-1],[0, maxHeight-1]], np.float32)\n",
    "    M = cv2.getPerspectiveTransform(box,dst)\n",
    "    warp = cv2.warpPerspective(image, M, (maxWidth, maxHeight)) # warp에 이미지 담김\n",
    "    warp = cv2.cvtColor(warp,cv2.COLOR_BGR2GRAY)\n",
    "    \n",
    "    # wrap 이미지랑 꼭지점 담긴 행렬 돌려줌\n",
    "    return warp #, temp_rect\n",
    "\n",
    "def origin_card_info():\n",
    "    cardlist=[]\n",
    "    origin_card = os.listdir('./test/origin_card')\n",
    "\n",
    "    for i in origin_card:\n",
    "        cardlist.append(i[:-4])\n",
    "    \n",
    "    \n",
    "\n",
    "    cards = []\n",
    "    for i in origin_card:\n",
    "    #     print(i)\n",
    "        cards.append(cv2.imread('./test/origin_card/'+i, cv2.IMREAD_GRAYSCALE))\n",
    "    cards = np.array(cards)\n",
    "\n",
    "    return cardlist, cards\n",
    "\n",
    "def shape_num(warp_image):\n",
    "    cardlist, cards = origin_card_info()\n",
    "\n",
    "    threshold = 2000000\n",
    "\n",
    "    min_img = threshold + 50000\n",
    "    min_num = 0\n",
    "\n",
    "    for i in range(len(cardlist)):\n",
    "        diff_img = cv2.absdiff(cards[i],warp_image).sum()\n",
    "        if diff_img<min_img:\n",
    "            min_img=diff_img\n",
    "            min_num=i\n",
    "    if min_img>=threshold:\n",
    "        return \"can't classify card\"\n",
    "    \n",
    "    return cardlist[min_num]\n"
   ]
  },
  {
   "cell_type": "code",
   "execution_count": 124,
   "metadata": {},
   "outputs": [],
   "source": [
    "file_name = '../big_au/sample2/C10_0_5434.jpg'\n",
    "warp_img = preprocess_perspective2(file_name)\n",
    "shape_num = find_shape_num(warp_img)"
   ]
  },
  {
   "cell_type": "code",
   "execution_count": 125,
   "metadata": {},
   "outputs": [
    {
     "data": {
      "text/plain": [
       "\"can't classify card\""
      ]
     },
     "execution_count": 125,
     "metadata": {},
     "output_type": "execute_result"
    }
   ],
   "source": [
    "shape_num"
   ]
  },
  {
   "cell_type": "code",
   "execution_count": 111,
   "metadata": {
    "scrolled": true
   },
   "outputs": [
    {
     "name": "stdout",
     "output_type": "stream",
     "text": [
      "300926\n",
      "985702\n",
      "1151656\n",
      "1171745\n",
      "1241797\n",
      "1150843\n",
      "927149\n",
      "924053\n",
      "392621\n",
      "1073546\n",
      "1109557\n",
      "1117547\n",
      "1099249\n",
      "725982\n",
      "1053996\n",
      "1129040\n",
      "1171504\n",
      "1216235\n",
      "1151935\n",
      "1168122\n",
      "1189468\n",
      "776582\n",
      "1145662\n",
      "1140800\n",
      "1147922\n",
      "1137855\n",
      "817365\n",
      "1059927\n",
      "1082915\n",
      "1174160\n",
      "1212224\n",
      "1024532\n",
      "956084\n",
      "931371\n",
      "854707\n",
      "1098009\n",
      "1072508\n",
      "1116718\n",
      "1073559\n",
      "476942\n",
      "991757\n",
      "1133166\n",
      "1192961\n",
      "1242366\n",
      "1196108\n",
      "1177945\n",
      "1195979\n",
      "550568\n",
      "1071877\n",
      "1117837\n",
      "1101820\n",
      "1126403\n"
     ]
    }
   ],
   "source": [
    "cardlist, cards = origin_card_info()\n",
    "\n",
    "threshold = 2000000\n",
    "\n",
    "min_img = threshold + 50000\n",
    "min_num = 0\n",
    "\n",
    "for i in range(len(cardlist)):\n",
    "    diff_img = cv2.absdiff(cards[i],warp_img).sum()\n",
    "    print(diff_img)\n",
    "    if diff_img<min_img:\n",
    "        min_img=diff_img\n",
    "        min_num=i"
   ]
  },
  {
   "cell_type": "code",
   "execution_count": 112,
   "metadata": {},
   "outputs": [
    {
     "data": {
      "text/plain": [
       "300926"
      ]
     },
     "execution_count": 112,
     "metadata": {},
     "output_type": "execute_result"
    }
   ],
   "source": [
    "min_img"
   ]
  },
  {
   "cell_type": "code",
   "execution_count": 113,
   "metadata": {},
   "outputs": [
    {
     "data": {
      "text/plain": [
       "0"
      ]
     },
     "execution_count": 113,
     "metadata": {},
     "output_type": "execute_result"
    }
   ],
   "source": [
    "min_num"
   ]
  },
  {
   "cell_type": "code",
   "execution_count": null,
   "metadata": {},
   "outputs": [],
   "source": []
  },
  {
   "cell_type": "code",
   "execution_count": null,
   "metadata": {},
   "outputs": [],
   "source": []
  }
 ],
 "metadata": {
  "kernelspec": {
   "display_name": "Python 3",
   "language": "python",
   "name": "python3"
  },
  "language_info": {
   "codemirror_mode": {
    "name": "ipython",
    "version": 3
   },
   "file_extension": ".py",
   "mimetype": "text/x-python",
   "name": "python",
   "nbconvert_exporter": "python",
   "pygments_lexer": "ipython3",
   "version": "3.7.3"
  }
 },
 "nbformat": 4,
 "nbformat_minor": 2
}
