{
 "cells": [
  {
   "cell_type": "code",
   "execution_count": 1,
   "metadata": {},
   "outputs": [],
   "source": [
    "import math\n",
    "import numpy as np\n",
    "import cv2, os\n",
    "import pandas as pd\n",
    "from numpy import linalg as LA\n",
    "import matplotlib.pyplot as plt"
   ]
  },
  {
   "cell_type": "code",
   "execution_count": 2,
   "metadata": {},
   "outputs": [],
   "source": [
    "def pca(D, pca_num=20):\n",
    "    L = np.dot(D, D.T)\n",
    "    w, v = LA.eig(L)\n",
    "\n",
    "    # 고유값 0인거 제거    \n",
    "    zero_eigen = [i for i in range(len(w)) if abs(w[i]) <1e-4]\n",
    "    j=0\n",
    "    for i in zero_eigen:\n",
    "        w = np.delete(w, i-j, axis=0)\n",
    "        v = np.delete(v, i-j, axis=1)\n",
    "        j+=1\n",
    "\n",
    "    # 고유값 내림차순으로 정렬\n",
    "    ww = np.sort(w.real)[::-1]\n",
    "    index = np.argsort(w.real)[::-1]  \n",
    "    vv = np.array([v[:,i].real for i in list(index)]).T \n",
    "\n",
    "    ww = ww[:pca_num]\n",
    "    vv = vv[:, :pca_num]\n",
    "\n",
    "    u = np.dot(vv.T, D)\n",
    "    u = u/(LA.norm(u, axis=0))\n",
    "\n",
    "    weight=np.dot(D,u.T)\n",
    "    return u, weight"
   ]
  },
  {
   "cell_type": "code",
   "execution_count": 3,
   "metadata": {},
   "outputs": [],
   "source": [
    "# 유클리디안 짝퉁. sqrt가 계산이오래걸린다니 제곱하는것만 넣었습니당.\n",
    "## 출력의 shape는 (52,)로 그래프를 그리기 편하게 연출되어있습니다.\n",
    "\n",
    "def ud(img, eigenvector, img_weight, index):\n",
    "    test_weight = np.dot(img, eigenvector.T)\n",
    "    weight = img_weight - test_weight.reshape(1,-1)\n",
    "    dist = np.sum(weight*weight, axis=1)\n",
    "    # dist = np.sqrt(np.sum(weight*weight, axis=1))\n",
    "    \n",
    "    dist = pd.DataFrame(dist.reshape(1,-1), columns=index)\n",
    "    return dist"
   ]
  },
  {
   "cell_type": "code",
   "execution_count": 4,
   "metadata": {},
   "outputs": [],
   "source": [
    "def cosine_similarity(img, eigenvector, img_weight, index):\n",
    "    test_weight = np.dot(img, eigenvector.T)\n",
    "    dist = np.sqrt(np.sum(test_weight*test_weight))\n",
    "\n",
    "    cosine_similiarity = np.zeros((1, img_weight.shape[0]))\n",
    "    for i in range(img_weight.shape[0]):\n",
    "        cosine_similiarity[0, i]=(np.sum(test_weight*img_weight[i]))/((dist)*(np.sqrt(np.sum(img_weight[i]*img_weight[i]))))\n",
    "        \n",
    "    cosine_similiarity = pd.DataFrame(cosine_similiarity.reshape(1,-1), columns=index)\n",
    "    return cosine_similiarity"
   ]
  },
  {
   "cell_type": "code",
   "execution_count": 10,
   "metadata": {},
   "outputs": [],
   "source": [
    "def ROC_dir(pca_num=20):\n",
    "    data_loc = '../dataset/card_deck1/'\n",
    "    filelist = os.listdir(data_loc)\n",
    "\n",
    "    length = len(filelist)\n",
    "    imgary = np.zeros((length, 120*100))\n",
    "    labels = []\n",
    "    n=0\n",
    "    for i in filelist:\n",
    "        tmpimg = cv2.imread(data_loc+i, cv2.IMREAD_GRAYSCALE)\n",
    "        tmpimg = np.reshape(tmpimg, (-1,))\n",
    "        imgary[n] = tmpimg\n",
    "        labels.append(i[0])\n",
    "        n+=1\n",
    "    \n",
    "    eigenvector, img_weights = pca(imgary,pca_num)\n",
    "    \n",
    "    cols = labels.copy()\n",
    "    cols.append(\"label\")\n",
    "    df= pd.DataFrame(columns = cols)\n",
    "    \n",
    "    n=0\n",
    "    for imgs in filelist:\n",
    "        tmpimg = cv2.imread(data_loc+imgs, cv2.IMREAD_GRAYSCALE)\n",
    "        tmpimg = np.reshape(tmpimg, (-1,))\n",
    "\n",
    "        df1 = ud(tmpimg, eigenvector, img_weights, labels)\n",
    "        df1[\"label\"]=labels[n]\n",
    "        df= pd.concat([df, df1])\n",
    "        n+=1\n",
    "\n",
    "    return df"
   ]
  },
  {
   "cell_type": "code",
   "execution_count": 16,
   "metadata": {},
   "outputs": [],
   "source": [
    "def plot(pca_num=20):\n",
    "    df = ROC_dir(pca_num)\n",
    "    card = np.unique(df[\"label\"])\n",
    "    num_card = len(card)\n",
    "    num_each_card = int(df.shape[0]/len(card))\n",
    "    nn = num_each_card * num_each_card\n",
    "    authentic = np.zeros((num_card*nn,))\n",
    "    imposter = np.zeros((num_card*nn*(num_card-1),))\n",
    "    \n",
    "\n",
    "    j=0\n",
    "    fig = plt.figure(figsize=(10,30))\n",
    "    #a = np.ceil(num_card/26)\n",
    "    for i in range(num_card):\n",
    "        name = card[i]\n",
    "\n",
    "        for naname in card:\n",
    "            T_T = np.array(df[df[\"label\"]==name].loc[:, naname:naname]).reshape(-1,)\n",
    "            if naname == name:\n",
    "                temp=i*nn\n",
    "                authentic[temp:temp+nn] = T_T\n",
    "            else:\n",
    "                temp = j*nn\n",
    "                imposter[temp:temp+nn] = T_T\n",
    "                j+=1 \n",
    "        \n",
    "        \"\"\"ax = fig.add_subplot(26,a, i+1)\n",
    "        ax.set_title(name)\n",
    "        plt.hist(authentic[i*nn:(i+1)*nn], color = 'r',  bins=10, alpha = 0.6)\n",
    "        plt.hist(imposter[i*nn*(num_card-1):(i+1)*nn*(num_card-1)], color = 'b',  bins=10, alpha = 0.6 )\n",
    "        plt.tight_layout()\"\"\"\n",
    "        \n",
    "    fig = plt.figure(figsize=(7,5))\n",
    "    #plt.ylim((0, 4000))\n",
    "    plt.hist(authentic, color = 'r',  bins=100, alpha = 0.6, label = \"authentic\")\n",
    "    plt.hist(imposter, color = 'b',  bins=100, alpha = 0.6, label = \"imposter\")\n",
    "    \n",
    "    plt.axvline(x=authentic.mean(), color = 'r')\n",
    "    plt.axvline(x=imposter.mean(), color = 'b')\n",
    "    plt.legend()\n",
    "        \n",
    "    return  authentic, imposter # authentic.mean(), authentic.std(), imposter.mean(), imposter.std()"
   ]
  },
  {
   "cell_type": "code",
   "execution_count": 17,
   "metadata": {},
   "outputs": [],
   "source": [
    "def FAR_FRR (authentic, imposter):\n",
    "    threshold_array = np.arange(-1,1,0.01)\n",
    "    FAR_FRR_len = np.zeros((len(threshold_array),3))\n",
    "    \n",
    "    i=0\n",
    "    auth_len = len(authentic)\n",
    "    impo_len = len(imposter)\n",
    "    for threshold in threshold_array:\n",
    "        FAR_FRR_len[i][0]=threshold\n",
    "        FAR_FRR_len[i][1]=len(authentic[authentic<threshold])/auth_len\n",
    "        FAR_FRR_len[i][2]=len(imposter[imposter>threshold])/impo_len\n",
    "        i+=1\n",
    "    index = np.argmin(np.abs(FAR_FRR_len[:,1]-FAR_FRR_len[:,2]))\n",
    "    threshold_EER = FAR_FRR_len[index][0]\n",
    "    EER = np.mean(FAR_FRR_len[index][1:3])\n",
    "    \n",
    "    return threshold_EER,  EER, FAR_FRR_len"
   ]
  },
  {
   "cell_type": "code",
   "execution_count": 18,
   "metadata": {},
   "outputs": [],
   "source": [
    "data_loc = '../dataset/card_deck1/'\n",
    "filelist = os.listdir(data_loc)\n",
    "\n",
    "length = len(filelist)\n",
    "imgary = np.zeros((length, 120*100))\n",
    "labels = []\n",
    "n=0\n",
    "for i in filelist:\n",
    "    tmpimg = cv2.imread(data_loc+i, cv2.IMREAD_GRAYSCALE)\n",
    "    tmpimg = np.reshape(tmpimg, (-1,))\n",
    "    imgary[n] = tmpimg\n",
    "    labels.append(i[0])\n",
    "    n+=1"
   ]
  },
  {
   "cell_type": "code",
   "execution_count": 14,
   "metadata": {},
   "outputs": [],
   "source": [
    "eigenvector, img_weights = pca(imgary, 30)"
   ]
  },
  {
   "cell_type": "code",
   "execution_count": 15,
   "metadata": {},
   "outputs": [
    {
     "data": {
      "text/html": [
       "<div>\n",
       "<style scoped>\n",
       "    .dataframe tbody tr th:only-of-type {\n",
       "        vertical-align: middle;\n",
       "    }\n",
       "\n",
       "    .dataframe tbody tr th {\n",
       "        vertical-align: top;\n",
       "    }\n",
       "\n",
       "    .dataframe thead th {\n",
       "        text-align: right;\n",
       "    }\n",
       "</style>\n",
       "<table border=\"1\" class=\"dataframe\">\n",
       "  <thead>\n",
       "    <tr style=\"text-align: right;\">\n",
       "      <th></th>\n",
       "      <th>C</th>\n",
       "      <th>C</th>\n",
       "      <th>C</th>\n",
       "      <th>C</th>\n",
       "      <th>C</th>\n",
       "      <th>C</th>\n",
       "      <th>C</th>\n",
       "      <th>C</th>\n",
       "      <th>C</th>\n",
       "      <th>C</th>\n",
       "      <th>...</th>\n",
       "      <th>S</th>\n",
       "      <th>S</th>\n",
       "      <th>S</th>\n",
       "      <th>S</th>\n",
       "      <th>S</th>\n",
       "      <th>S</th>\n",
       "      <th>S</th>\n",
       "      <th>S</th>\n",
       "      <th>S</th>\n",
       "      <th>S</th>\n",
       "    </tr>\n",
       "  </thead>\n",
       "  <tbody>\n",
       "    <tr>\n",
       "      <th>0</th>\n",
       "      <td>1.0</td>\n",
       "      <td>0.995579</td>\n",
       "      <td>0.994141</td>\n",
       "      <td>0.99335</td>\n",
       "      <td>0.992455</td>\n",
       "      <td>0.993296</td>\n",
       "      <td>0.996608</td>\n",
       "      <td>0.996575</td>\n",
       "      <td>0.999853</td>\n",
       "      <td>0.995544</td>\n",
       "      <td>...</td>\n",
       "      <td>0.993206</td>\n",
       "      <td>0.992466</td>\n",
       "      <td>0.992686</td>\n",
       "      <td>0.993407</td>\n",
       "      <td>0.993237</td>\n",
       "      <td>0.999328</td>\n",
       "      <td>0.995487</td>\n",
       "      <td>0.994783</td>\n",
       "      <td>0.994855</td>\n",
       "      <td>0.994756</td>\n",
       "    </tr>\n",
       "  </tbody>\n",
       "</table>\n",
       "<p>1 rows × 52 columns</p>\n",
       "</div>"
      ],
      "text/plain": [
       "     C         C         C        C         C         C         C         C  \\\n",
       "0  1.0  0.995579  0.994141  0.99335  0.992455  0.993296  0.996608  0.996575   \n",
       "\n",
       "          C         C  ...         S         S         S         S         S  \\\n",
       "0  0.999853  0.995544  ...  0.993206  0.992466  0.992686  0.993407  0.993237   \n",
       "\n",
       "          S         S         S         S         S  \n",
       "0  0.999328  0.995487  0.994783  0.994855  0.994756  \n",
       "\n",
       "[1 rows x 52 columns]"
      ]
     },
     "execution_count": 15,
     "metadata": {},
     "output_type": "execute_result"
    }
   ],
   "source": [
    "cosine_similarity(imgary[0], eigenvector, img_weights, labels)"
   ]
  },
  {
   "cell_type": "code",
   "execution_count": 21,
   "metadata": {},
   "outputs": [
    {
     "data": {
      "text/plain": [
       "<Figure size 720x2160 with 0 Axes>"
      ]
     },
     "metadata": {},
     "output_type": "display_data"
    },
    {
     "data": {
      "image/png": "[encoded data removed]",
      "text/plain": [
       "<Figure size 504x360 with 1 Axes>"
      ]
     },
     "metadata": {
      "needs_background": "light"
     },
     "output_type": "display_data"
    }
   ],
   "source": [
    "authentic, imposter = plot(50)"
   ]
  },
  {
   "cell_type": "code",
   "execution_count": null,
   "metadata": {},
   "outputs": [],
   "source": []
  }
 ],
 "metadata": {
  "kernelspec": {
   "display_name": "Python 3",
   "language": "python",
   "name": "python3"
  },
  "language_info": {
   "codemirror_mode": {
    "name": "ipython",
    "version": 3
   },
   "file_extension": ".py",
   "mimetype": "text/x-python",
   "name": "python",
   "nbconvert_exporter": "python",
   "pygments_lexer": "ipython3",
   "version": "3.7.3"
  }
 },
 "nbformat": 4,
 "nbformat_minor": 2
}
