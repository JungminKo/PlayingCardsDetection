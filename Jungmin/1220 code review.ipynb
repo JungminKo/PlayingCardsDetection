{
 "cells": [
  {
   "cell_type": "code",
   "execution_count": 1,
   "metadata": {},
   "outputs": [],
   "source": [
    "import cv2\n",
    "import numpy as np\n",
    "import matplotlib.pyplot as plt\n",
    "import os, math"
   ]
  },
  {
   "cell_type": "code",
   "execution_count": 22,
   "metadata": {},
   "outputs": [],
   "source": [
    "def perspective_if_only_one_card_img(image):\n",
    "\n",
    "    ## contour를 찾는 작업\n",
    "    tresh_min = 100\n",
    "    tresh_max = 255\n",
    "    im_bw = cv2.cvtColor(image, cv2.COLOR_BGR2GRAY)\n",
    "    thresh, im_bw = cv2.threshold(im_bw, tresh_min, tresh_max, 0)\n",
    "    contour, hierarchy = cv2.findContours(im_bw, cv2.RETR_EXTERNAL, cv2.CHAIN_APPROX_SIMPLE)\n",
    "    \n",
    "    # contour를 바탕으로 사각형의 좌표를 찾는 작업\n",
    "    rect = cv2.minAreaRect(contour[0])\n",
    "    box = cv2.boxPoints(rect)\n",
    "    temp_rect = np.array(box, dtype = \"float32\")\n",
    "    temp_rect = temp_rect[np.argsort(temp_rect[:, 1])]\n",
    "    \n",
    "    # If card is horizontally oriented\n",
    "    if temp_rect[0][0]>temp_rect[1][0]:\n",
    "        temp = temp_rect[0].copy()\n",
    "        temp_rect[0] = temp_rect[1]\n",
    "        temp_rect[1] = temp\n",
    "\n",
    "    # If card is vertically oriented\n",
    "    if temp_rect[2][0]<temp_rect[3][0]:\n",
    "        temp = temp_rect[2].copy()\n",
    "        temp_rect[2] = temp_rect[3]\n",
    "        temp_rect[3] = temp\n",
    "    \n",
    "    # wrapPerspective 하는 작업\n",
    "    maxWidth = 100\n",
    "    maxHeight = 120\n",
    "    dst = np.array([[0,0],[maxWidth-1,0],[maxWidth-1,maxHeight-1],[0, maxHeight-1]], np.float32)\n",
    "    M = cv2.getPerspectiveTransform(temp_rect,dst)\n",
    "    warp = cv2.warpPerspective(image, M, (maxWidth, maxHeight)) # warp에 이미지 담김\n",
    "    warp = cv2.cvtColor(warp,cv2.COLOR_BGR2GRAY)\n",
    "    \n",
    "    # wrap 이미지랑 꼭지점 담긴 행렬 돌려줌\n",
    "    return warp, temp_rect"
   ]
  },
  {
   "cell_type": "code",
   "execution_count": 2,
   "metadata": {},
   "outputs": [],
   "source": [
    "def perspective2(image):\n",
    "    ## contours를 찾는 작업\n",
    "    tresh_min = 100\n",
    "    tresh_max = 255\n",
    "\n",
    "    im_bw = cv2.cvtColor(image, cv2.COLOR_BGR2GRAY)\n",
    "    thresh, im_bw = cv2.threshold(im_bw, tresh_min, tresh_max, 0)\n",
    "    contours, hierarchy = cv2.findContours(im_bw, cv2.RETR_TREE, cv2.CHAIN_APPROX_SIMPLE)\n",
    "    \n",
    "    # 모서리를 찾는 작업\n",
    "    rects = [cv2.minAreaRect(each) for each in contours]\n",
    "    rects = [(a,b,c) for a, b, c  in rects if ((b[0]*b[1]>9000))]\n",
    "    for rect in rects:\n",
    "        box = cv2.boxPoints(rect)\n",
    "        box = box.astype('int')\n",
    "#         img2 = cv2.drawContours(img, [box], -1, (0, 0, 255), 5)\n",
    "        \n",
    "    temp_rect = np.array(box, dtype = \"float32\")\n",
    "    temp_rect = temp_rect[np.argsort(temp_rect[:, 1])]\n",
    "    if temp_rect[0][0]>temp_rect[1][0]:\n",
    "        temp = temp_rect[0].copy()\n",
    "        temp_rect[0] = temp_rect[1]\n",
    "        temp_rect[1] = temp\n",
    "    if temp_rect[2][0]<temp_rect[3][0]:\n",
    "        temp = temp_rect[2].copy()\n",
    "        temp_rect[2] = temp_rect[3]\n",
    "        temp_rect[3] = temp\n",
    "    # wrapPerspective 하는 작업\n",
    "    maxWidth = 100\n",
    "    maxHeight = 120\n",
    "    dst = np.array([[0,0],[maxWidth-1,0],[maxWidth-1,maxHeight-1],[0, maxHeight-1]], np.float32)\n",
    "    M = cv2.getPerspectiveTransform(temp_rect,dst)\n",
    "    warp = cv2.warpPerspective(image, M, (maxWidth, maxHeight)) # warp에 이미지 담김\n",
    "    warp = cv2.cvtColor(warp,cv2.COLOR_BGR2GRAY)\n",
    "    \n",
    "    # wrap 이미지랑 꼭지점 담긴 행렬 돌려줌\n",
    "    return warp, temp_rect"
   ]
  },
  {
   "cell_type": "code",
   "execution_count": 3,
   "metadata": {},
   "outputs": [],
   "source": [
    "data_loc = '../big_au/sample1/'\n",
    "decklist = os.listdir(data_loc)\n",
    "cardlist=[]\n",
    "for i in os.listdir(data_loc):    ## 이거 왜 하는지 이유를 모르겠어요. 실제로 decklist == cardlist입니당! (생각해보니 이전에는 deck이 여러개여서 그랬던것같긴하네요)\n",
    "    cardlist.append(i)\n",
    "\n",
    "imglist = []\n",
    "for i in cardlist:\n",
    "    tmpimg = cv2.imread(data_loc+i)\n",
    "    imglist.append(tmpimg)\n",
    "imglist = np.array(imglist)\n",
    "\"\"\"\n",
    "## numpy 이용한거\n",
    "imglist = np.zeros((len(cardlist), 170, 150, 3))\n",
    "n=0\n",
    "for i in cardlist:\n",
    "    tmpimg = cv2.imread(data_loc+i)\n",
    "    imglist[n]=tmpimg\n",
    "    n+=1\n",
    "\"\"\"\n"
   ]
  },
  {
   "cell_type": "code",
   "execution_count": 7,
   "metadata": {},
   "outputs": [
    {
     "data": {
      "text/plain": [
       "True"
      ]
     },
     "execution_count": 7,
     "metadata": {},
     "output_type": "execute_result"
    }
   ],
   "source": [
    "decklist==cardlist"
   ]
  },
  {
   "cell_type": "markdown",
   "metadata": {},
   "source": [
    "## 원본 카드 데이터 입력"
   ]
  },
  {
   "cell_type": "code",
   "execution_count": 17,
   "metadata": {},
   "outputs": [
    {
     "name": "stdout",
     "output_type": "stream",
     "text": [
      "['C10' 'C2' 'C3' 'C4' 'C5' 'C6' 'C7' 'C8' 'C9' 'CA' 'CJ' 'CK' 'CQ' 'D10'\n",
      " 'D2' 'D3' 'D4' 'D5' 'D6' 'D7' 'D8' 'D9' 'DA' 'DJ' 'DK' 'DQ' 'H10' 'H2'\n",
      " 'H3' 'H4' 'H5' 'H6' 'H7' 'H8' 'H9' 'HA' 'HJ' 'HK' 'HQ' 'S10' 'S2' 'S3'\n",
      " 'S4' 'S5' 'S6' 'S7' 'S8' 'S9' 'SA' 'SJ' 'SK' 'SQ']\n"
     ]
    }
   ],
   "source": [
    "cardlist=[]\n",
    "for i in os.listdir('../dataset/'+'card_deck1'):\n",
    "    cardlist.append(i[:-4])\n",
    "print(np.array(cardlist))"
   ]
  },
  {
   "cell_type": "code",
   "execution_count": 18,
   "metadata": {},
   "outputs": [],
   "source": [
    "cards = []\n",
    "for i in os.listdir('../dataset/card_deck1'):\n",
    "#     print(i)\n",
    "    cards.append(cv2.imread('../dataset/card_deck1/'+i, cv2.IMREAD_GRAYSCALE))\n",
    "cards = np.array(cards)\n",
    "\n",
    "\"\"\"\n",
    "## numpy 이용한거 / numpy를 이용하니 datatype이 float으로 나눠서 나중에 absdiff계산할때 문제생기네요! 참고하세요\n",
    "origin_card = os.listdir('../dataset/card_deck1')\n",
    "\n",
    "cards = np.zeros((len(origin_card), 120, 100))\n",
    "n=0\n",
    "for i in origin_card:\n",
    "    tmpimg = cv2.imread('../dataset/card_deck1/'+i, cv2.IMREAD_GRAYSCALE)\n",
    "    cards[n]=tmpimg\n",
    "    n+=1\n",
    "\"\"\""
   ]
  },
  {
   "cell_type": "markdown",
   "metadata": {},
   "source": [
    "## 1개만 시범삼아 해봄"
   ]
  },
  {
   "cell_type": "code",
   "execution_count": 24,
   "metadata": {},
   "outputs": [
    {
     "data": {
      "image/png": "[encoded data removed]",
      "text/plain": [
       "<Figure size 432x288 with 1 Axes>"
      ]
     },
     "metadata": {
      "needs_background": "light"
     },
     "output_type": "display_data"
    }
   ],
   "source": [
    "authentic = []\n",
    "imposter = []\n",
    "for i in range(len(imglist)):\n",
    "    warp, _ =perspective_if_only_one_card_img(imglist[i])\n",
    "    diff_img = cv2.absdiff(cards[0],warp)\n",
    "    if i > 3: \n",
    "        imposter.append(diff_img.sum()) ### 코드 원본은 authentic인데.. 3을 넘어가면 틀린거니깐 사실 imposter에요!\n",
    "    else: \n",
    "        authentic.append(diff_img.sum()) ### 코드 원본은 imposter인데.. 3이전엔 맞는거니깐 사실 authentic에요!\n",
    "authentic = np.array(authentic)\n",
    "imposter = np.array(imposter)\n",
    "plt.hist(authentic, range=[0,1200000],  color = 'r',  bins=50, alpha = 0.6)\n",
    "plt.hist(imposter, range=[0,1200000],  color = 'b',  bins=50, alpha = 0.6)\n",
    "plt.title('C10')\n",
    "plt.show()"
   ]
  },
  {
   "cell_type": "markdown",
   "metadata": {},
   "source": [
    "## 전체 코드 돌리기 \n",
    "#### 라벨링을 따로 하지 않고 그냥 순서에 맞게..\n",
    "근데 이거 순서맞는거겠죠?"
   ]
  },
  {
   "cell_type": "markdown",
   "metadata": {},
   "source": [
    "#### 순서확인부터"
   ]
  },
  {
   "cell_type": "code",
   "execution_count": 26,
   "metadata": {
    "scrolled": true
   },
   "outputs": [
    {
     "data": {
      "text/plain": [
       "['C10.jpg',\n",
       " 'C2.jpg',\n",
       " 'C3.jpg',\n",
       " 'C4.jpg',\n",
       " 'C5.jpg',\n",
       " 'C6.jpg',\n",
       " 'C7.jpg',\n",
       " 'C8.jpg',\n",
       " 'C9.jpg',\n",
       " 'CA.jpg',\n",
       " 'CJ.jpg',\n",
       " 'CK.jpg',\n",
       " 'CQ.jpg',\n",
       " 'D10.jpg',\n",
       " 'D2.jpg',\n",
       " 'D3.jpg',\n",
       " 'D4.jpg',\n",
       " 'D5.jpg',\n",
       " 'D6.jpg',\n",
       " 'D7.jpg',\n",
       " 'D8.jpg',\n",
       " 'D9.jpg',\n",
       " 'DA.jpg',\n",
       " 'DJ.jpg',\n",
       " 'DK.jpg',\n",
       " 'DQ.jpg',\n",
       " 'H10.jpg',\n",
       " 'H2.jpg',\n",
       " 'H3.jpg',\n",
       " 'H4.jpg',\n",
       " 'H5.jpg',\n",
       " 'H6.jpg',\n",
       " 'H7.jpg',\n",
       " 'H8.jpg',\n",
       " 'H9.jpg',\n",
       " 'HA.jpg',\n",
       " 'HJ.jpg',\n",
       " 'HK.jpg',\n",
       " 'HQ.jpg',\n",
       " 'S10.jpg',\n",
       " 'S2.jpg',\n",
       " 'S3.jpg',\n",
       " 'S4.jpg',\n",
       " 'S5.jpg',\n",
       " 'S6.jpg',\n",
       " 'S7.jpg',\n",
       " 'S8.jpg',\n",
       " 'S9.jpg',\n",
       " 'SA.jpg',\n",
       " 'SJ.jpg',\n",
       " 'SK.jpg',\n",
       " 'SQ.jpg']"
      ]
     },
     "execution_count": 26,
     "metadata": {},
     "output_type": "execute_result"
    }
   ],
   "source": [
    "os.listdir('../dataset/card_deck1')"
   ]
  },
  {
   "cell_type": "code",
   "execution_count": 32,
   "metadata": {
    "scrolled": true
   },
   "outputs": [
    {
     "data": {
      "text/plain": [
       "['C10_0_3176.jpg',\n",
       " 'C10_0_5629.jpg',\n",
       " 'C10_0_66.jpg',\n",
       " 'C10_0_6877.jpg',\n",
       " 'C2_0_1668.jpg',\n",
       " 'C2_0_2019.jpg',\n",
       " 'C2_0_57.jpg',\n",
       " 'C2_0_6378.jpg',\n",
       " 'C3_0_1267.jpg',\n",
       " 'C3_0_4047.jpg',\n",
       " 'C3_0_5623.jpg',\n",
       " 'C3_0_6840.jpg',\n",
       " 'C4_0_6374.jpg',\n",
       " 'C4_0_6533.jpg',\n",
       " 'C4_0_7608.jpg',\n",
       " 'C4_0_9176.jpg',\n",
       " 'C5_0_2642.jpg',\n",
       " 'C5_0_3505.jpg',\n",
       " 'C5_0_3658.jpg',\n",
       " 'C5_0_6805.jpg',\n",
       " 'C6_0_1626.jpg',\n",
       " 'C6_0_3919.jpg',\n",
       " 'C6_0_7200.jpg',\n",
       " 'C6_0_7383.jpg',\n",
       " 'C7_0_2558.jpg',\n",
       " 'C7_0_3545.jpg',\n",
       " 'C7_0_5584.jpg',\n",
       " 'C7_0_6577.jpg',\n",
       " 'C8_0_1147.jpg',\n",
       " 'C8_0_5711.jpg',\n",
       " 'C8_0_5963.jpg',\n",
       " 'C8_0_7039.jpg',\n",
       " 'C9_0_1733.jpg',\n",
       " 'C9_0_1823.jpg',\n",
       " 'C9_0_5762.jpg',\n",
       " 'C9_0_8170.jpg',\n",
       " 'CA_0_1674.jpg',\n",
       " 'CA_0_4583.jpg',\n",
       " 'CA_0_544.jpg',\n",
       " 'CA_0_9581.jpg',\n",
       " 'CJ_0_1947.jpg',\n",
       " 'CJ_0_2319.jpg',\n",
       " 'CJ_0_27.jpg',\n",
       " 'CJ_0_2920.jpg',\n",
       " 'CK_0_2290.jpg',\n",
       " 'CK_0_6145.jpg',\n",
       " 'CK_0_6672.jpg',\n",
       " 'CK_0_9302.jpg',\n",
       " 'CQ_0_2875.jpg',\n",
       " 'CQ_0_4267.jpg',\n",
       " 'CQ_0_8209.jpg',\n",
       " 'CQ_0_8397.jpg',\n",
       " 'D10_0_6953.jpg',\n",
       " 'D10_0_8383.jpg',\n",
       " 'D10_0_8782.jpg',\n",
       " 'D10_0_9856.jpg',\n",
       " 'D2_0_1176.jpg',\n",
       " 'D2_0_2638.jpg',\n",
       " 'D2_0_4002.jpg',\n",
       " 'D2_0_8034.jpg',\n",
       " 'D3_0_8206.jpg',\n",
       " 'D3_0_8780.jpg',\n",
       " 'D3_0_8897.jpg',\n",
       " 'D3_0_9345.jpg',\n",
       " 'D4_0_1472.jpg',\n",
       " 'D4_0_4407.jpg',\n",
       " 'D4_0_5898.jpg',\n",
       " 'D4_0_9032.jpg',\n",
       " 'D5_0_2200.jpg',\n",
       " 'D5_0_2204.jpg',\n",
       " 'D5_0_6140.jpg',\n",
       " 'D5_0_9547.jpg',\n",
       " 'D6_0_3805.jpg',\n",
       " 'D6_0_7081.jpg',\n",
       " 'D6_0_9345.jpg',\n",
       " 'D6_0_9631.jpg',\n",
       " 'D7_0_1929.jpg',\n",
       " 'D7_0_261.jpg',\n",
       " 'D7_0_4546.jpg',\n",
       " 'D7_0_935.jpg',\n",
       " 'D8_0_2195.jpg',\n",
       " 'D8_0_5541.jpg',\n",
       " 'D8_0_5989.jpg',\n",
       " 'D8_0_7981.jpg',\n",
       " 'D9_0_449.jpg',\n",
       " 'D9_0_7113.jpg',\n",
       " 'D9_0_8071.jpg',\n",
       " 'D9_0_9613.jpg',\n",
       " 'DA_0_199.jpg',\n",
       " 'DA_0_3507.jpg',\n",
       " 'DA_0_7637.jpg',\n",
       " 'DA_0_9660.jpg',\n",
       " 'DJ_0_4624.jpg',\n",
       " 'DJ_0_4785.jpg',\n",
       " 'DJ_0_5322.jpg',\n",
       " 'DJ_0_7896.jpg',\n",
       " 'DK_0_1679.jpg',\n",
       " 'DK_0_4221.jpg',\n",
       " 'DK_0_715.jpg',\n",
       " 'DK_0_9362.jpg',\n",
       " 'DQ_0_4544.jpg',\n",
       " 'DQ_0_8667.jpg',\n",
       " 'DQ_0_9022.jpg',\n",
       " 'DQ_0_9922.jpg',\n",
       " 'H10_0_2690.jpg',\n",
       " 'H10_0_4609.jpg',\n",
       " 'H10_0_47.jpg',\n",
       " 'H10_0_7342.jpg',\n",
       " 'H2_0_4061.jpg',\n",
       " 'H2_0_4219.jpg',\n",
       " 'H2_0_656.jpg',\n",
       " 'H2_0_7982.jpg',\n",
       " 'H3_0_1222.jpg',\n",
       " 'H3_0_1973.jpg',\n",
       " 'H3_0_2359.jpg',\n",
       " 'H3_0_7171.jpg',\n",
       " 'H4_0_344.jpg',\n",
       " 'H4_0_4382.jpg',\n",
       " 'H4_0_523.jpg',\n",
       " 'H4_0_8671.jpg',\n",
       " 'H5_0_3001.jpg',\n",
       " 'H5_0_3272.jpg',\n",
       " 'H5_0_4257.jpg',\n",
       " 'H5_0_7538.jpg',\n",
       " 'H6_0_4904.jpg',\n",
       " 'H6_0_6741.jpg',\n",
       " 'H6_0_7464.jpg',\n",
       " 'H6_0_911.jpg',\n",
       " 'H7_0_3061.jpg',\n",
       " 'H7_0_3067.jpg',\n",
       " 'H7_0_4134.jpg',\n",
       " 'H7_0_6615.jpg',\n",
       " 'H8_0_1118.jpg',\n",
       " 'H8_0_4131.jpg',\n",
       " 'H8_0_426.jpg',\n",
       " 'H8_0_8359.jpg',\n",
       " 'H9_0_3889.jpg',\n",
       " 'H9_0_4634.jpg',\n",
       " 'H9_0_6319.jpg',\n",
       " 'H9_0_7940.jpg',\n",
       " 'HA_0_4006.jpg',\n",
       " 'HA_0_556.jpg',\n",
       " 'HA_0_7313.jpg',\n",
       " 'HA_0_7520.jpg',\n",
       " 'HJ_0_4597.jpg',\n",
       " 'HJ_0_5385.jpg',\n",
       " 'HJ_0_6689.jpg',\n",
       " 'HJ_0_9832.jpg',\n",
       " 'HK_0_269.jpg',\n",
       " 'HK_0_4420.jpg',\n",
       " 'HK_0_7014.jpg',\n",
       " 'HK_0_7620.jpg',\n",
       " 'HQ_0_2216.jpg',\n",
       " 'HQ_0_7024.jpg',\n",
       " 'HQ_0_8327.jpg',\n",
       " 'HQ_0_9456.jpg',\n",
       " 'S10_0_2332.jpg',\n",
       " 'S10_0_4479.jpg',\n",
       " 'S10_0_669.jpg',\n",
       " 'S10_0_8691.jpg',\n",
       " 'S2_0_2588.jpg',\n",
       " 'S2_0_2735.jpg',\n",
       " 'S2_0_5066.jpg',\n",
       " 'S2_0_7648.jpg',\n",
       " 'S3_0_1112.jpg',\n",
       " 'S3_0_1148.jpg',\n",
       " 'S3_0_5149.jpg',\n",
       " 'S3_0_9667.jpg',\n",
       " 'S4_0_4669.jpg',\n",
       " 'S4_0_5899.jpg',\n",
       " 'S4_0_9532.jpg',\n",
       " 'S4_0_9727.jpg',\n",
       " 'S5_0_1657.jpg',\n",
       " 'S5_0_4055.jpg',\n",
       " 'S5_0_457.jpg',\n",
       " 'S5_0_5855.jpg',\n",
       " 'S6_0_353.jpg',\n",
       " 'S6_0_5546.jpg',\n",
       " 'S6_0_7349.jpg',\n",
       " 'S6_0_8990.jpg',\n",
       " 'S7_0_1450.jpg',\n",
       " 'S7_0_3517.jpg',\n",
       " 'S7_0_7485.jpg',\n",
       " 'S7_0_7614.jpg',\n",
       " 'S8_0_3806.jpg',\n",
       " 'S8_0_4987.jpg',\n",
       " 'S8_0_6909.jpg',\n",
       " 'S8_0_9760.jpg',\n",
       " 'S9_0_2021.jpg',\n",
       " 'S9_0_3483.jpg',\n",
       " 'S9_0_358.jpg',\n",
       " 'S9_0_45.jpg',\n",
       " 'SA_0_1462.jpg',\n",
       " 'SA_0_1770.jpg',\n",
       " 'SA_0_5421.jpg',\n",
       " 'SA_0_684.jpg',\n",
       " 'SJ_0_136.jpg',\n",
       " 'SJ_0_2545.jpg',\n",
       " 'SJ_0_5274.jpg',\n",
       " 'SJ_0_8808.jpg',\n",
       " 'SK_0_6860.jpg',\n",
       " 'SK_0_7455.jpg',\n",
       " 'SK_0_8468.jpg',\n",
       " 'SK_0_8999.jpg',\n",
       " 'SQ_0_2362.jpg',\n",
       " 'SQ_0_2560.jpg',\n",
       " 'SQ_0_3171.jpg',\n",
       " 'SQ_0_7124.jpg']"
      ]
     },
     "execution_count": 32,
     "metadata": {},
     "output_type": "execute_result"
    }
   ],
   "source": [
    "decklist"
   ]
  },
  {
   "cell_type": "markdown",
   "metadata": {},
   "source": [
    "순서대충맞는거 확인"
   ]
  },
  {
   "cell_type": "markdown",
   "metadata": {},
   "source": [
    "## 코드 맞는거 확인완료"
   ]
  },
  {
   "cell_type": "code",
   "execution_count": 36,
   "metadata": {},
   "outputs": [
    {
     "data": {
      "image/png": "[encoded data removed]",
      "text/plain": [
       "<Figure size 432x288 with 1 Axes>"
      ]
     },
     "metadata": {
      "needs_background": "light"
     },
     "output_type": "display_data"
    }
   ],
   "source": [
    "correct = 0\n",
    "wrong = 0\n",
    "authentic = []\n",
    "imposter = []\n",
    "for card in range(len(cards)):\n",
    "    for i in range(len(imglist)):\n",
    "        warp, _ =perspective2(imglist[i])\n",
    "        diff_img = cv2.absdiff(cards[card], warp)\n",
    "        if card == int(i/4): ## card가 0일 때 앞에서 4개, 1일때는 그다음 4개 ,,,\n",
    "            if diff_img.sum()>200000:\n",
    "                wrong+=1\n",
    "            \n",
    "            authentic.append(diff_img.sum())\n",
    "        else: \n",
    "            imposter.append(diff_img.sum())\n",
    "            if diff_img.sum()<200000:\n",
    "                wrong+=1\n",
    "authentic = np.array(authentic)\n",
    "imposter = np.array(imposter)\n",
    "plt.hist(authentic, range=[0,1200000],  color = 'r',  bins=50, alpha = 0.6)\n",
    "plt.hist(imposter, range=[0,1200000],  color = 'b',  bins=50, alpha = 0.6)\n",
    "plt.show()"
   ]
  },
  {
   "cell_type": "code",
   "execution_count": 37,
   "metadata": {},
   "outputs": [
    {
     "data": {
      "text/plain": [
       "124"
      ]
     },
     "execution_count": 37,
     "metadata": {},
     "output_type": "execute_result"
    }
   ],
   "source": [
    "wrong"
   ]
  },
  {
   "cell_type": "markdown",
   "metadata": {},
   "source": [
    "## ++ sample2에서도 똑같이 진행해야했고, 진행했음"
   ]
  },
  {
   "cell_type": "code",
   "execution_count": 38,
   "metadata": {},
   "outputs": [
    {
     "data": {
      "text/plain": [
       "'\\n## numpy 이용한거\\nimglist = np.zeros((len(cardlist), 170, 150, 3))\\nn=0\\nfor i in cardlist:\\n    tmpimg = cv2.imread(data_loc+i)\\n    imglist[n]=tmpimg\\n    n+=1\\n'"
      ]
     },
     "execution_count": 38,
     "metadata": {},
     "output_type": "execute_result"
    }
   ],
   "source": [
    "data_loc = '../big_au/sample2/'\n",
    "decklist = os.listdir(data_loc)\n",
    "cardlist=[]\n",
    "for i in os.listdir(data_loc):    ## 이거 왜 하는지 이유를 모르겠어요. 실제로 decklist == cardlist입니당! (생각해보니 이전에는 deck이 여러개여서 그랬던것같긴하네요)\n",
    "    cardlist.append(i)\n",
    "\n",
    "imglist = []\n",
    "for i in cardlist:\n",
    "    tmpimg = cv2.imread(data_loc+i)\n",
    "    imglist.append(tmpimg)\n",
    "imglist = np.array(imglist)\n",
    "\"\"\"\n",
    "## numpy 이용한거\n",
    "imglist = np.zeros((len(cardlist), 170, 150, 3))\n",
    "n=0\n",
    "for i in cardlist:\n",
    "    tmpimg = cv2.imread(data_loc+i)\n",
    "    imglist[n]=tmpimg\n",
    "    n+=1\n",
    "\"\"\"\n"
   ]
  },
  {
   "cell_type": "code",
   "execution_count": 39,
   "metadata": {},
   "outputs": [
    {
     "data": {
      "image/png": "[encoded data removed]",
      "text/plain": [
       "<Figure size 432x288 with 1 Axes>"
      ]
     },
     "metadata": {
      "needs_background": "light"
     },
     "output_type": "display_data"
    }
   ],
   "source": [
    "correct = 0\n",
    "wrong = 0\n",
    "authentic = []\n",
    "imposter = []\n",
    "for card in range(len(cards)):\n",
    "    for i in range(len(imglist)):\n",
    "        warp, _ =perspective2(imglist[i])\n",
    "        diff_img = cv2.absdiff(cards[card], warp)\n",
    "        if card == int(i/4): ## card가 0일 때 앞에서 4개, 1일때는 그다음 4개 ,,,\n",
    "            if diff_img.sum()>200000:\n",
    "                wrong+=1\n",
    "            \n",
    "            authentic.append(diff_img.sum())\n",
    "        else: \n",
    "            imposter.append(diff_img.sum())\n",
    "            if diff_img.sum()<200000:\n",
    "                wrong+=1\n",
    "authentic = np.array(authentic)\n",
    "imposter = np.array(imposter)\n",
    "plt.hist(authentic, range=[0,1200000],  color = 'r',  bins=50, alpha = 0.6)\n",
    "plt.hist(imposter, range=[0,1200000],  color = 'b',  bins=50, alpha = 0.6)\n",
    "plt.show()"
   ]
  },
  {
   "cell_type": "code",
   "execution_count": 41,
   "metadata": {},
   "outputs": [
    {
     "data": {
      "text/plain": [
       "122"
      ]
     },
     "execution_count": 41,
     "metadata": {},
     "output_type": "execute_result"
    }
   ],
   "source": [
    "wrong"
   ]
  }
 ],
 "metadata": {
  "kernelspec": {
   "display_name": "Python 3",
   "language": "python",
   "name": "python3"
  },
  "language_info": {
   "codemirror_mode": {
    "name": "ipython",
    "version": 3
   },
   "file_extension": ".py",
   "mimetype": "text/x-python",
   "name": "python",
   "nbconvert_exporter": "python",
   "pygments_lexer": "ipython3",
   "version": "3.7.3"
  }
 },
 "nbformat": 4,
 "nbformat_minor": 2
}
