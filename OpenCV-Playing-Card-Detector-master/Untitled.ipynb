{
 "cells": [
  {
   "cell_type": "code",
   "execution_count": 40,
   "metadata": {},
   "outputs": [],
   "source": [
    "import cv2\n",
    "import numpy as np\n",
    "import time\n",
    "import os\n",
    "import Cards\n",
    "import VideoStream\n",
    "import matplotlib.pyplot as plt\n",
    "\n",
    "### ---- INITIALIZATION ---- ###\n",
    "# Define constants and initialize variables\n",
    "\n",
    "## Camera settings\n",
    "IM_WIDTH = 1280\n",
    "IM_HEIGHT = 720 \n",
    "FRAME_RATE = 10\n",
    "\n",
    "## Initialize calculated frame rate because it's calculated AFTER the first time it's displayed\n",
    "frame_rate_calc = 1\n",
    "freq = cv2.getTickFrequency()\n",
    "\n",
    "## Define font to use\n",
    "font = cv2.FONT_HERSHEY_SIMPLEX\n",
    "\n",
    "train_ranks = Cards.load_ranks('/Card_Imgs/')\n",
    "train_suits = Cards.load_suits('/Card_Imgs/')"
   ]
  },
  {
   "cell_type": "code",
   "execution_count": 41,
   "metadata": {},
   "outputs": [],
   "source": [
    "img = cv2.imread('heart3.jpg')"
   ]
  },
  {
   "cell_type": "code",
   "execution_count": 42,
   "metadata": {},
   "outputs": [],
   "source": [
    "# Pre-process camera image (gray, blur, and threshold it)\n",
    "pre_proc = Cards.preprocess_image(img)\n",
    "\n",
    "# Find and sort the contours of all cards in the image (query cards)\n",
    "cnts_sort, cnt_is_card = Cards.find_cards(pre_proc)"
   ]
  },
  {
   "cell_type": "code",
   "execution_count": 35,
   "metadata": {},
   "outputs": [],
   "source": [
    "cards = []\n",
    "k = 0"
   ]
  },
  {
   "cell_type": "code",
   "execution_count": 36,
   "metadata": {},
   "outputs": [],
   "source": [
    "for i in range(len(cnts_sort)):\n",
    "    if (cnt_is_card[i] == 1):\n",
    "\n",
    "        # Create a card object from the contour and append it to the list of cards.\n",
    "        # preprocess_card function takes the card contour and contour and\n",
    "        # determines the cards properties (corner points, etc). It generates a\n",
    "        # flattened 200x300 image of the card, and isolates the card's\n",
    "        # suit and rank from the image.\n",
    "        cards.append(Cards.preprocess_card(cnts_sort[i],image))\n",
    "\n",
    "        # Find the best rank and suit match for the card.\n",
    "        cards[k].best_rank_match,cards[k].best_suit_match,cards[k].rank_diff,cards[k].suit_diff = Cards.match_card(cards[k],train_ranks,train_suits)\n",
    "\n",
    "        # Draw center point and match result on the image.\n",
    "        image = Cards.draw_results(image, cards[k])\n",
    "        k = k + 1"
   ]
  },
  {
   "cell_type": "code",
   "execution_count": 37,
   "metadata": {},
   "outputs": [],
   "source": [
    "blur = cv2.GaussianBlur(img, (5,5), 0)"
   ]
  },
  {
   "cell_type": "code",
   "execution_count": 38,
   "metadata": {},
   "outputs": [
    {
     "data": {
      "text/plain": [
       "<matplotlib.image.AxesImage at 0x2947bc6c9e8>"
      ]
     },
     "execution_count": 38,
     "metadata": {},
     "output_type": "execute_result"
    },
    {
     "data": {
      "image/png": "[encoded data removed]",
      "text/plain": [
       "<Figure size 432x288 with 1 Axes>"
      ]
     },
     "metadata": {
      "needs_background": "light"
     },
     "output_type": "display_data"
    }
   ],
   "source": [
    "plt.imshow(pre_proc)"
   ]
  },
  {
   "cell_type": "code",
   "execution_count": null,
   "metadata": {},
   "outputs": [],
   "source": []
  }
 ],
 "metadata": {
  "kernelspec": {
   "display_name": "Python 3",
   "language": "python",
   "name": "python3"
  },
  "language_info": {
   "codemirror_mode": {
    "name": "ipython",
    "version": 3
   },
   "file_extension": ".py",
   "mimetype": "text/x-python",
   "name": "python",
   "nbconvert_exporter": "python",
   "pygments_lexer": "ipython3",
   "version": "3.7.3"
  }
 },
 "nbformat": 4,
 "nbformat_minor": 2
}
