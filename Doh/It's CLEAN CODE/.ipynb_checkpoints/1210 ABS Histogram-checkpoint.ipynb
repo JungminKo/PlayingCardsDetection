{
 "cells": [
  {
   "cell_type": "code",
   "execution_count": 1,
   "metadata": {},
   "outputs": [],
   "source": [
    "import cv2\n",
    "import numpy as np\n",
    "import matplotlib.pyplot as plt\n",
    "import os"
   ]
  },
  {
   "cell_type": "code",
   "execution_count": 3,
   "metadata": {},
   "outputs": [],
   "source": [
    "data_loc = '../../dataset/'\n",
    "decklist = os.listdir(data_loc)\n",
    "cardlist=[]\n",
    "for i in os.listdir(data_loc+'card_deck1'):\n",
    "    cardlist.append(i[:-4])\n",
    "imglist = []\n",
    "for j in cardlist:\n",
    "    for i in decklist:\n",
    "        tmpimg = cv2.imread(data_loc+i+'/'+j+'.jpg', cv2.IMREAD_GRAYSCALE)\n",
    "        tmpimg = cv2.resize(tmpimg, (96, 128), interpolation=cv2.INTER_AREA)\n",
    "        imglist.append(tmpimg)\n",
    "imglist = np.array(imglist)"
   ]
  },
  {
   "cell_type": "code",
   "execution_count": 4,
   "metadata": {
    "scrolled": true
   },
   "outputs": [
    {
     "data": {
      "image/png": "[encoded data removed]",
      "text/plain": [
       "<Figure size 432x288 with 1 Axes>"
      ]
     },
     "metadata": {
      "needs_background": "light"
     },
     "output_type": "display_data"
    }
   ],
   "source": [
    "authentic = []\n",
    "imposter = []\n",
    "for i in range(len(imglist)):\n",
    "    diff_img = cv2.absdiff(imglist[0],imglist[i])\n",
    "    if i%52 == 0: \n",
    "        authentic.append(diff_img.sum())\n",
    "    else: \n",
    "        imposter.append(diff_img.sum())\n",
    "    \n",
    "authentic = np.array(authentic)\n",
    "imposter = np.array(imposter)\n",
    "plt.hist(authentic, range=[0,1200000],  color = 'r',  bins=50, alpha = 0.6)\n",
    "plt.hist(imposter, range=[0,1200000],  color = 'b',  bins=50, alpha = 0.6)\n",
    "plt.title('C10')\n",
    "plt.show()"
   ]
  },
  {
   "cell_type": "code",
   "execution_count": 5,
   "metadata": {
    "scrolled": true
   },
   "outputs": [
    {
     "data": {
      "image/png": "[encoded data removed]",
      "text/plain": [
       "<Figure size 432x288 with 1 Axes>"
      ]
     },
     "metadata": {
      "needs_background": "light"
     },
     "output_type": "display_data"
    }
   ],
   "source": [
    "authentic = []\n",
    "imposter = []\n",
    "for i in range(len(imglist)):\n",
    "    diff_img = cv2.absdiff(imglist[1],imglist[i])\n",
    "    if i%52 == 1: \n",
    "        authentic.append(diff_img.sum())\n",
    "    else: \n",
    "        imposter.append(diff_img.sum())\n",
    "    \n",
    "authentic = np.array(authentic)\n",
    "imposter = np.array(imposter)\n",
    "plt.hist(authentic, range=[0,1200000],  color = 'r',  bins=50, alpha = 0.6)\n",
    "plt.hist(imposter, range=[0,1200000],  color = 'b',  bins=50, alpha = 0.6)\n",
    "plt.title('C2')\n",
    "plt.show()"
   ]
  },
  {
   "cell_type": "code",
   "execution_count": 6,
   "metadata": {},
   "outputs": [
    {
     "data": {
      "image/png": "[encoded data removed]",
      "text/plain": [
       "<Figure size 432x288 with 1 Axes>"
      ]
     },
     "metadata": {
      "needs_background": "light"
     },
     "output_type": "display_data"
    }
   ],
   "source": [
    "authentic = []\n",
    "imposter = [] \n",
    "for i in range(len(imglist)):\n",
    "    diff_img = cv2.absdiff(imglist[2],imglist[i])\n",
    "    if i%52 == 2: \n",
    "        authentic.append(diff_img.sum())\n",
    "    else: \n",
    "        imposter.append(diff_img.sum())\n",
    "    \n",
    "authentic = np.array(authentic)\n",
    "imposter = np.array(imposter)\n",
    "plt.hist(authentic, range=[0,1200000],  color = 'r',  bins=50, alpha = 0.6)\n",
    "plt.hist(imposter, range=[0,1200000],  color = 'b',  bins=50, alpha = 0.6)\n",
    "plt.title('C3')\n",
    "plt.show()"
   ]
  },
  {
   "cell_type": "code",
   "execution_count": null,
   "metadata": {},
   "outputs": [],
   "source": []
  }
 ],
 "metadata": {
  "kernelspec": {
   "display_name": "Python 3",
   "language": "python",
   "name": "python3"
  },
  "language_info": {
   "codemirror_mode": {
    "name": "ipython",
    "version": 3
   },
   "file_extension": ".py",
   "mimetype": "text/x-python",
   "name": "python",
   "nbconvert_exporter": "python",
   "pygments_lexer": "ipython3",
   "version": "3.7.3"
  }
 },
 "nbformat": 4,
 "nbformat_minor": 2
}
