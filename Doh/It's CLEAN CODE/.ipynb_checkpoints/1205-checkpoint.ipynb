{
 "cells": [
  {
   "cell_type": "code",
   "execution_count": 2,
   "metadata": {},
   "outputs": [],
   "source": [
    "import numpy as np\n",
    "import cv2\n",
    "import matplotlib.pyplot as plt\n",
    "import os"
   ]
  },
  {
   "cell_type": "code",
   "execution_count": 3,
   "metadata": {},
   "outputs": [],
   "source": [
    "data_loc = '../../dataset/'\n",
    "dectlist = ['card_deck1','card_deck2','card_deck3','card_deck4','card_deck5']"
   ]
  },
  {
   "cell_type": "code",
   "execution_count": 4,
   "metadata": {},
   "outputs": [],
   "source": [
    "cardlist=[]\n",
    "for i in os.listdir(data_loc+'card_deck1'):\n",
    "    cardlist.append(i[:-4])"
   ]
  },
  {
   "cell_type": "code",
   "execution_count": 5,
   "metadata": {},
   "outputs": [],
   "source": [
    "imglist = []\n",
    "for j in cardlist:\n",
    "    for i in dectlist:\n",
    "        imglist.append(cv2.imread(data_loc+i+'/'+j+'.jpg', cv2.IMREAD_GRAYSCALE) )"
   ]
  },
  {
   "cell_type": "code",
   "execution_count": 6,
   "metadata": {},
   "outputs": [],
   "source": [
    "labellist=[]\n",
    "for i in cardlist:\n",
    "    for j in range(5):\n",
    "        labellist.append(i)"
   ]
  },
  {
   "cell_type": "code",
   "execution_count": 7,
   "metadata": {},
   "outputs": [
    {
     "name": "stdout",
     "output_type": "stream",
     "text": [
      "260\n",
      "(120, 100)\n",
      "260\n",
      "C10\n"
     ]
    }
   ],
   "source": [
    "print(len(imglist))\n",
    "print(imglist[0].shape)\n",
    "print(len(labellist))\n",
    "print(labellist[0])"
   ]
  },
  {
   "cell_type": "code",
   "execution_count": 8,
   "metadata": {},
   "outputs": [
    {
     "data": {
      "text/plain": [
       "<matplotlib.image.AxesImage at 0x15796ac1080>"
      ]
     },
     "execution_count": 8,
     "metadata": {},
     "output_type": "execute_result"
    },
    {
     "data": {
      "image/png": "[encoded data removed]",
      "text/plain": [
       "<Figure size 432x288 with 1 Axes>"
      ]
     },
     "metadata": {
      "needs_background": "light"
     },
     "output_type": "display_data"
    }
   ],
   "source": [
    "plt.imshow(imglist[0])"
   ]
  },
  {
   "cell_type": "code",
   "execution_count": 9,
   "metadata": {},
   "outputs": [
    {
     "data": {
      "text/plain": [
       "(120, 100)"
      ]
     },
     "execution_count": 9,
     "metadata": {},
     "output_type": "execute_result"
    }
   ],
   "source": [
    "imglist[0].shape"
   ]
  },
  {
   "cell_type": "code",
   "execution_count": 10,
   "metadata": {},
   "outputs": [],
   "source": [
    "cell_size = (120, 100)\n",
    "block_size = (1, 1)\n",
    "nbins = 9\n",
    "hog = cv2.HOGDescriptor(_winSize = (imglist[0].shape[1]// cell_size[1] * cell_size[1],\n",
    "                                   imglist[0].shape[0] // cell_size[0] * cell_size[0]),\n",
    "                       _blockSize = (block_size[1] * cell_size[1],\n",
    "                                    block_size[0] * cell_size[0]),\n",
    "                       _blockStride = (cell_size[1], cell_size[0]),\n",
    "                       _cellSize = (cell_size[1], cell_size[0]),\n",
    "                       _nbins = nbins)"
   ]
  },
  {
   "cell_type": "code",
   "execution_count": 11,
   "metadata": {},
   "outputs": [
    {
     "name": "stdout",
     "output_type": "stream",
     "text": [
      "[[0.3327787]\n",
      " [0.3327787]\n",
      " [0.3327787]\n",
      " [0.3327787]\n",
      " [0.3327787]\n",
      " [0.3327787]\n",
      " [0.3327787]\n",
      " [0.3327787]\n",
      " [0.3327787]]\n"
     ]
    }
   ],
   "source": [
    "computed = []\n",
    "for img in imglist:\n",
    "    computed.append(hog.compute(img))\n",
    "print(computed[0])"
   ]
  },
  {
   "cell_type": "code",
   "execution_count": 12,
   "metadata": {},
   "outputs": [
    {
     "name": "stdout",
     "output_type": "stream",
     "text": [
      "(260, 9) (260,)\n"
     ]
    }
   ],
   "source": [
    "train_desc = np.array(computed).squeeze().astype(np.float32)\n",
    "train_labels = np.repeat(np.arange(52), len(train_desc)/52)\n",
    "print(train_desc.shape, train_labels.shape)"
   ]
  },
  {
   "cell_type": "code",
   "execution_count": 13,
   "metadata": {},
   "outputs": [
    {
     "data": {
      "text/plain": [
       "True"
      ]
     },
     "execution_count": 13,
     "metadata": {},
     "output_type": "execute_result"
    }
   ],
   "source": [
    "svm = cv2.ml.SVM_create()\n",
    "svm.setType(cv2.ml.SVM_C_SVC)\n",
    "svm.setKernel(cv2.ml.SVM_RBF)\n",
    "svm.setC(2.5)\n",
    "svm.setGamma(0.50625)\n",
    "svm.train(train_desc, cv2.ml.ROW_SAMPLE, train_labels)"
   ]
  },
  {
   "cell_type": "code",
   "execution_count": 14,
   "metadata": {},
   "outputs": [
    {
     "name": "stdout",
     "output_type": "stream",
     "text": [
      "2 C3 0.0\n"
     ]
    }
   ],
   "source": [
    "test_img = cv2.imread('spade10.jpg')\n",
    "img_resize = cv2.resize(test_img, (120, 100), interpolation=cv2.INTER_AREA)\n",
    "\n",
    "desc = hog.compute(img_resize)\n",
    "test_desc = np.array(desc).astype(np.float32)\n",
    "\n",
    "ret, res = svm.predict(test_desc.T)\n",
    "print(int(res), cardlist[int(res)], ret)"
   ]
  },
  {
   "cell_type": "code",
   "execution_count": null,
   "metadata": {},
   "outputs": [],
   "source": [
    "test_img = cv2.imread('D5.jpg')\n",
    "img_resize = cv2.resize(test_img, (120, 100), interpolation=cv2.INTER_AREA)\n",
    "\n",
    "desc = hog.compute(img_resize)\n",
    "test_desc = np.array(desc).astype(np.float32)\n",
    "\n",
    "ret, res = svm.predict(test_desc.T)\n",
    "print(int(res), cardlist[int(res)], ret)"
   ]
  },
  {
   "cell_type": "code",
   "execution_count": 14,
   "metadata": {},
   "outputs": [
    {
     "name": "stdout",
     "output_type": "stream",
     "text": [
      "51 SQ 0.0\n"
     ]
    }
   ],
   "source": [
    "test_img = cv2.imread('SK.jpg')\n",
    "img_resize = cv2.resize(test_img, (120, 100), interpolation=cv2.INTER_AREA)\n",
    "\n",
    "desc = hog.compute(img_resize)\n",
    "test_desc = np.array(desc).astype(np.float32)\n",
    "\n",
    "ret, res = svm.predict(test_desc.T)\n",
    "print(int(res), cardlist[int(res)], ret)"
   ]
  },
  {
   "cell_type": "code",
   "execution_count": 15,
   "metadata": {},
   "outputs": [
    {
     "data": {
      "text/plain": [
       "array(['C10', 'C2', 'C3', 'C4', 'C5', 'C6', 'C7', 'C8', 'C9', 'CA', 'CJ',\n",
       "       'CK', 'CQ', 'D10', 'D2', 'D3', 'D4', 'D5', 'D6', 'D7', 'D8', 'D9',\n",
       "       'DA', 'DJ', 'DK', 'DQ', 'H10', 'H2', 'H3', 'H4', 'H5', 'H6', 'H7',\n",
       "       'H8', 'H9', 'HA', 'HJ', 'HK', 'HQ', 'S10', 'S2', 'S3', 'S4', 'S5',\n",
       "       'S6', 'S7', 'S8', 'S9', 'SA', 'SJ', 'SK', 'SQ'], dtype='<U3')"
      ]
     },
     "execution_count": 15,
     "metadata": {},
     "output_type": "execute_result"
    }
   ],
   "source": [
    "np.array(cardlist)"
   ]
  }
 ],
 "metadata": {
  "kernelspec": {
   "display_name": "Python 3",
   "language": "python",
   "name": "python3"
  },
  "language_info": {
   "codemirror_mode": {
    "name": "ipython",
    "version": 3
   },
   "file_extension": ".py",
   "mimetype": "text/x-python",
   "name": "python",
   "nbconvert_exporter": "python",
   "pygments_lexer": "ipython3",
   "version": "3.7.3"
  }
 },
 "nbformat": 4,
 "nbformat_minor": 2
}
