{
 "cells": [
  {
   "cell_type": "code",
   "execution_count": 1,
   "metadata": {},
   "outputs": [],
   "source": [
    "import pandas as pd"
   ]
  },
  {
   "cell_type": "code",
   "execution_count": 3,
   "metadata": {},
   "outputs": [],
   "source": [
    "df = pd.read_csv('df.csv')"
   ]
  },
  {
   "cell_type": "code",
   "execution_count": 5,
   "metadata": {},
   "outputs": [],
   "source": [
    "del df['Unnamed: 0']"
   ]
  },
  {
   "cell_type": "code",
   "execution_count": 7,
   "metadata": {},
   "outputs": [
    {
     "data": {
      "text/plain": [
       "(208, 209)"
      ]
     },
     "execution_count": 7,
     "metadata": {},
     "output_type": "execute_result"
    }
   ],
   "source": [
    "df.shape"
   ]
  },
  {
   "cell_type": "code",
   "execution_count": null,
   "metadata": {},
   "outputs": [],
   "source": [
    "pd.DataFrame([시리즈1, 시리즈2])"
   ]
  },
  {
   "cell_type": "code",
   "execution_count": 9,
   "metadata": {},
   "outputs": [
    {
     "data": {
      "text/html": [
       "<div>\n",
       "<style scoped>\n",
       "    .dataframe tbody tr th:only-of-type {\n",
       "        vertical-align: middle;\n",
       "    }\n",
       "\n",
       "    .dataframe tbody tr th {\n",
       "        vertical-align: top;\n",
       "    }\n",
       "\n",
       "    .dataframe thead th {\n",
       "        text-align: right;\n",
       "    }\n",
       "</style>\n",
       "<table border=\"1\" class=\"dataframe\">\n",
       "  <thead>\n",
       "    <tr style=\"text-align: right;\">\n",
       "      <th></th>\n",
       "      <th>C1</th>\n",
       "      <th>C1.1</th>\n",
       "    </tr>\n",
       "  </thead>\n",
       "  <tbody>\n",
       "    <tr>\n",
       "      <th>0</th>\n",
       "      <td>30689.847019</td>\n",
       "      <td>10207.351751</td>\n",
       "    </tr>\n",
       "    <tr>\n",
       "      <th>1</th>\n",
       "      <td>17012.226055</td>\n",
       "      <td>19852.323747</td>\n",
       "    </tr>\n",
       "    <tr>\n",
       "      <th>2</th>\n",
       "      <td>31388.742966</td>\n",
       "      <td>9461.181602</td>\n",
       "    </tr>\n",
       "    <tr>\n",
       "      <th>3</th>\n",
       "      <td>44681.052026</td>\n",
       "      <td>14730.684199</td>\n",
       "    </tr>\n",
       "    <tr>\n",
       "      <th>4</th>\n",
       "      <td>746580.197405</td>\n",
       "      <td>780090.848986</td>\n",
       "    </tr>\n",
       "    <tr>\n",
       "      <th>5</th>\n",
       "      <td>726033.088672</td>\n",
       "      <td>759437.814625</td>\n",
       "    </tr>\n",
       "    <tr>\n",
       "      <th>6</th>\n",
       "      <td>724729.141252</td>\n",
       "      <td>758114.710099</td>\n",
       "    </tr>\n",
       "    <tr>\n",
       "      <th>7</th>\n",
       "      <td>633931.037733</td>\n",
       "      <td>666811.239038</td>\n",
       "    </tr>\n",
       "    <tr>\n",
       "      <th>8</th>\n",
       "      <td>606162.818641</td>\n",
       "      <td>638511.734296</td>\n",
       "    </tr>\n",
       "    <tr>\n",
       "      <th>9</th>\n",
       "      <td>645469.366440</td>\n",
       "      <td>678111.949035</td>\n",
       "    </tr>\n",
       "    <tr>\n",
       "      <th>10</th>\n",
       "      <td>657138.012746</td>\n",
       "      <td>689889.420338</td>\n",
       "    </tr>\n",
       "    <tr>\n",
       "      <th>11</th>\n",
       "      <td>678527.555528</td>\n",
       "      <td>711457.810939</td>\n",
       "    </tr>\n",
       "    <tr>\n",
       "      <th>12</th>\n",
       "      <td>573771.277776</td>\n",
       "      <td>605422.529600</td>\n",
       "    </tr>\n",
       "    <tr>\n",
       "      <th>13</th>\n",
       "      <td>530485.689929</td>\n",
       "      <td>561560.111843</td>\n",
       "    </tr>\n",
       "    <tr>\n",
       "      <th>14</th>\n",
       "      <td>584245.241794</td>\n",
       "      <td>616020.549338</td>\n",
       "    </tr>\n",
       "    <tr>\n",
       "      <th>15</th>\n",
       "      <td>582797.095481</td>\n",
       "      <td>614553.052863</td>\n",
       "    </tr>\n",
       "    <tr>\n",
       "      <th>16</th>\n",
       "      <td>505300.663308</td>\n",
       "      <td>535907.105726</td>\n",
       "    </tr>\n",
       "    <tr>\n",
       "      <th>17</th>\n",
       "      <td>503106.502732</td>\n",
       "      <td>533608.557717</td>\n",
       "    </tr>\n",
       "    <tr>\n",
       "      <th>18</th>\n",
       "      <td>507590.103759</td>\n",
       "      <td>538188.659211</td>\n",
       "    </tr>\n",
       "    <tr>\n",
       "      <th>19</th>\n",
       "      <td>420728.630841</td>\n",
       "      <td>449301.837185</td>\n",
       "    </tr>\n",
       "    <tr>\n",
       "      <th>20</th>\n",
       "      <td>415006.737084</td>\n",
       "      <td>444668.178526</td>\n",
       "    </tr>\n",
       "    <tr>\n",
       "      <th>21</th>\n",
       "      <td>432908.604438</td>\n",
       "      <td>463025.283353</td>\n",
       "    </tr>\n",
       "    <tr>\n",
       "      <th>22</th>\n",
       "      <td>359894.267164</td>\n",
       "      <td>387818.965716</td>\n",
       "    </tr>\n",
       "    <tr>\n",
       "      <th>23</th>\n",
       "      <td>423197.299264</td>\n",
       "      <td>453060.942232</td>\n",
       "    </tr>\n",
       "    <tr>\n",
       "      <th>24</th>\n",
       "      <td>307223.028851</td>\n",
       "      <td>337731.778351</td>\n",
       "    </tr>\n",
       "    <tr>\n",
       "      <th>25</th>\n",
       "      <td>319156.377049</td>\n",
       "      <td>350194.547114</td>\n",
       "    </tr>\n",
       "    <tr>\n",
       "      <th>26</th>\n",
       "      <td>265367.829295</td>\n",
       "      <td>296171.218572</td>\n",
       "    </tr>\n",
       "    <tr>\n",
       "      <th>27</th>\n",
       "      <td>346669.964857</td>\n",
       "      <td>378624.869729</td>\n",
       "    </tr>\n",
       "    <tr>\n",
       "      <th>28</th>\n",
       "      <td>242507.877603</td>\n",
       "      <td>271879.910037</td>\n",
       "    </tr>\n",
       "    <tr>\n",
       "      <th>29</th>\n",
       "      <td>230197.504726</td>\n",
       "      <td>258257.821846</td>\n",
       "    </tr>\n",
       "    <tr>\n",
       "      <th>...</th>\n",
       "      <td>...</td>\n",
       "      <td>...</td>\n",
       "    </tr>\n",
       "    <tr>\n",
       "      <th>178</th>\n",
       "      <td>488958.806223</td>\n",
       "      <td>519547.733765</td>\n",
       "    </tr>\n",
       "    <tr>\n",
       "      <th>179</th>\n",
       "      <td>478462.819663</td>\n",
       "      <td>508865.329496</td>\n",
       "    </tr>\n",
       "    <tr>\n",
       "      <th>180</th>\n",
       "      <td>416516.494112</td>\n",
       "      <td>446381.167015</td>\n",
       "    </tr>\n",
       "    <tr>\n",
       "      <th>181</th>\n",
       "      <td>416571.804929</td>\n",
       "      <td>446506.660127</td>\n",
       "    </tr>\n",
       "    <tr>\n",
       "      <th>182</th>\n",
       "      <td>401488.882076</td>\n",
       "      <td>430810.212161</td>\n",
       "    </tr>\n",
       "    <tr>\n",
       "      <th>183</th>\n",
       "      <td>405004.016692</td>\n",
       "      <td>434527.085388</td>\n",
       "    </tr>\n",
       "    <tr>\n",
       "      <th>184</th>\n",
       "      <td>262965.502148</td>\n",
       "      <td>290499.484712</td>\n",
       "    </tr>\n",
       "    <tr>\n",
       "      <th>185</th>\n",
       "      <td>332089.251914</td>\n",
       "      <td>359380.054677</td>\n",
       "    </tr>\n",
       "    <tr>\n",
       "      <th>186</th>\n",
       "      <td>333257.194571</td>\n",
       "      <td>360567.061662</td>\n",
       "    </tr>\n",
       "    <tr>\n",
       "      <th>187</th>\n",
       "      <td>333157.069307</td>\n",
       "      <td>360633.905536</td>\n",
       "    </tr>\n",
       "    <tr>\n",
       "      <th>188</th>\n",
       "      <td>179207.977551</td>\n",
       "      <td>211646.848956</td>\n",
       "    </tr>\n",
       "    <tr>\n",
       "      <th>189</th>\n",
       "      <td>211389.951523</td>\n",
       "      <td>244971.990641</td>\n",
       "    </tr>\n",
       "    <tr>\n",
       "      <th>190</th>\n",
       "      <td>176033.514567</td>\n",
       "      <td>208308.865626</td>\n",
       "    </tr>\n",
       "    <tr>\n",
       "      <th>191</th>\n",
       "      <td>175512.564280</td>\n",
       "      <td>207805.238717</td>\n",
       "    </tr>\n",
       "    <tr>\n",
       "      <th>192</th>\n",
       "      <td>541654.828391</td>\n",
       "      <td>574489.407056</td>\n",
       "    </tr>\n",
       "    <tr>\n",
       "      <th>193</th>\n",
       "      <td>532949.446373</td>\n",
       "      <td>565738.689223</td>\n",
       "    </tr>\n",
       "    <tr>\n",
       "      <th>194</th>\n",
       "      <td>551726.410334</td>\n",
       "      <td>584674.756829</td>\n",
       "    </tr>\n",
       "    <tr>\n",
       "      <th>195</th>\n",
       "      <td>544084.339545</td>\n",
       "      <td>576928.452905</td>\n",
       "    </tr>\n",
       "    <tr>\n",
       "      <th>196</th>\n",
       "      <td>185291.791571</td>\n",
       "      <td>204291.915381</td>\n",
       "    </tr>\n",
       "    <tr>\n",
       "      <th>197</th>\n",
       "      <td>184126.021524</td>\n",
       "      <td>202778.227326</td>\n",
       "    </tr>\n",
       "    <tr>\n",
       "      <th>198</th>\n",
       "      <td>179983.386972</td>\n",
       "      <td>197394.971447</td>\n",
       "    </tr>\n",
       "    <tr>\n",
       "      <th>199</th>\n",
       "      <td>180915.272381</td>\n",
       "      <td>198478.628174</td>\n",
       "    </tr>\n",
       "    <tr>\n",
       "      <th>200</th>\n",
       "      <td>181230.083182</td>\n",
       "      <td>200421.898565</td>\n",
       "    </tr>\n",
       "    <tr>\n",
       "      <th>201</th>\n",
       "      <td>193835.494669</td>\n",
       "      <td>215080.402696</td>\n",
       "    </tr>\n",
       "    <tr>\n",
       "      <th>202</th>\n",
       "      <td>195975.614754</td>\n",
       "      <td>217670.899770</td>\n",
       "    </tr>\n",
       "    <tr>\n",
       "      <th>203</th>\n",
       "      <td>192176.424597</td>\n",
       "      <td>213165.902075</td>\n",
       "    </tr>\n",
       "    <tr>\n",
       "      <th>204</th>\n",
       "      <td>172299.961356</td>\n",
       "      <td>185944.405759</td>\n",
       "    </tr>\n",
       "    <tr>\n",
       "      <th>205</th>\n",
       "      <td>178834.744905</td>\n",
       "      <td>195444.748658</td>\n",
       "    </tr>\n",
       "    <tr>\n",
       "      <th>206</th>\n",
       "      <td>180429.326064</td>\n",
       "      <td>197811.440589</td>\n",
       "    </tr>\n",
       "    <tr>\n",
       "      <th>207</th>\n",
       "      <td>178573.647549</td>\n",
       "      <td>195146.758713</td>\n",
       "    </tr>\n",
       "  </tbody>\n",
       "</table>\n",
       "<p>208 rows × 2 columns</p>\n",
       "</div>"
      ],
      "text/plain": [
       "                C1           C1.1\n",
       "0     30689.847019   10207.351751\n",
       "1     17012.226055   19852.323747\n",
       "2     31388.742966    9461.181602\n",
       "3     44681.052026   14730.684199\n",
       "4    746580.197405  780090.848986\n",
       "5    726033.088672  759437.814625\n",
       "6    724729.141252  758114.710099\n",
       "7    633931.037733  666811.239038\n",
       "8    606162.818641  638511.734296\n",
       "9    645469.366440  678111.949035\n",
       "10   657138.012746  689889.420338\n",
       "11   678527.555528  711457.810939\n",
       "12   573771.277776  605422.529600\n",
       "13   530485.689929  561560.111843\n",
       "14   584245.241794  616020.549338\n",
       "15   582797.095481  614553.052863\n",
       "16   505300.663308  535907.105726\n",
       "17   503106.502732  533608.557717\n",
       "18   507590.103759  538188.659211\n",
       "19   420728.630841  449301.837185\n",
       "20   415006.737084  444668.178526\n",
       "21   432908.604438  463025.283353\n",
       "22   359894.267164  387818.965716\n",
       "23   423197.299264  453060.942232\n",
       "24   307223.028851  337731.778351\n",
       "25   319156.377049  350194.547114\n",
       "26   265367.829295  296171.218572\n",
       "27   346669.964857  378624.869729\n",
       "28   242507.877603  271879.910037\n",
       "29   230197.504726  258257.821846\n",
       "..             ...            ...\n",
       "178  488958.806223  519547.733765\n",
       "179  478462.819663  508865.329496\n",
       "180  416516.494112  446381.167015\n",
       "181  416571.804929  446506.660127\n",
       "182  401488.882076  430810.212161\n",
       "183  405004.016692  434527.085388\n",
       "184  262965.502148  290499.484712\n",
       "185  332089.251914  359380.054677\n",
       "186  333257.194571  360567.061662\n",
       "187  333157.069307  360633.905536\n",
       "188  179207.977551  211646.848956\n",
       "189  211389.951523  244971.990641\n",
       "190  176033.514567  208308.865626\n",
       "191  175512.564280  207805.238717\n",
       "192  541654.828391  574489.407056\n",
       "193  532949.446373  565738.689223\n",
       "194  551726.410334  584674.756829\n",
       "195  544084.339545  576928.452905\n",
       "196  185291.791571  204291.915381\n",
       "197  184126.021524  202778.227326\n",
       "198  179983.386972  197394.971447\n",
       "199  180915.272381  198478.628174\n",
       "200  181230.083182  200421.898565\n",
       "201  193835.494669  215080.402696\n",
       "202  195975.614754  217670.899770\n",
       "203  192176.424597  213165.902075\n",
       "204  172299.961356  185944.405759\n",
       "205  178834.744905  195444.748658\n",
       "206  180429.326064  197811.440589\n",
       "207  178573.647549  195146.758713\n",
       "\n",
       "[208 rows x 2 columns]"
      ]
     },
     "execution_count": 9,
     "metadata": {},
     "output_type": "execute_result"
    }
   ],
   "source": [
    "df[['C1', 'C1.1']]"
   ]
  },
  {
   "cell_type": "code",
   "execution_count": 10,
   "metadata": {},
   "outputs": [
    {
     "data": {
      "text/plain": [
       "208"
      ]
     },
     "execution_count": 10,
     "metadata": {},
     "output_type": "execute_result"
    }
   ],
   "source": [
    "52*4"
   ]
  },
  {
   "cell_type": "code",
   "execution_count": 11,
   "metadata": {},
   "outputs": [
    {
     "data": {
      "text/plain": [
       "0.057692307692307696"
      ]
     },
     "execution_count": 11,
     "metadata": {},
     "output_type": "execute_result"
    }
   ],
   "source": [
    "12/208"
   ]
  },
  {
   "cell_type": "code",
   "execution_count": 12,
   "metadata": {},
   "outputs": [
    {
     "data": {
      "text/plain": [
       "196"
      ]
     },
     "execution_count": 12,
     "metadata": {},
     "output_type": "execute_result"
    }
   ],
   "source": [
    "208-12"
   ]
  },
  {
   "cell_type": "code",
   "execution_count": 31,
   "metadata": {},
   "outputs": [
    {
     "data": {
      "text/plain": [
       "Index(['C1', 'C1.1', 'C1.2', 'C1.3', 'C2', 'C2.1', 'C2.2', 'C2.3', 'C3',\n",
       "       'C3.1',\n",
       "       ...\n",
       "       'SJ.3', 'SK', 'SK.1', 'SK.2', 'SK.3', 'SQ', 'SQ.1', 'SQ.2', 'SQ.3',\n",
       "       'label'],\n",
       "      dtype='object', length=209)"
      ]
     },
     "execution_count": 31,
     "metadata": {},
     "output_type": "execute_result"
    }
   ],
   "source": [
    "df.columns"
   ]
  },
  {
   "cell_type": "code",
   "execution_count": 41,
   "metadata": {},
   "outputs": [
    {
     "name": "stdout",
     "output_type": "stream",
     "text": [
      "3029\n"
     ]
    }
   ],
   "source": [
    "tmp = None\n",
    "mySum = 0\n",
    "for i in range(len(df.columns)):\n",
    "    if df.columns[i]=='label': break\n",
    "    tmp = df[df[df.columns[i]]<77000][df.columns[i]]\n",
    "    mySum+=len(tmp)\n",
    "print(mySum)\n",
    "    "
   ]
  },
  {
   "cell_type": "code",
   "execution_count": 34,
   "metadata": {},
   "outputs": [
    {
     "data": {
      "text/plain": [
       "43264"
      ]
     },
     "execution_count": 34,
     "metadata": {},
     "output_type": "execute_result"
    }
   ],
   "source": [
    "208*208"
   ]
  },
  {
   "cell_type": "code",
   "execution_count": 37,
   "metadata": {},
   "outputs": [
    {
     "data": {
      "text/plain": [
       "'SQ'"
      ]
     },
     "execution_count": 37,
     "metadata": {},
     "output_type": "execute_result"
    }
   ],
   "source": [
    "tmp.name[:2]==df['']"
   ]
  },
  {
   "cell_type": "code",
   "execution_count": 40,
   "metadata": {},
   "outputs": [
    {
     "data": {
      "text/plain": [
       "'label'"
      ]
     },
     "execution_count": 40,
     "metadata": {},
     "output_type": "execute_result"
    }
   ],
   "source": [
    "df.columns[i]"
   ]
  },
  {
   "cell_type": "code",
   "execution_count": null,
   "metadata": {},
   "outputs": [],
   "source": []
  },
  {
   "cell_type": "code",
   "execution_count": null,
   "metadata": {},
   "outputs": [],
   "source": [
    "832개중에 46개 틀림 42,432개 중에 2,243개 틀림"
   ]
  },
  {
   "cell_type": "code",
   "execution_count": 43,
   "metadata": {},
   "outputs": [
    {
     "data": {
      "text/plain": [
       "0.05290772928994083"
      ]
     },
     "execution_count": 43,
     "metadata": {},
     "output_type": "execute_result"
    }
   ],
   "source": [
    "(46+2243)/(42432+832)"
   ]
  },
  {
   "cell_type": "code",
   "execution_count": null,
   "metadata": {},
   "outputs": [],
   "source": []
  }
 ],
 "metadata": {
  "kernelspec": {
   "display_name": "Python 3",
   "language": "python",
   "name": "python3"
  },
  "language_info": {
   "codemirror_mode": {
    "name": "ipython",
    "version": 3
   },
   "file_extension": ".py",
   "mimetype": "text/x-python",
   "name": "python",
   "nbconvert_exporter": "python",
   "pygments_lexer": "ipython3",
   "version": "3.7.3"
  }
 },
 "nbformat": 4,
 "nbformat_minor": 2
}
