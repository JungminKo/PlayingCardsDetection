{
 "cells": [
  {
   "cell_type": "code",
   "execution_count": 2,
   "metadata": {},
   "outputs": [],
   "source": [
    "import numpy as np\n",
    "import cv2\n",
    "import matplotlib.pyplot as plt\n",
    "import os"
   ]
  },
  {
   "cell_type": "code",
   "execution_count": 16,
   "metadata": {},
   "outputs": [
    {
     "name": "stdout",
     "output_type": "stream",
     "text": [
      "../dataset/test/C10.jpg\n",
      "../dataset/test/C2..jpg\n",
      "../dataset/test/C3..jpg\n",
      "../dataset/test/C4..jpg\n",
      "../dataset/test/C5..jpg\n",
      "../dataset/test/C6..jpg\n",
      "../dataset/test/C7..jpg\n",
      "../dataset/test/C8..jpg\n",
      "../dataset/test/C9..jpg\n",
      "../dataset/test/CA..jpg\n",
      "../dataset/test/CJ..jpg\n",
      "../dataset/test/CK..jpg\n",
      "../dataset/test/CQ..jpg\n",
      "../dataset/test/D10.jpg\n",
      "../dataset/test/D2..jpg\n",
      "../dataset/test/D3..jpg\n",
      "../dataset/test/D4..jpg\n",
      "../dataset/test/D5..jpg\n",
      "../dataset/test/D6..jpg\n",
      "../dataset/test/D7..jpg\n",
      "../dataset/test/D8..jpg\n",
      "../dataset/test/D9..jpg\n",
      "../dataset/test/DA..jpg\n",
      "../dataset/test/DJ..jpg\n",
      "../dataset/test/DK..jpg\n",
      "../dataset/test/DQ..jpg\n",
      "../dataset/test/H10.jpg\n",
      "../dataset/test/H2..jpg\n",
      "../dataset/test/H3..jpg\n",
      "../dataset/test/H4..jpg\n",
      "../dataset/test/H5..jpg\n",
      "../dataset/test/H6..jpg\n",
      "../dataset/test/H7..jpg\n",
      "../dataset/test/H8..jpg\n",
      "../dataset/test/H9..jpg\n",
      "../dataset/test/HA..jpg\n",
      "../dataset/test/HJ..jpg\n",
      "../dataset/test/HK..jpg\n",
      "../dataset/test/HQ..jpg\n",
      "../dataset/test/S10.jpg\n",
      "../dataset/test/S2..jpg\n",
      "../dataset/test/S3..jpg\n",
      "../dataset/test/S4..jpg\n",
      "../dataset/test/S5..jpg\n",
      "../dataset/test/S6..jpg\n",
      "../dataset/test/S7..jpg\n",
      "../dataset/test/S8..jpg\n",
      "../dataset/test/S9..jpg\n",
      "../dataset/test/SA..jpg\n",
      "../dataset/test/SJ..jpg\n",
      "../dataset/test/SK..jpg\n",
      "../dataset/test/SQ..jpg\n"
     ]
    }
   ],
   "source": [
    "for i in os.listdir('../dataset/card_deck1'):\n",
    "    img = cv2.imread('../dataset/card_deck1/'+i)\n",
    "#     plt.imshow(img)\n",
    "    print('../dataset/test/'+i[:3]+'.jpg')\n",
    "    cv2.imwrite( '../dataset/test/'+i[:2]+'.jpg',img)\n"
   ]
  },
  {
   "cell_type": "code",
   "execution_count": 4,
   "metadata": {},
   "outputs": [
    {
     "data": {
      "text/plain": [
       "<matplotlib.image.AxesImage at 0x1ad26e907f0>"
      ]
     },
     "execution_count": 4,
     "metadata": {},
     "output_type": "execute_result"
    },
    {
     "data": {
      "image/png": "[encoded data removed]",
      "text/plain": [
       "<Figure size 432x288 with 1 Axes>"
      ]
     },
     "metadata": {
      "needs_background": "light"
     },
     "output_type": "display_data"
    }
   ],
   "source": [
    "image = cv2.imread('../dataset/card_deck1/H3.png')\n",
    "gray = cv2.cvtColor(image, cv2.COLOR_RGB2GRAY)\n",
    "\n",
    "plt.imshow(cv2.cvtColor(image, cv2.COLOR_RGB2BGR))"
   ]
  },
  {
   "cell_type": "code",
   "execution_count": null,
   "metadata": {},
   "outputs": [],
   "source": []
  }
 ],
 "metadata": {
  "kernelspec": {
   "display_name": "Python 3",
   "language": "python",
   "name": "python3"
  },
  "language_info": {
   "codemirror_mode": {
    "name": "ipython",
    "version": 3
   },
   "file_extension": ".py",
   "mimetype": "text/x-python",
   "name": "python",
   "nbconvert_exporter": "python",
   "pygments_lexer": "ipython3",
   "version": "3.7.3"
  }
 },
 "nbformat": 4,
 "nbformat_minor": 2
}
