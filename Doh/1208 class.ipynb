{
 "cells": [
  {
   "cell_type": "code",
   "execution_count": 1,
   "metadata": {},
   "outputs": [],
   "source": [
    "import numpy as np\n",
    "import cv2\n",
    "import matplotlib.pyplot as plt\n",
    "from numpy import linalg as LA\n",
    "import os\n",
    "import pandas as pd"
   ]
  },
  {
   "cell_type": "code",
   "execution_count": 2,
   "metadata": {},
   "outputs": [],
   "source": [
    "data_loc = '../dataset/'\n",
    "decklist = os.listdir(data_loc)\n",
    "filelist = os.listdir(data_loc+decklist[0]+'/')\n",
    "\n",
    "length = len(decklist)*len(filelist)\n",
    "imgary = np.zeros((length, 120*100))\n",
    "labels = []\n",
    "n=0\n",
    "for i in decklist:\n",
    "    for j in filelist:\n",
    "        tmpimg = cv2.imread(data_loc+i+'/'+j, cv2.IMREAD_GRAYSCALE)\n",
    "        tmpimg = cv2.Canny(tmpimg, 70, 100)\n",
    "        tmpimg = np.reshape(tmpimg, (-1,))\n",
    "        imgary[n] = tmpimg\n",
    "        labels.append(j[:-4])\n",
    "        n+=1"
   ]
  },
  {
   "cell_type": "code",
   "execution_count": 7,
   "metadata": {},
   "outputs": [],
   "source": [
    "labels_shape =  [name[0]for name in labels]\n",
    "labels_num =  [name[1:]for name in labels]\n",
    "labels_shape_pd = pd.DataFrame(labels_shape)\n",
    "labels_num_pd = pd.DataFrame(labels_num)"
   ]
  },
  {
   "cell_type": "code",
   "execution_count": 8,
   "metadata": {},
   "outputs": [],
   "source": [
    "from sklearn.model_selection import StratifiedShuffleSplit\n",
    "\n",
    "split = StratifiedShuffleSplit(n_splits=1, test_size=0.2, random_state=42)"
   ]
  },
  {
   "cell_type": "code",
   "execution_count": 9,
   "metadata": {},
   "outputs": [],
   "source": [
    "for train_index, test_index in split.split(imgary, labels_shape):\n",
    "    X_train_shape = imgary[train_index]\n",
    "    y_train_shape = labels_shape_pd.loc[train_index]\n",
    "    X_test_shape = imgary[test_index]\n",
    "    y_test_shape = labels_shape_pd.loc[test_index]"
   ]
  },
  {
   "cell_type": "code",
   "execution_count": 10,
   "metadata": {},
   "outputs": [],
   "source": [
    "for train_index, test_index in split.split(imgary, labels_num):\n",
    "    X_train_num = imgary[train_index]\n",
    "    y_train_num = labels_num_pd.loc[train_index]\n",
    "    X_test_num = imgary[test_index]\n",
    "    y_test_num = labels_num_pd.loc[test_index]"
   ]
  },
  {
   "cell_type": "code",
   "execution_count": 11,
   "metadata": {},
   "outputs": [],
   "source": [
    "y_train_shape = np.array(y_train_shape).reshape(-1,)\n",
    "y_test_shape = np.array(y_test_shape).reshape(-1,)\n",
    "y_train_num = np.array(y_train_num).reshape(-1,)\n",
    "y_test_num = np.array(y_test_num).reshape(-1,)"
   ]
  },
  {
   "cell_type": "code",
   "execution_count": 12,
   "metadata": {},
   "outputs": [
    {
     "data": {
      "text/plain": [
       "array(['H', 'C', 'S', 'C', 'H', 'S', 'D', 'S', 'D', 'D', 'D', 'C', 'D',\n",
       "       'H', 'S', 'D', 'D', 'H', 'D', 'C', 'D', 'D', 'H', 'C', 'C', 'C',\n",
       "       'D', 'D', 'H', 'C', 'D', 'D', 'D', 'D', 'S', 'H', 'S', 'H', 'D',\n",
       "       'C', 'H', 'S', 'S', 'D', 'D', 'S', 'D', 'H', 'D', 'D', 'H', 'D',\n",
       "       'S', 'S', 'C', 'S', 'C', 'D', 'H', 'C', 'C', 'C', 'S', 'H', 'D',\n",
       "       'C', 'C', 'C', 'D', 'S', 'H', 'C', 'D', 'H', 'C', 'C', 'S', 'S',\n",
       "       'S', 'C', 'S', 'D', 'H', 'S', 'S', 'D', 'C', 'D', 'C', 'D', 'S',\n",
       "       'S', 'H', 'D', 'H', 'H', 'C', 'C', 'D', 'S', 'D', 'C', 'D', 'D',\n",
       "       'H', 'S', 'H', 'D', 'D', 'H', 'H', 'C', 'S', 'H', 'S', 'C', 'C',\n",
       "       'S', 'H', 'D', 'C', 'C', 'C', 'D', 'C', 'C', 'C', 'S', 'D', 'H',\n",
       "       'C', 'D', 'C', 'S', 'H', 'C', 'C', 'C', 'H', 'C', 'C', 'H', 'H',\n",
       "       'H', 'H', 'H', 'H', 'H', 'S', 'S', 'S', 'C', 'H', 'C', 'D', 'S',\n",
       "       'S', 'H', 'S', 'H', 'D', 'H', 'S', 'S', 'D', 'S', 'S', 'S', 'S',\n",
       "       'D', 'H', 'S', 'S', 'H', 'D', 'H', 'H', 'H', 'S', 'H', 'S', 'C',\n",
       "       'S', 'C', 'H', 'C', 'S', 'C', 'H', 'D', 'H', 'D', 'H', 'C', 'D',\n",
       "       'C', 'S', 'H', 'S', 'S', 'C', 'H', 'D', 'D', 'C', 'H', 'S', 'S'],\n",
       "      dtype=object)"
      ]
     },
     "execution_count": 12,
     "metadata": {},
     "output_type": "execute_result"
    }
   ],
   "source": [
    "y_train_shape"
   ]
  },
  {
   "cell_type": "code",
   "execution_count": 13,
   "metadata": {},
   "outputs": [
    {
     "data": {
      "text/plain": [
       "array(['D', 'S', 'C', 'H', 'C', 'H', 'H', 'C', 'D', 'C', 'D', 'D', 'C',\n",
       "       'H', 'C', 'S', 'D', 'S', 'S', 'S', 'H', 'C', 'H', 'C', 'D', 'H',\n",
       "       'S', 'D', 'C', 'C', 'S', 'S', 'C', 'D', 'S', 'H', 'H', 'D', 'S',\n",
       "       'S', 'S', 'C', 'S', 'H', 'C', 'H', 'D', 'H', 'D', 'H', 'D', 'D'],\n",
       "      dtype=object)"
      ]
     },
     "execution_count": 13,
     "metadata": {},
     "output_type": "execute_result"
    }
   ],
   "source": [
    "y_test_shape"
   ]
  },
  {
   "cell_type": "code",
   "execution_count": 14,
   "metadata": {},
   "outputs": [
    {
     "data": {
      "text/plain": [
       "array([[  0.,   0., 255., ...,   0.,   0.,   0.],\n",
       "       [  0.,   0.,   0., ..., 255., 255., 255.],\n",
       "       [  0.,   0.,   0., ..., 255.,   0.,   0.],\n",
       "       ...,\n",
       "       [255.,   0.,   0., ...,   0.,   0., 255.],\n",
       "       [255.,   0.,   0., ...,   0.,   0., 255.],\n",
       "       [  0., 255.,   0., ...,   0., 255., 255.]])"
      ]
     },
     "execution_count": 14,
     "metadata": {},
     "output_type": "execute_result"
    }
   ],
   "source": [
    "X_test_num"
   ]
  }
 ],
 "metadata": {
  "kernelspec": {
   "display_name": "Python 3",
   "language": "python",
   "name": "python3"
  },
  "language_info": {
   "codemirror_mode": {
    "name": "ipython",
    "version": 3
   },
   "file_extension": ".py",
   "mimetype": "text/x-python",
   "name": "python",
   "nbconvert_exporter": "python",
   "pygments_lexer": "ipython3",
   "version": "3.7.3"
  }
 },
 "nbformat": 4,
 "nbformat_minor": 2
}
