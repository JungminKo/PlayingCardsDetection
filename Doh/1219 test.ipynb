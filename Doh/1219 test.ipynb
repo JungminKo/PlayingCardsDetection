{
 "cells": [
  {
   "cell_type": "code",
   "execution_count": null,
   "metadata": {},
   "outputs": [],
   "source": [
    "import cv2\n",
    "import numpy as np\n",
    "import matplotlib.pyplot as plt\n",
    "import os, math\n",
    "\n",
    "# from myPerspective import perspective_if_only_one_card"
   ]
  },
  {
   "cell_type": "code",
   "execution_count": null,
   "metadata": {},
   "outputs": [],
   "source": [
    "warp, temp_rect = perspective_if_only_one_card('../Jungmin/test.png')"
   ]
  },
  {
   "cell_type": "code",
   "execution_count": 51,
   "metadata": {},
   "outputs": [],
   "source": [
    "def perspective_if_only_one_card_img(image):\n",
    "\n",
    "    ## contour를 찾는 작업\n",
    "    tresh_min = 100\n",
    "    tresh_max = 255\n",
    "    im_bw = cv2.cvtColor(image, cv2.COLOR_BGR2GRAY)\n",
    "    thresh, im_bw = cv2.threshold(im_bw, tresh_min, tresh_max, 0)\n",
    "    contour, hierarchy = cv2.findContours(im_bw, cv2.RETR_EXTERNAL, cv2.CHAIN_APPROX_SIMPLE)\n",
    "    \n",
    "    # contour를 바탕으로 사각형의 좌표를 찾는 작업\n",
    "    rect = cv2.minAreaRect(contour[0])\n",
    "    box = cv2.boxPoints(rect)\n",
    "    temp_rect = np.array(box, dtype = \"float32\")\n",
    "    temp_rect = temp_rect[np.argsort(temp_rect[:, 1])]\n",
    "    \n",
    "    # If card is horizontally oriented\n",
    "    if temp_rect[0][0]>temp_rect[1][0]:\n",
    "        temp = temp_rect[0].copy()\n",
    "        temp_rect[0] = temp_rect[1]\n",
    "        temp_rect[1] = temp\n",
    "\n",
    "    # If card is vertically oriented\n",
    "    if temp_rect[2][0]<temp_rect[3][0]:\n",
    "        temp = temp_rect[2].copy()\n",
    "        temp_rect[2] = temp_rect[3]\n",
    "        temp_rect[3] = temp\n",
    "    \n",
    "    # wrapPerspective 하는 작업\n",
    "    maxWidth = 100\n",
    "    maxHeight = 120\n",
    "    dst = np.array([[0,0],[maxWidth-1,0],[maxWidth-1,maxHeight-1],[0, maxHeight-1]], np.float32)\n",
    "    M = cv2.getPerspectiveTransform(temp_rect,dst)\n",
    "    warp = cv2.warpPerspective(image, M, (maxWidth, maxHeight)) # warp에 이미지 담김\n",
    "    warp = cv2.cvtColor(warp,cv2.COLOR_BGR2GRAY)\n",
    "    \n",
    "    # wrap 이미지랑 꼭지점 담긴 행렬 돌려줌\n",
    "    return warp, temp_rect"
   ]
  },
  {
   "cell_type": "code",
   "execution_count": 95,
   "metadata": {},
   "outputs": [],
   "source": [
    "def perspective2(image):\n",
    "    ## contours를 찾는 작업\n",
    "    tresh_min = 100\n",
    "    tresh_max = 255\n",
    "\n",
    "    im_bw = cv2.cvtColor(image, cv2.COLOR_BGR2GRAY)\n",
    "    thresh, im_bw = cv2.threshold(im_bw, tresh_min, tresh_max, 0)\n",
    "    contours, hierarchy = cv2.findContours(im_bw, cv2.RETR_TREE, cv2.CHAIN_APPROX_SIMPLE)\n",
    "    \n",
    "    # 모서리를 찾는 작업\n",
    "    rects = [cv2.minAreaRect(each) for each in contours]\n",
    "    rects = [(a,b,c) for a, b, c  in rects if ((b[0]*b[1]>9000))]\n",
    "    for rect in rects:\n",
    "        box = cv2.boxPoints(rect)\n",
    "        box = box.astype('int')\n",
    "#         img2 = cv2.drawContours(img, [box], -1, (0, 0, 255), 5)\n",
    "        \n",
    "    temp_rect = np.array(box, dtype = \"float32\")\n",
    "    temp_rect = temp_rect[np.argsort(temp_rect[:, 1])]\n",
    "    if temp_rect[0][0]>temp_rect[1][0]:\n",
    "        temp = temp_rect[0].copy()\n",
    "        temp_rect[0] = temp_rect[1]\n",
    "        temp_rect[1] = temp\n",
    "    if temp_rect[2][0]<temp_rect[3][0]:\n",
    "        temp = temp_rect[2].copy()\n",
    "        temp_rect[2] = temp_rect[3]\n",
    "        temp_rect[3] = temp\n",
    "    # wrapPerspective 하는 작업\n",
    "    maxWidth = 100\n",
    "    maxHeight = 120\n",
    "    dst = np.array([[0,0],[maxWidth-1,0],[maxWidth-1,maxHeight-1],[0, maxHeight-1]], np.float32)\n",
    "    M = cv2.getPerspectiveTransform(temp_rect,dst)\n",
    "    warp = cv2.warpPerspective(image, M, (maxWidth, maxHeight)) # warp에 이미지 담김\n",
    "    warp = cv2.cvtColor(warp,cv2.COLOR_BGR2GRAY)\n",
    "    \n",
    "    # wrap 이미지랑 꼭지점 담긴 행렬 돌려줌\n",
    "    return warp, temp_rect"
   ]
  },
  {
   "cell_type": "code",
   "execution_count": 52,
   "metadata": {},
   "outputs": [],
   "source": [
    "data_loc = '../big_au/sample1/'\n",
    "decklist = os.listdir(data_loc)\n",
    "cardlist=[]\n",
    "for i in os.listdir(data_loc):\n",
    "    cardlist.append(i)\n",
    "#     print(i)\n",
    "imglist = []\n",
    "authentic = []\n",
    "imposter = []\n",
    "for i in cardlist:\n",
    "#     print(i)\n",
    "#     perspective_if_only_one_card(data_loc+i+'.jpg')\n",
    "    \n",
    "    tmpimg = cv2.imread(data_loc+i)\n",
    "#     tmpimg = cv2.resize(tmpimg, (96, 128), interpolation=cv2.INTER_AREA)\n",
    "    imglist.append(tmpimg)\n",
    "imglist = np.array(imglist)"
   ]
  },
  {
   "cell_type": "code",
   "execution_count": 63,
   "metadata": {},
   "outputs": [],
   "source": [
    "C10 = cv2.imread('../dataset/card_deck1/C10.jpg', cv2.IMREAD_GRAYSCALE)"
   ]
  },
  {
   "cell_type": "code",
   "execution_count": 53,
   "metadata": {},
   "outputs": [
    {
     "data": {
      "text/plain": [
       "(208, 170, 150, 3)"
      ]
     },
     "execution_count": 53,
     "metadata": {},
     "output_type": "execute_result"
    }
   ],
   "source": [
    "imglist.shape"
   ]
  },
  {
   "cell_type": "code",
   "execution_count": 55,
   "metadata": {},
   "outputs": [],
   "source": [
    "warp, temp_rect =perspective_if_only_one_card_img(imglist[0])"
   ]
  },
  {
   "cell_type": "code",
   "execution_count": 97,
   "metadata": {},
   "outputs": [
    {
     "data": {
      "image/png": "[encoded data removed]",
      "text/plain": [
       "<Figure size 432x288 with 1 Axes>"
      ]
     },
     "metadata": {
      "needs_background": "light"
     },
     "output_type": "display_data"
    }
   ],
   "source": [
    "authentic = []\n",
    "imposter = []\n",
    "for i in range(len(imglist)):\n",
    "    warp, _ =perspective2(imglist[i])\n",
    "    diff_img = cv2.absdiff(C10,warp)\n",
    "    if i > 3: \n",
    "        authentic.append(diff_img.sum())\n",
    "    else: \n",
    "        imposter.append(diff_img.sum())\n",
    "authentic = np.array(authentic)\n",
    "imposter = np.array(imposter)\n",
    "plt.hist(authentic, range=[0,1200000],  color = 'r',  bins=50, alpha = 0.6)\n",
    "plt.hist(imposter, range=[0,1200000],  color = 'b',  bins=50, alpha = 0.6)\n",
    "plt.title('C10')\n",
    "plt.show()"
   ]
  },
  {
   "cell_type": "code",
   "execution_count": 100,
   "metadata": {},
   "outputs": [
    {
     "data": {
      "image/png": "[encoded data removed]",
      "text/plain": [
       "<Figure size 432x288 with 1 Axes>"
      ]
     },
     "metadata": {
      "needs_background": "light"
     },
     "output_type": "display_data"
    }
   ],
   "source": [
    "authentic = []\n",
    "imposter = []\n",
    "test = cv2.imread('../dataset/card_deck1/C10.jpg', cv2.IMREAD_GRAYSCALE)\n",
    "for i in range(len(imglist)):\n",
    "    warp, _ =perspective2(imglist[i])\n",
    "    diff_img = cv2.absdiff(test,warp)\n",
    "    if i>3 & i<8: \n",
    "        authentic.append(diff_img.sum())\n",
    "    else: \n",
    "        imposter.append(diff_img.sum())\n",
    "authentic = np.array(authentic)\n",
    "imposter = np.array(imposter)\n",
    "plt.hist(authentic, range=[0,1200000],  color = 'r',  bins=50, alpha = 0.6)\n",
    "plt.hist(imposter, range=[0,1200000],  color = 'b',  bins=50, alpha = 0.6)\n",
    "plt.title('C10')\n",
    "plt.show()"
   ]
  },
  {
   "cell_type": "code",
   "execution_count": 98,
   "metadata": {},
   "outputs": [
    {
     "data": {
      "image/png": "[encoded data removed]",
      "text/plain": [
       "<Figure size 432x288 with 1 Axes>"
      ]
     },
     "metadata": {
      "needs_background": "light"
     },
     "output_type": "display_data"
    }
   ],
   "source": [
    "authentic = []\n",
    "imposter = []\n",
    "for i in range(len(imglist)):\n",
    "    warp, _ =perspective_if_only_one_card_img(imglist[i])\n",
    "    diff_img = cv2.absdiff(C10,warp)\n",
    "    if i > 3: \n",
    "        authentic.append(diff_img.sum())\n",
    "    else: \n",
    "        imposter.append(diff_img.sum())\n",
    "authentic = np.array(authentic)\n",
    "imposter = np.array(imposter)\n",
    "plt.hist(authentic, range=[0,1200000],  color = 'r',  bins=50, alpha = 0.6)\n",
    "plt.hist(imposter, range=[0,1200000],  color = 'b',  bins=50, alpha = 0.6)\n",
    "plt.title('C10')\n",
    "plt.show()"
   ]
  },
  {
   "cell_type": "code",
   "execution_count": 103,
   "metadata": {},
   "outputs": [],
   "source": [
    "cards = []\n",
    "for i in os.listdir('../dataset/card_deck1'):\n",
    "#     print(i)\n",
    "    cards.append(cv2.imread('../dataset/card_deck1/'+i, cv2.IMREAD_GRAYSCALE))\n",
    "cards = np.array(cards)"
   ]
  },
  {
   "cell_type": "code",
   "execution_count": 104,
   "metadata": {},
   "outputs": [
    {
     "data": {
      "text/plain": [
       "(52, 120, 100)"
      ]
     },
     "execution_count": 104,
     "metadata": {},
     "output_type": "execute_result"
    }
   ],
   "source": [
    "cards.shape"
   ]
  },
  {
   "cell_type": "code",
   "execution_count": 109,
   "metadata": {},
   "outputs": [
    {
     "data": {
      "image/png": "[encoded data removed]",
      "text/plain": [
       "<Figure size 432x288 with 1 Axes>"
      ]
     },
     "metadata": {
      "needs_background": "light"
     },
     "output_type": "display_data"
    }
   ],
   "source": [
    "authentic = []\n",
    "imposter = []\n",
    "for card in range(len(cards)):\n",
    "    for i in range(len(imglist)):\n",
    "        warp, _ =perspective2(imglist[i])\n",
    "        diff_img = cv2.absdiff(cards[card], warp)\n",
    "        if card == int(i/4): \n",
    "            authentic.append(diff_img.sum())\n",
    "        else: \n",
    "            imposter.append(diff_img.sum())\n",
    "authentic = np.array(authentic)\n",
    "imposter = np.array(imposter)\n",
    "plt.hist(authentic, range=[0,1200000],  color = 'r',  bins=50, alpha = 0.6)\n",
    "plt.hist(imposter, range=[0,1200000],  color = 'b',  bins=50, alpha = 0.6)\n",
    "plt.title('C10')\n",
    "plt.show()"
   ]
  },
  {
   "cell_type": "code",
   "execution_count": null,
   "metadata": {},
   "outputs": [],
   "source": []
  }
 ],
 "metadata": {
  "kernelspec": {
   "display_name": "Python 3",
   "language": "python",
   "name": "python3"
  },
  "language_info": {
   "codemirror_mode": {
    "name": "ipython",
    "version": 3
   },
   "file_extension": ".py",
   "mimetype": "text/x-python",
   "name": "python",
   "nbconvert_exporter": "python",
   "pygments_lexer": "ipython3",
   "version": "3.7.3"
  }
 },
 "nbformat": 4,
 "nbformat_minor": 2
}
