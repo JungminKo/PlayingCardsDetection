{
 "cells": [
  {
   "cell_type": "code",
   "execution_count": null,
   "metadata": {},
   "outputs": [],
   "source": [
    "import numpy as np\n",
    "import cv2\n",
    "import matplotlib.pyplot as plt"
   ]
  },
  {
   "cell_type": "code",
   "execution_count": null,
   "metadata": {},
   "outputs": [],
   "source": [
    "digits = cv2.imread('digits.png', cv2.IMREAD_GRAYSCALE)\n",
    "\n",
    "h, w = digits.shape[:2]\n",
    "hog = cv2.HOGDescriptor((20, 20), (10, 10), (5, 5), (5, 5), 9)\n",
    "\n",
    "cells = [np.hsplit(row, w//20) for row in np.vsplit(digits, h//20)]\n",
    "cells = np.array(cells)\n",
    "cells = cells.reshape(-1, 20, 20)\n",
    "\n",
    "desc = []\n",
    "for img in cells:\n",
    "    dd = hog.compute(img)\n",
    "    desc.append(dd)\n",
    "\n",
    "train_desc = np.array(desc).squeeze().astype(np.float32)\n",
    "train_labels = np.repeat(np.arange(10), len(train_desc)/10)\n",
    "\n",
    "# Training SVM\n",
    "\n",
    "svm = cv2.ml.SVM_create()\n",
    "svm.setType(cv2.ml.SVM_C_SVC)\n",
    "svm.setKernel(cv2.ml.SVM_RBF)\n",
    "svm.setC(2.5)\n",
    "svm.setGamma(0.50625)\n",
    "svm.train(train_desc, cv2.ml.ROW_SAMPLE, train_labels)\n",
    "\n",
    "# Tests\n",
    "\n",
    "img = np.zeros((400, 400), np.uint8)\n",
    "\n",
    "plt.imshow(img)"
   ]
  },
  {
   "cell_type": "code",
   "execution_count": null,
   "metadata": {},
   "outputs": [],
   "source": [
    "train_desc.shape"
   ]
  },
  {
   "cell_type": "code",
   "execution_count": null,
   "metadata": {},
   "outputs": [],
   "source": [
    "img_resize = cv2.resize(img, (20, 20), interpolation=cv2.INTER_AREA)\n",
    "\n",
    "desc = hog.compute(img_resize)\n",
    "test_desc = np.array(desc).astype(np.float32)\n",
    "\n",
    "_, res = svm.predict(test_desc.T)\n",
    "print(int(res[0, 0]))"
   ]
  },
  {
   "cell_type": "code",
   "execution_count": null,
   "metadata": {},
   "outputs": [],
   "source": [
    "img = cv2.imread('heart3.jpg', cv2.IMREAD_GRAYSCALE)"
   ]
  },
  {
   "cell_type": "code",
   "execution_count": null,
   "metadata": {},
   "outputs": [],
   "source": [
    "cell_size = (8,8)\n",
    "block_size = (2,2)\n",
    "nbins = 9\n",
    "hog = cv2.HOGDescriptor(_winSize = (img.shape[1]//cell_size[1] * cell_size[1],\n",
    "                                   img.shape[0] // cell_size[0] * cell_size[0]),\n",
    "                       _blockSize = (block_size[1] * cell_size[1],\n",
    "                                    block_size[0] * cell_size[0]),\n",
    "                       _blockStride = (cell_size[1], cell_size[0]),\n",
    "                       _cellSize = (cell_size[1], cell_size[0]),\n",
    "                       _nbins = nbins)"
   ]
  },
  {
   "cell_type": "code",
   "execution_count": null,
   "metadata": {},
   "outputs": [],
   "source": []
  },
  {
   "cell_type": "code",
   "execution_count": null,
   "metadata": {},
   "outputs": [],
   "source": []
  },
  {
   "cell_type": "code",
   "execution_count": null,
   "metadata": {},
   "outputs": [],
   "source": []
  }
 ],
 "metadata": {
  "kernelspec": {
   "display_name": "Python 3",
   "language": "python",
   "name": "python3"
  },
  "language_info": {
   "codemirror_mode": {
    "name": "ipython",
    "version": 3
   },
   "file_extension": ".py",
   "mimetype": "text/x-python",
   "name": "python",
   "nbconvert_exporter": "python",
   "pygments_lexer": "ipython3",
   "version": "3.7.3"
  }
 },
 "nbformat": 4,
 "nbformat_minor": 2
}
